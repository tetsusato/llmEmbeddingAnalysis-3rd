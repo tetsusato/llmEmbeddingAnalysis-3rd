{
 "cells": [
  {
   "cell_type": "markdown",
   "id": "e9f77879-f4da-4b10-aba6-d31723029328",
   "metadata": {},
   "source": [
    "### 2024/09/03 00:55\n",
    "2からバックポートして，2のコードでsbertを実行する"
   ]
  },
  {
   "cell_type": "code",
   "execution_count": 12,
   "id": "eddef374-f276-4f70-bffc-06ce5065154f",
   "metadata": {},
   "outputs": [
    {
     "name": "stdout",
     "output_type": "stream",
     "text": [
      "2024-09-03 01:08:58,290] MainProcess(1482003).MainThread(139852985743168) 1713546473.<module>(38) INFO -> input filename = model_outputs/sentence-transformers/embedding-data.parquet. Loading...\n"
     ]
    },
    {
     "name": "stderr",
     "output_type": "stream",
     "text": [
      "/home/tetsu_sato/llmEmbeddingAnalysis-3rd/.venv/lib/python3.12/site-packages/hydra/_internal/defaults_list.py:251: UserWarning:\n",
      "\n",
      "In 'config.yaml': Defaults list is missing `_self_`. See https://hydra.cc/docs/1.2/upgrades/1.0_to_1.1/default_composition_order for more information\n",
      "\n"
     ]
    },
    {
     "name": "stdout",
     "output_type": "stream",
     "text": [
      "2024-09-03 01:08:58,503] MainProcess(1482003).MainThread(139852985743168) 1713546473.<module>(40) INFO -> prepared vectors=(5749, 5)\n",
      "2024-09-03 01:08:58,505] MainProcess(1482003).MainThread(139852985743168) 1713546473.<module>(42) INFO -> start_index=0\n",
      "2024-09-03 01:08:58,507] MainProcess(1482003).MainThread(139852985743168) 1713546473.<module>(44) INFO -> max_num_inputs=20\n",
      "2024-09-03 01:08:58,508] MainProcess(1482003).MainThread(139852985743168) 1713546473.<module>(46) INFO -> target vectors=(20, 5)\n"
     ]
    },
    {
     "data": {
      "text/html": [
       "<div><style>\n",
       ".dataframe > thead > tr,\n",
       ".dataframe > tbody > tr {\n",
       "  text-align: right;\n",
       "  white-space: pre-wrap;\n",
       "}\n",
       "</style>\n",
       "<small>shape: (20, 5)</small><table border=\"1\" class=\"dataframe\"><thead><tr><th>sentence1</th><th>embedding1</th><th>sentence2</th><th>embedding2</th><th>label</th></tr><tr><td>str</td><td>array[f64, 384]</td><td>str</td><td>array[f64, 384]</td><td>f64</td></tr></thead><tbody><tr><td>&quot;A plane is taking off.&quot;</td><td>[0.065392, 0.02813, … 0.032704]</td><td>&quot;An air plane is taking off.&quot;</td><td>[0.037159, 0.014117, … 0.063264]</td><td>5.0</td></tr><tr><td>&quot;A man is playing a large flute…</td><td>[0.081221, -0.02136, … 0.064187]</td><td>&quot;A man is playing a flute.&quot;</td><td>[0.043285, -0.041842, … 0.04312]</td><td>3.8</td></tr><tr><td>&quot;A man is spreading shreded che…</td><td>[0.017162, 0.024835, … -0.002522]</td><td>&quot;A man is spreading shredded ch…</td><td>[-0.038157, -0.033265, … -0.018642]</td><td>3.8</td></tr><tr><td>&quot;Three men are playing chess.&quot;</td><td>[0.047791, -0.053223, … -0.017164]</td><td>&quot;Two men are playing chess.&quot;</td><td>[0.039619, -0.00094, … -0.031325]</td><td>2.6</td></tr><tr><td>&quot;A man is playing the cello.&quot;</td><td>[0.018254, 0.015903, … 0.040673]</td><td>&quot;A man seated is playing the ce…</td><td>[0.020997, -0.002901, … 0.05276]</td><td>4.25</td></tr><tr><td>&hellip;</td><td>&hellip;</td><td>&hellip;</td><td>&hellip;</td><td>&hellip;</td></tr><tr><td>&quot;A dog is trying to get bacon o…</td><td>[0.005957, 0.015668, … 0.02326]</td><td>&quot;A dog is trying to eat the bac…</td><td>[0.001151, -0.007318, … 0.012961]</td><td>3.75</td></tr><tr><td>&quot;The polar bear is sliding on t…</td><td>[-0.043021, -0.004103, … -0.018067]</td><td>&quot;A polar bear is sliding across…</td><td>[-0.031592, -0.025086, … 0.004932]</td><td>5.0</td></tr><tr><td>&quot;A woman is writing.&quot;</td><td>[0.001059, -0.050297, … -0.034676]</td><td>&quot;A woman is swimming.&quot;</td><td>[-0.017775, -0.0334, … 0.043684]</td><td>0.5</td></tr><tr><td>&quot;A cat is rubbing against baby&#x27;…</td><td>[0.039603, -0.00531, … 0.093323]</td><td>&quot;A cat is rubbing against a bab…</td><td>[0.038407, -0.024767, … 0.09004]</td><td>3.8</td></tr><tr><td>&quot;The man is riding a horse.&quot;</td><td>[-0.004288, -0.012113, … -0.02475]</td><td>&quot;A man is riding on a horse.&quot;</td><td>[-0.011899, -0.025993, … -0.029837]</td><td>5.0</td></tr></tbody></table></div>"
      ],
      "text/plain": [
       "shape: (20, 5)\n",
       "┌──────────────────────┬──────────────────────┬──────────────────────┬─────────────────────┬───────┐\n",
       "│ sentence1            ┆ embedding1           ┆ sentence2            ┆ embedding2          ┆ label │\n",
       "│ ---                  ┆ ---                  ┆ ---                  ┆ ---                 ┆ ---   │\n",
       "│ str                  ┆ array[f64, 384]      ┆ str                  ┆ array[f64, 384]     ┆ f64   │\n",
       "╞══════════════════════╪══════════════════════╪══════════════════════╪═════════════════════╪═══════╡\n",
       "│ A plane is taking    ┆ [0.065392, 0.02813,  ┆ An air plane is      ┆ [0.037159,          ┆ 5.0   │\n",
       "│ off.                 ┆ … 0.032704…          ┆ taking off.          ┆ 0.014117, …         ┆       │\n",
       "│                      ┆                      ┆                      ┆ 0.06326…            ┆       │\n",
       "│ A man is playing a   ┆ [0.081221, -0.02136, ┆ A man is playing a   ┆ [0.043285,          ┆ 3.8   │\n",
       "│ large flute…         ┆ … 0.06418…           ┆ flute.               ┆ -0.041842, …        ┆       │\n",
       "│                      ┆                      ┆                      ┆ 0.0431…             ┆       │\n",
       "│ A man is spreading   ┆ [0.017162, 0.024835, ┆ A man is spreading   ┆ [-0.038157,         ┆ 3.8   │\n",
       "│ shreded che…         ┆ … -0.0025…           ┆ shredded ch…         ┆ -0.033265, … -0.01… ┆       │\n",
       "│ Three men are        ┆ [0.047791,           ┆ Two men are playing  ┆ [0.039619,          ┆ 2.6   │\n",
       "│ playing chess.       ┆ -0.053223, … -0.017… ┆ chess.               ┆ -0.00094, …         ┆       │\n",
       "│                      ┆                      ┆                      ┆ -0.0313…            ┆       │\n",
       "│ A man is playing the ┆ [0.018254, 0.015903, ┆ A man seated is      ┆ [0.020997,          ┆ 4.25  │\n",
       "│ cello.               ┆ … 0.04067…           ┆ playing the ce…      ┆ -0.002901, …        ┆       │\n",
       "│                      ┆                      ┆                      ┆ 0.0527…             ┆       │\n",
       "│ …                    ┆ …                    ┆ …                    ┆ …                   ┆ …     │\n",
       "│ A dog is trying to   ┆ [0.005957, 0.015668, ┆ A dog is trying to   ┆ [0.001151,          ┆ 3.75  │\n",
       "│ get bacon o…         ┆ … 0.02326…           ┆ eat the bac…         ┆ -0.007318, …        ┆       │\n",
       "│                      ┆                      ┆                      ┆ 0.0129…             ┆       │\n",
       "│ The polar bear is    ┆ [-0.043021,          ┆ A polar bear is      ┆ [-0.031592,         ┆ 5.0   │\n",
       "│ sliding on t…        ┆ -0.004103, … -0.01…  ┆ sliding across…      ┆ -0.025086, … 0.004… ┆       │\n",
       "│ A woman is writing.  ┆ [0.001059,           ┆ A woman is swimming. ┆ [-0.017775,         ┆ 0.5   │\n",
       "│                      ┆ -0.050297, … -0.034… ┆                      ┆ -0.0334, … 0.04368… ┆       │\n",
       "│ A cat is rubbing     ┆ [0.039603, -0.00531, ┆ A cat is rubbing     ┆ [0.038407,          ┆ 3.8   │\n",
       "│ against baby'…       ┆ … 0.09332…           ┆ against a bab…       ┆ -0.024767, …        ┆       │\n",
       "│                      ┆                      ┆                      ┆ 0.0900…             ┆       │\n",
       "│ The man is riding a  ┆ [-0.004288,          ┆ A man is riding on a ┆ [-0.011899,         ┆ 5.0   │\n",
       "│ horse.               ┆ -0.012113, … -0.02…  ┆ horse.               ┆ -0.025993, … -0.02… ┆       │\n",
       "└──────────────────────┴──────────────────────┴──────────────────────┴─────────────────────┴───────┘"
      ]
     },
     "execution_count": 12,
     "metadata": {},
     "output_type": "execute_result"
    }
   ],
   "source": [
    "import importlib\n",
    "from logging import config  \n",
    "import logging              \n",
    "from hydra import compose, initialize               \n",
    "from omegaconf import DictConfig, OmegaConf         \n",
    "from cache.cache import Cache  \n",
    "from dataclasses import dataclass\n",
    "from reduce_vectors_test import mode_list, ReduceVectors\n",
    "import polars as pl\n",
    "from multi_vector_representation import MultiVectorRepresentation\n",
    "\n",
    "from PersistenceDiagramWrapper import PersistenceDiagramWrapper\n",
    "\n",
    "import multi_vector_representation\n",
    "import reduce_vectors_test\n",
    "importlib.reload(multi_vector_representation)\n",
    "importlib.reload(reduce_vectors_test)\n",
    "config.fileConfig(\"logging.conf\", disable_existing_loggers = False)\n",
    "\n",
    "logger = logging.getLogger(__name__)\n",
    "progress = logging.getLogger(\"progress\")\n",
    "\n",
    "#lang_model = \"qwen2\"\n",
    "lang_model = \"sentence-transformers\"\n",
    "#lang_model = \"mistral\"\n",
    "with initialize(version_base=None, config_path=\"conf\", job_name=\"jupyter\"):\n",
    "    cfg = compose(config_name=\"config.yaml\", \n",
    "                  overrides=[f\"io={lang_model}\", \"execute.max_num_inputs=20\"],\n",
    "                  return_hydra_config=True)\n",
    "\n",
    "mode = mode_list[0]\n",
    "study_name = f\"{mode.name}-{lang_model}-{cfg.execute.debug.num_inputs}\"   \n",
    "cache = Cache(cfg,\n",
    "              f\"ReduceVectors-{study_name}\",\n",
    "              reset = cfg.cache.reset\n",
    "              )\n",
    "filename = cfg.io.input_filename\n",
    "progress.info(f\"input filename = {filename}. Loading...\")\n",
    "vecs = pl.read_parquet(filename)\n",
    "progress.info(f\"prepared vectors={vecs.shape}\")\n",
    "start_index = cfg.execute.debug.start_index       \n",
    "progress.info(f\"start_index={start_index}\")\n",
    "max_num_inputs = cfg.execute.max_num_inputs        \n",
    "progress.info(f\"max_num_inputs={max_num_inputs}\")\n",
    "vec = vecs[start_index:start_index + max_num_inputs]  \n",
    "progress.info(f\"target vectors={vec.shape}\")  \n",
    "vec"
   ]
  },
  {
   "cell_type": "code",
   "execution_count": 8,
   "id": "02db0a5f-bfba-4618-b8bf-f78625c13f52",
   "metadata": {},
   "outputs": [
    {
     "name": "stdout",
     "output_type": "stream",
     "text": [
      "hydra:\n",
      "  run:\n",
      "    dir: /home/tetsu_sato/llmEmbeddingAnalysis-3rd/outputs/tese\n",
      "  sweep:\n",
      "    dir: multirun/${now:%Y-%m-%d}/${now:%H-%M-%S}\n",
      "    subdir: ${hydra.job.num}\n",
      "  launcher:\n",
      "    _target_: hydra._internal.core_plugins.basic_launcher.BasicLauncher\n",
      "  sweeper:\n",
      "    _target_: hydra._internal.core_plugins.basic_sweeper.BasicSweeper\n",
      "    max_batch_size: null\n",
      "    params: null\n",
      "  help:\n",
      "    app_name: ${hydra.job.name}\n",
      "    header: '${hydra.help.app_name} is powered by Hydra.\n",
      "\n",
      "      '\n",
      "    footer: 'Powered by Hydra (https://hydra.cc)\n",
      "\n",
      "      Use --hydra-help to view Hydra specific help\n",
      "\n",
      "      '\n",
      "    template: '${hydra.help.header}\n",
      "\n",
      "      == Configuration groups ==\n",
      "\n",
      "      Compose your configuration from those groups (group=option)\n",
      "\n",
      "\n",
      "      $APP_CONFIG_GROUPS\n",
      "\n",
      "\n",
      "      == Config ==\n",
      "\n",
      "      Override anything in the config (foo.bar=value)\n",
      "\n",
      "\n",
      "      $CONFIG\n",
      "\n",
      "\n",
      "      ${hydra.help.footer}\n",
      "\n",
      "      '\n",
      "  hydra_help:\n",
      "    template: 'Hydra (${hydra.runtime.version})\n",
      "\n",
      "      See https://hydra.cc for more info.\n",
      "\n",
      "\n",
      "      == Flags ==\n",
      "\n",
      "      $FLAGS_HELP\n",
      "\n",
      "\n",
      "      == Configuration groups ==\n",
      "\n",
      "      Compose your configuration from those groups (For example, append hydra/job_logging=disabled\n",
      "      to command line)\n",
      "\n",
      "\n",
      "      $HYDRA_CONFIG_GROUPS\n",
      "\n",
      "\n",
      "      Use ''--cfg hydra'' to Show the Hydra config.\n",
      "\n",
      "      '\n",
      "    hydra_help: ???\n",
      "  hydra_logging:\n",
      "    version: 1\n",
      "    formatters:\n",
      "      simple:\n",
      "        format: '[%(asctime)s][HYDRA] %(message)s'\n",
      "    handlers:\n",
      "      console:\n",
      "        class: logging.StreamHandler\n",
      "        formatter: simple\n",
      "        stream: ext://sys.stdout\n",
      "    root:\n",
      "      level: INFO\n",
      "      handlers:\n",
      "      - console\n",
      "    loggers:\n",
      "      logging_example:\n",
      "        level: DEBUG\n",
      "    disable_existing_loggers: false\n",
      "  job_logging:\n",
      "    version: 1\n",
      "    formatters:\n",
      "      simple:\n",
      "        format: '[%(asctime)s][%(name)s][%(levelname)s] - %(message)s'\n",
      "    handlers:\n",
      "      console:\n",
      "        class: logging.StreamHandler\n",
      "        formatter: simple\n",
      "        stream: ext://sys.stdout\n",
      "      file:\n",
      "        class: logging.FileHandler\n",
      "        formatter: simple\n",
      "        filename: ${hydra.runtime.output_dir}/${hydra.job.name}.log\n",
      "    root:\n",
      "      level: INFO\n",
      "      handlers:\n",
      "      - console\n",
      "      - file\n",
      "    disable_existing_loggers: false\n",
      "  env: {}\n",
      "  mode: null\n",
      "  searchpath: []\n",
      "  callbacks: {}\n",
      "  output_subdir: .hydra\n",
      "  overrides:\n",
      "    hydra: []\n",
      "    task:\n",
      "    - io=sentence-transformers\n",
      "    - execute.max_num_inputs=20\n",
      "  job:\n",
      "    name: jupyter\n",
      "    chdir: true\n",
      "    override_dirname: execute.max_num_inputs=20,io=sentence-transformers\n",
      "    id: ???\n",
      "    num: ???\n",
      "    config_name: config.yaml\n",
      "    env_set: {}\n",
      "    env_copy: []\n",
      "    config:\n",
      "      override_dirname:\n",
      "        kv_sep: '='\n",
      "        item_sep: ','\n",
      "        exclude_keys: []\n",
      "  runtime:\n",
      "    version: 1.3.2\n",
      "    version_base: '1.3'\n",
      "    cwd: /home/tetsu_sato/llmEmbeddingAnalysis-3rd\n",
      "    config_sources:\n",
      "    - path: hydra.conf\n",
      "      schema: pkg\n",
      "      provider: hydra\n",
      "    - path: /home/tetsu_sato/llmEmbeddingAnalysis-3rd/conf\n",
      "      schema: file\n",
      "      provider: main\n",
      "    - path: ''\n",
      "      schema: structured\n",
      "      provider: schema\n",
      "    output_dir: /home/tetsu_sato/llmEmbeddingAnalysis-3rd/outputs-dir\n",
      "    choices:\n",
      "      io: sentence-transformers\n",
      "      hydra/env: default\n",
      "      hydra/callbacks: null\n",
      "      hydra/job_logging: default\n",
      "      hydra/hydra_logging: default\n",
      "      hydra/hydra_help: default\n",
      "      hydra/help: default\n",
      "      hydra/sweeper: basic\n",
      "      hydra/launcher: basic\n",
      "      hydra/output: default\n",
      "  verbose: false\n",
      "io:\n",
      "  model_dir: model_outputs/sentence-transformers\n",
      "  input_filename: ${io.model_dir}/embedding-data.parquet\n",
      "  random_vectors_filename: random-vectors.parquet\n",
      "  language_model: sentence-transformers/all-MiniLM-L6-v2\n",
      "  revision: 8b3219a92973c328a8e22fadcfa821b5dc75636a\n",
      "  embedding_vector_dimension: 384\n",
      "  input_model:\n",
      "  - glue\n",
      "  - stsb\n",
      "cache:\n",
      "  enable: true\n",
      "  reset: true\n",
      "  top_dir: CacheStorage\n",
      "  root: defaultCache\n",
      "  pd:\n",
      "    prefix: PersistenceDiagram\n",
      "    filename: pd_test01\n",
      "execute:\n",
      "  model_list:\n",
      "  - qwen2\n",
      "  - sentence-transformers\n",
      "  data_reset: true\n",
      "  debug:\n",
      "    enable: true\n",
      "    start_index: 0\n",
      "    num_inputs: 10\n",
      "  multiprocessing_pools: 10\n",
      "  n_trials: 50\n",
      "  max_num_inputs: 20\n",
      "  max_start_index: 95\n",
      "  start_index_step: 1\n",
      "hyper_parameter:\n",
      "  tda:\n",
      "    time_delay_low: 1\n",
      "    time_delay_high: 50\n",
      "    time_delay_step: 5\n",
      "    stride_low: 1\n",
      "    stride_high: 5\n",
      "    stride_step: 1\n",
      "    n_low: 10\n",
      "    n_high: 20\n",
      "    n_step: 5\n",
      "    dth: 1\n",
      "    embedding_methods:\n",
      "    - reduce_vector_takensembedding\n",
      "  tsne:\n",
      "    perplexity_low: 1\n",
      "    perplexity_high: 5\n",
      "    embedding_methods:\n",
      "    - reduce_vector_takensembedding\n",
      "\n"
     ]
    }
   ],
   "source": [
    "print(OmegaConf.to_yaml(cfg))"
   ]
  },
  {
   "cell_type": "code",
   "execution_count": 13,
   "id": "140eff11-370e-43c3-bf05-ab94d4d90945",
   "metadata": {},
   "outputs": [
    {
     "name": "stdout",
     "output_type": "stream",
     "text": [
      "input vec=shape: (20, 5)\n",
      "┌──────────────────────┬──────────────────────┬──────────────────────┬─────────────────────┬───────┐\n",
      "│ sentence1            ┆ embedding1           ┆ sentence2            ┆ embedding2          ┆ label │\n",
      "│ ---                  ┆ ---                  ┆ ---                  ┆ ---                 ┆ ---   │\n",
      "│ str                  ┆ array[f64, 384]      ┆ str                  ┆ array[f64, 384]     ┆ f64   │\n",
      "╞══════════════════════╪══════════════════════╪══════════════════════╪═════════════════════╪═══════╡\n",
      "│ A plane is taking    ┆ [0.065392, 0.02813,  ┆ An air plane is      ┆ [0.037159,          ┆ 5.0   │\n",
      "│ off.                 ┆ … 0.032704…          ┆ taking off.          ┆ 0.014117, …         ┆       │\n",
      "│                      ┆                      ┆                      ┆ 0.06326…            ┆       │\n",
      "│ A man is playing a   ┆ [0.081221, -0.02136, ┆ A man is playing a   ┆ [0.043285,          ┆ 3.8   │\n",
      "│ large flute…         ┆ … 0.06418…           ┆ flute.               ┆ -0.041842, …        ┆       │\n",
      "│                      ┆                      ┆                      ┆ 0.0431…             ┆       │\n",
      "│ A man is spreading   ┆ [0.017162, 0.024835, ┆ A man is spreading   ┆ [-0.038157,         ┆ 3.8   │\n",
      "│ shreded che…         ┆ … -0.0025…           ┆ shredded ch…         ┆ -0.033265, … -0.01… ┆       │\n",
      "│ Three men are        ┆ [0.047791,           ┆ Two men are playing  ┆ [0.039619,          ┆ 2.6   │\n",
      "│ playing chess.       ┆ -0.053223, … -0.017… ┆ chess.               ┆ -0.00094, …         ┆       │\n",
      "│                      ┆                      ┆                      ┆ -0.0313…            ┆       │\n",
      "│ A man is playing the ┆ [0.018254, 0.015903, ┆ A man seated is      ┆ [0.020997,          ┆ 4.25  │\n",
      "│ cello.               ┆ … 0.04067…           ┆ playing the ce…      ┆ -0.002901, …        ┆       │\n",
      "│                      ┆                      ┆                      ┆ 0.0527…             ┆       │\n",
      "│ …                    ┆ …                    ┆ …                    ┆ …                   ┆ …     │\n",
      "│ A dog is trying to   ┆ [0.005957, 0.015668, ┆ A dog is trying to   ┆ [0.001151,          ┆ 3.75  │\n",
      "│ get bacon o…         ┆ … 0.02326…           ┆ eat the bac…         ┆ -0.007318, …        ┆       │\n",
      "│                      ┆                      ┆                      ┆ 0.0129…             ┆       │\n",
      "│ The polar bear is    ┆ [-0.043021,          ┆ A polar bear is      ┆ [-0.031592,         ┆ 5.0   │\n",
      "│ sliding on t…        ┆ -0.004103, … -0.01…  ┆ sliding across…      ┆ -0.025086, … 0.004… ┆       │\n",
      "│ A woman is writing.  ┆ [0.001059,           ┆ A woman is swimming. ┆ [-0.017775,         ┆ 0.5   │\n",
      "│                      ┆ -0.050297, … -0.034… ┆                      ┆ -0.0334, … 0.04368… ┆       │\n",
      "│ A cat is rubbing     ┆ [0.039603, -0.00531, ┆ A cat is rubbing     ┆ [0.038407,          ┆ 3.8   │\n",
      "│ against baby'…       ┆ … 0.09332…           ┆ against a bab…       ┆ -0.024767, …        ┆       │\n",
      "│                      ┆                      ┆                      ┆ 0.0900…             ┆       │\n",
      "│ The man is riding a  ┆ [-0.004288,          ┆ A man is riding on a ┆ [-0.011899,         ┆ 5.0   │\n",
      "│ horse.               ┆ -0.012113, … -0.02…  ┆ horse.               ┆ -0.025993, … -0.02… ┆       │\n",
      "└──────────────────────┴──────────────────────┴──────────────────────┴─────────────────────┴───────┘\n",
      "2024-09-03 01:09:03,836] MainProcess(1482003).MainThread(139852985743168) 1911357412.<module>(27) INFO -> vec: vec1+vec2=(40, 1)\n",
      "2024-09-03 01:09:03,838] MainProcess(1482003).MainThread(139852985743168) 1911357412.<module>(32) INFO -> reduced vec=(40, 61, 3)\n"
     ]
    }
   ],
   "source": [
    "print(f\"input vec={vec}\")\n",
    "time_delay=9\n",
    "stride=6\n",
    "reduce_func = \"reduce_vector_takensembedding\"\n",
    "embedding_dimension = cfg.io.embedding_vector_dimension\n",
    "rv = ReduceVectors(cfg,\n",
    "                   time_delay=time_delay,\n",
    "                   stride=stride,\n",
    "                   cache=cache\n",
    "                   )\n",
    "mvr = MultiVectorRepresentation(embedding_dim=embedding_dimension,\n",
    "                                    n=embedding_dimension - 3, # 適当\n",
    "                                    dimension=3)\n",
    "rv.set_reduce_func(getattr(mvr, reduce_func))\n",
    "\n",
    "vec1 = vec.select(\"embedding1\")\n",
    "vec2 = vec.select(\"embedding2\")\n",
    "\n",
    "num_rows = vecs.select(pl.len()).item()\n",
    "labels = vecs.select(\"label\").to_numpy().reshape(num_rows)\n",
    "import numpy as np\n",
    "labels = np.concatenate([labels, labels])\n",
    "logger.debug(f\"labels to input embedding vectors={labels.shape}\")\n",
    "# 高次元ベクトルを多数の低次元ベクトルに変換\n",
    "vecs = vec1.rename({\"embedding1\": \"embedding\"}).vstack(\n",
    "      vec2.rename({\"embedding2\": \"embedding\"}))\n",
    "progress.info(f\"vec: vec1+vec2={vecs.shape}\")\n",
    "reduced_vec = rv.reduce_func(vecs,\n",
    "                                time_delay=time_delay,\n",
    "                                stride=stride,\n",
    "                                )\n",
    "progress.info(f\"reduced vec={reduced_vec.shape}\")"
   ]
  },
  {
   "cell_type": "code",
   "execution_count": 14,
   "id": "d78a731e-0a7f-4447-83ca-24acdfa63bba",
   "metadata": {},
   "outputs": [
    {
     "name": "stdout",
     "output_type": "stream",
     "text": [
      "2024-09-03 01:09:09,130] MainProcess(1482003).MainThread(139852985743168) 2459079984.get_pd(2) INFO -> fvecs=(61, 3)\n",
      "pdlist=PDList(path=None)\n",
      "birth death=(119, 2)\n",
      "2024-09-03 01:09:09,140] MainProcess(1482003).MainThread(139852985743168) 2459079984.get_pd(2) INFO -> fvecs=(61, 3)\n",
      "pdlist=PDList(path=None)\n",
      "birth death=(110, 2)\n"
     ]
    }
   ],
   "source": [
    "def get_pd(fvecs, n=20):\n",
    "    progress.info(f\"fvecs={fvecs.shape}\")\n",
    "    dth = cfg.hyper_parameter.tda.dth\n",
    "    import homcloud.interface as hc\n",
    "    pdlist = hc.PDList.from_alpha_filtration(fvecs, save_to=None,\n",
    "                                      save_boundary_map=True)\n",
    "    print(f\"pdlist={pdlist}\")\n",
    "    pd = pdlist.dth_diagram(dth)\n",
    "    import numpy as np\n",
    "    \n",
    "    birth_death = np.array(pd.birth_death_times()).T\n",
    "    print(f\"birth death={birth_death.shape}\")\n",
    "    # y-xの大きさでソート\n",
    "    sorted_data = birth_death[np.argsort(birth_death[:, 1] - birth_death[:, 0])[::-1]]\n",
    "    # 大きい方から上位n個の要素を取得\n",
    "    birth_death = sorted_data[:n]\n",
    "    #logger.info(f\"sorted pd=\\n{pd}\")\n",
    "    # xでソート\n",
    "    birth_death = birth_death[np.argsort(birth_death[:, 0])]\n",
    "    return birth_death\n",
    "\n",
    "num_inputs = cfg.execute.debug.num_inputs\n",
    "index = 7\n",
    "fvec1 = reduced_vec[index]\n",
    "pd1 = get_pd(fvec1, n=10)\n",
    "sentence1 = vec[\"embedding1\"][index]\n",
    "index = 7 + num_inputs\n",
    "fvec2 = reduced_vec[index]\n",
    "pd2 = get_pd(fvec2, n=10)\n",
    "sentence2 = vec[\"embedding2\"][index]\n"
   ]
  },
  {
   "cell_type": "code",
   "execution_count": 41,
   "id": "4e734083-2234-4266-aaa1-7d3f08f6d750",
   "metadata": {},
   "outputs": [],
   "source": [
    "def plotPD(pd1,\n",
    "           pd2,\n",
    "           sentence1,\n",
    "           sentence2,\n",
    "           label,\n",
    "           dis,\n",
    "           index\n",
    "          ):\n",
    "    import numpy as np\n",
    "    import textwrap\n",
    "    import matplotlib.pyplot as plt    \n",
    "    #print(f\"pd in plotPD={pd1}\")\n",
    "    # 座標の範囲を調べる\n",
    "    x_min = np.min([pd1[:, 0], pd2[:, 0]])\n",
    "    x_max = np.max([pd1[:, 0], pd2[:, 0]])\n",
    "    y_min = np.min([pd1[:, 1], pd2[:, 1]])\n",
    "    y_max = np.max([pd1[:, 1], pd2[:, 1]])    \n",
    "    \n",
    "    fig = plt.figure(figsize=(8, 4))\n",
    "    fig.subplots_adjust(hspace=0.6, wspace=0.4)\n",
    "    fig.suptitle(f\"label={label:.2f}(index={index}), dis={dis:.2f}\", y=1.1)\n",
    "    ax = fig.add_subplot(1, 2, 1)\n",
    "    ax.set_xlim(x_min, x_max)\n",
    "    ax.set_ylim(y_min, y_max)\n",
    "    ax.set_title(textwrap.fill(f\"pd1({sentence1})\", 25))\n",
    "    x=pd1[:, 0]\n",
    "    y=pd1[:, 1]\n",
    "    ax.scatter(x=x, y=y)\n",
    "\n",
    "    # y=xの対角線を追加\n",
    "    min_val = min(min(x), min(y))  # xとyの最小値を取得\n",
    "    max_val = max(max(x), max(y))  # xとyの最大値を取得\n",
    "    ax.plot([min_val, max_val], [min_val, max_val], color='red', linestyle='--', linewidth=2)\n",
    "    \n",
    "    # 軸の範囲を調整（対角線が完全に表示されるように）\n",
    "    #ax.set_xlim(min_val - 1, max_val + 1)\n",
    "    #ax.set_ylim(min_val - 1, max_val + 1)\n",
    "\n",
    "\n",
    "    ax = fig.add_subplot(1, 2, 2)\n",
    "    ax.set_xlim(x_min, x_max)\n",
    "    ax.set_ylim(y_min, y_max)\n",
    "    ax.set_title(textwrap.fill(f\"pd2({sentence2})\", 25))\n",
    "    x=pd2[:, 0]\n",
    "    y=pd2[:, 1]\n",
    "    ax.scatter(x=x, y=y)\n",
    "    # y=xの対角線を追加\n",
    "    min_val = min(min(x), min(y))  # xとyの最小値を取得\n",
    "    max_val = max(max(x), max(y))  # xとyの最大値を取得\n",
    "    ax.plot([min_val, max_val], [min_val, max_val], color='red', linestyle='--', linewidth=2)\n",
    "    \n",
    "    # 軸の範囲を調整（対角線が完全に表示されるように）\n",
    "    #ax.set_xlim(min_val - 1, max_val + 1)\n",
    "    #ax.set_ylim(min_val - 1, max_val + 1)\n",
    "\n",
    "    fig.show()\n",
    "# Plotting 3-D Point Clouds\n",
    "def plotPC(fvec1,\n",
    "           fvec2,\n",
    "           sentence1,\n",
    "           sentence2,\n",
    "           label,\n",
    "           index):\n",
    "    import plotly.express as px\n",
    "    import textwrap\n",
    "    \n",
    "    fig1 = px.scatter_3d(fvec1, x=0, y=1, z=2,\n",
    "                    \n",
    "                       )\n",
    "    fig1.update_layout(margin=dict(l=0, r=0, b=0, t=0))\n",
    "    fig1.update_traces(marker_size=2)\n",
    "    #fig.show()\n",
    "    \n",
    "    import plotly.express as px\n",
    "    \n",
    "    fig2 = px.scatter_3d(fvec2, x=0, y=1, z=2,\n",
    "                    \n",
    "                       )\n",
    "    fig2.update_layout(margin=dict(l=0, r=0, b=0, t=0))\n",
    "    fig2.update_traces(marker_size=2)\n",
    "    #fig.show()\n",
    "    from plotly.subplots import make_subplots\n",
    "    # subplotを作成\n",
    "    fig = make_subplots(\n",
    "        rows=1, cols=2,\n",
    "        specs=[[{'type': 'scatter3d'}, {'type': 'scatter3d'}]],  # 各サブプロットのタイプを指定\n",
    "        horizontal_spacing=0.02  # 横の間隔を狭くする\n",
    "    )\n",
    "    \n",
    "    # 各サブプロットに図を追加\n",
    "    for trace in fig1.data:\n",
    "        fig.add_trace(trace, row=1, col=1)\n",
    "    \n",
    "    for trace in fig2.data:\n",
    "        fig.add_trace(trace, row=1, col=2)\n",
    "    # 全体のサイズを調整\n",
    "    fig.update_layout(\n",
    "        width=1100,  # 図の幅\n",
    "        height=600   # 図の高さ\n",
    "    )\n",
    "    \n",
    "    # 各図にタイトルを追加\n",
    "    fig.update_layout(\n",
    "        title=dict(\n",
    "        text=f\"label={label:.2f}(index={index})\",  # 全体のタイトル\n",
    "        x=0.5,  # 中央に配置\n",
    "        y=0.95,  # 上部に配置\n",
    "        font=dict(size=24)  # フォントサイズを大きく\n",
    "    ),\n",
    "        width=1100,\n",
    "        height=700,\n",
    "        annotations=[\n",
    "            dict(text=textwrap.fill(f\"{sentence1}\", 40),\n",
    "                 font=dict(size=18),\n",
    "                 x=0.1, y=1.0, \n",
    "                 showarrow=False, xref=\"paper\", yref=\"paper\"),\n",
    "            dict(text=f\"{sentence2}\", \n",
    "                 font=dict(size=18),\n",
    "                 x=0.9, y=1.0, \n",
    "                 showarrow=False, xref=\"paper\", yref=\"paper\"),\n",
    "        ]\n",
    "    )\n",
    "    # 図を表示\n",
    "    fig.show()\n",
    "        \n",
    "#def generatePdFigure(fvec1, fvec2, pd1, pd2, sentence1, sentence2):\n",
    "def generatePdFigure(index, n=20):\n",
    "    num_inputs = cfg.execute.max_num_inputs\n",
    "    index1 = index\n",
    "    fvec1 = reduced_vec[index1]\n",
    "    pd1 = get_pd(fvec1, n)\n",
    "    sentence1 = vec[\"sentence1\"][index1]\n",
    "    label1 = vec[\"label\"][index1]\n",
    "    index2 = index + num_inputs\n",
    "    print(f\"index1={index1}, index2={index2}\")\n",
    "    fvec2 = reduced_vec[index2]\n",
    "    pd2 = get_pd(fvec2, n)\n",
    "\n",
    "    # vecは縦にスタックする前のオリジナルデータなのでindex1をそのまま使う\n",
    "    sentence2 = vec[\"sentence2\"][index1]\n",
    "    label2 = vec[\"label\"][index1]\n",
    "    assert label1 == label2, f\"label1({label1}) should equal to label2({label2})\"\n",
    "        \n",
    "    plotPC(fvec1, fvec2, sentence1, sentence2, label1, index)\n",
    "     \n",
    "    pdw = PersistenceDiagramWrapper(cfg)  \n",
    "    pdobj1 = pdw.createPdObject(pd1)  \n",
    "    pdobj2 = pdw.createPdObject(pd2)  \n",
    "    import homcloud.interface as hc\n",
    "    dis = hc.distance.wasserstein(pdobj1, pdobj2)*1000   \n",
    "    \n",
    "    plotPD(pd1, pd2, sentence1, sentence2, label1, dis,index)"
   ]
  },
  {
   "cell_type": "code",
   "execution_count": 18,
   "id": "768208d9-8b53-4b51-963f-a77ece3e336b",
   "metadata": {},
   "outputs": [
    {
     "name": "stdout",
     "output_type": "stream",
     "text": [
      "2024-09-03 01:11:04,758] MainProcess(1482003).MainThread(139852985743168) 2459079984.get_pd(2) INFO -> fvecs=(61, 3)\n",
      "pdlist=PDList(path=None)\n",
      "birth death=(112, 2)\n",
      "index1=1, index2=21\n",
      "2024-09-03 01:11:04,768] MainProcess(1482003).MainThread(139852985743168) 2459079984.get_pd(2) INFO -> fvecs=(61, 3)\n",
      "pdlist=PDList(path=None)\n",
      "birth death=(116, 2)\n"
     ]
    },
    {
     "data": {
      "application/vnd.plotly.v1+json": {
       "config": {
        "plotlyServerURL": "https://plot.ly"
       },
       "data": [
        {
         "hovertemplate": "0=%{x}<br>1=%{y}<br>2=%{z}<extra></extra>",
         "legendgroup": "",
         "marker": {
          "color": "#636efa",
          "size": 2,
          "symbol": "circle"
         },
         "mode": "markers",
         "name": "",
         "scene": "scene",
         "showlegend": false,
         "type": "scatter3d",
         "x": [
          0.007319014053791761,
          -0.04091327264904976,
          0.00984124280512333,
          -0.054902583360672,
          -0.04255020618438721,
          -0.037950851023197174,
          0.09602365642786026,
          -0.05540590360760689,
          0.05001211166381836,
          0.02603364922106266,
          0.029481161385774612,
          0.0002631123352330178,
          -0.02777513489127159,
          -0.05255688726902008,
          -0.011715135537087917,
          0.06041945144534111,
          -0.007419215980917215,
          0.03113475814461708,
          0.0039944881573319435,
          0.03112267144024372,
          0.04479071497917175,
          0.004024782218039036,
          0.005285574123263359,
          -0.00679675443097949,
          -0.10120023041963577,
          -0.006334458477795124,
          -0.040979307144880295,
          -0.005380591377615929,
          -0.041812945157289505,
          -0.013584236614406109,
          -0.01794169656932354,
          0.17910824716091156,
          -0.09937014430761337,
          -0.07682919502258301,
          -0.04505663737654686,
          -0.039125118404626846,
          0.0547967292368412,
          -0.08911606669425964,
          -0.03521560877561569,
          -0.023961804807186127,
          0.0005149379139766097,
          -0.00629441998898983,
          -0.08764410018920898,
          -0.0041050598956644535,
          0.04640268161892891,
          0.00410974258556962,
          -0.03979337215423584,
          -0.019807524979114532,
          0.010330102406442165,
          0.004453647416085005,
          0.059695757925510406,
          -0.01344802975654602,
          -0.060586996376514435,
          -0.037140462547540665,
          -0.05518944188952446,
          -0.06971502304077148,
          -0.01129313837736845,
          0.03194113075733185,
          -0.04195226728916168,
          -0.05517617613077164,
          -0.02477123960852623
         ],
         "y": [
          0.042439237236976624,
          0.02729383111000061,
          -0.01416095532476902,
          0.0002325822861166671,
          0.041084595024585724,
          -0.05754675343632698,
          -0.09175875782966614,
          0.08049190044403076,
          0.08384346961975098,
          -0.028053075075149536,
          0.07648657262325287,
          0.06799431145191193,
          -0.035702597349882126,
          -0.01306880172342062,
          -0.1086367517709732,
          -0.034286174923181534,
          0.02908199653029442,
          -0.032467521727085114,
          -0.04928889870643616,
          0.04159286990761757,
          -0.0010789232328534126,
          -0.06158911809325218,
          -0.002537994645535946,
          -0.013264039531350136,
          -0.09579096734523773,
          -0.033970803022384644,
          -0.03468751534819603,
          0.01665872521698475,
          0.07139527052640915,
          0.016580743715167046,
          -0.007653559558093548,
          0.04642076790332794,
          -0.02996843494474888,
          -0.03683147206902504,
          -0.041871897876262665,
          0.01684253290295601,
          0.029259925708174706,
          0.127250075340271,
          0.07706304639577866,
          -0.03303758427500725,
          0.014040272682905197,
          0.13375727832317352,
          0.05443595349788666,
          0.021378695964813232,
          0.01457670796662569,
          -0.050096217542886734,
          0.013544016517698765,
          0.013765108771622181,
          0.0751139372587204,
          -0.05598236247897148,
          0.08534044772386551,
          -0.01822294108569622,
          0.0224137045443058,
          0.0563095398247242,
          -0.03263791650533676,
          -0.01654697209596634,
          -0.08702781051397324,
          -0.0555509552359581,
          0.04542754963040352,
          0.056234460324048996,
          0.017885854467749596
         ],
         "z": [
          -0.054902583360672,
          -0.04255020618438721,
          -0.037950851023197174,
          0.09602365642786026,
          -0.05540590360760689,
          0.05001211166381836,
          0.02603364922106266,
          0.029481161385774612,
          0.0002631123352330178,
          -0.02777513489127159,
          -0.05255688726902008,
          -0.011715135537087917,
          0.06041945144534111,
          -0.007419215980917215,
          0.03113475814461708,
          0.0039944881573319435,
          0.03112267144024372,
          0.04479071497917175,
          0.004024782218039036,
          0.005285574123263359,
          -0.00679675443097949,
          -0.10120023041963577,
          -0.006334458477795124,
          -0.040979307144880295,
          -0.005380591377615929,
          -0.041812945157289505,
          -0.013584236614406109,
          -0.01794169656932354,
          0.17910824716091156,
          -0.09937014430761337,
          -0.07682919502258301,
          -0.04505663737654686,
          -0.039125118404626846,
          0.0547967292368412,
          -0.08911606669425964,
          -0.03521560877561569,
          -0.023961804807186127,
          0.0005149379139766097,
          -0.00629441998898983,
          -0.08764410018920898,
          -0.0041050598956644535,
          0.04640268161892891,
          0.00410974258556962,
          -0.03979337215423584,
          -0.019807524979114532,
          0.010330102406442165,
          0.004453647416085005,
          0.059695757925510406,
          -0.01344802975654602,
          -0.060586996376514435,
          -0.037140462547540665,
          -0.05518944188952446,
          -0.06971502304077148,
          -0.01129313837736845,
          0.03194113075733185,
          -0.04195226728916168,
          -0.05517617613077164,
          -0.02477123960852623,
          -0.01893056556582451,
          0.08228219300508499,
          0.06418706476688385
         ]
        },
        {
         "hovertemplate": "0=%{x}<br>1=%{y}<br>2=%{z}<extra></extra>",
         "legendgroup": "",
         "marker": {
          "color": "#636efa",
          "size": 2,
          "symbol": "circle"
         },
         "mode": "markers",
         "name": "",
         "scene": "scene2",
         "showlegend": false,
         "type": "scatter3d",
         "x": [
          0.026333175599575043,
          -0.08317473530769348,
          -0.003813062561675906,
          -0.08325060456991196,
          -0.007258386351168156,
          -0.05308166518807411,
          0.06599721312522888,
          -0.04664243757724762,
          0.02847149595618248,
          0.008326176553964615,
          0.04105241969227791,
          -0.011660050600767136,
          -0.028649592772126198,
          -0.03857961669564247,
          -0.03882277011871338,
          0.07420706748962402,
          -0.04077409580349922,
          -0.012572480365633965,
          -0.021777382120490074,
          0.014642537571489811,
          0.0024277283810079098,
          -0.03393718600273132,
          -0.012460855767130852,
          0.038865115493535995,
          -0.08322490751743317,
          -0.03902055695652962,
          -0.04057735949754715,
          -0.001468754606321454,
          -0.0671655684709549,
          -0.026551924645900726,
          -0.022937236353754997,
          0.1365641951560974,
          -0.1167866587638855,
          -0.017570342868566513,
          -0.038365188986063004,
          -0.05152016878128052,
          0.08972848206758499,
          -0.0642208456993103,
          -0.009063155390322208,
          -0.0014926777221262455,
          0.05121409147977829,
          0.013837502337992191,
          -0.11168226599693298,
          -0.020451677963137627,
          0.05537831783294678,
          0.0012860540300607681,
          -0.03453931584954262,
          -0.02155502885580063,
          -0.014219510369002819,
          0.022912874817848206,
          0.04853387176990509,
          -0.05155001953244209,
          -0.018553396686911583,
          -0.02904803305864334,
          -0.10018748044967651,
          -0.051888588815927505,
          -0.01897408254444599,
          -0.008636395446956158,
          -0.04893099516630173,
          -0.03447676822543144,
          -0.02443735860288143
         ],
         "y": [
          0.06035399064421654,
          0.04224736616015434,
          0.002487056888639927,
          -0.021489636972546577,
          0.015576815232634544,
          -0.06189548224210739,
          -0.07318689674139023,
          0.08643028140068054,
          0.07390233874320984,
          -0.010502844117581844,
          0.06193828582763672,
          0.0628906711935997,
          -0.029585715383291245,
          -0.0014414375182241201,
          -0.10995117574930191,
          -0.038584884256124496,
          0.028977008536458015,
          -0.021463634446263313,
          -0.010201026685535908,
          0.04104233160614967,
          -0.025233659893274307,
          -0.08965244144201279,
          0.02014341950416565,
          -0.044295087456703186,
          -0.08348348736763,
          -0.02714814990758896,
          -0.03663032874464989,
          0.044552143663167953,
          0.03884971886873245,
          0.024423088878393173,
          0.016553416848182678,
          -0.0005546266911551356,
          -0.02294042892754078,
          -0.03895875811576843,
          -0.058972492814064026,
          0.0033250499982386827,
          0.05627364292740822,
          0.11206778138875961,
          0.05448029190301895,
          -0.025957515463232994,
          0.03923439607024193,
          0.12501460313796997,
          0.06590573489665985,
          -0.009829997085034847,
          0.008844602853059769,
          -0.049945082515478134,
          0.023121636360883713,
          0.002504063304513693,
          0.07041474431753159,
          -0.07909422367811203,
          0.09568994492292404,
          -0.030170006677508354,
          0.030112674459815025,
          0.042492400854825974,
          -0.020956216380000114,
          -0.03848642855882645,
          -0.11007866263389587,
          -0.04272593930363655,
          0.03183869644999504,
          0.07549130171537399,
          0.025827351957559586
         ],
         "z": [
          -0.08325060456991196,
          -0.007258386351168156,
          -0.05308166518807411,
          0.06599721312522888,
          -0.04664243757724762,
          0.02847149595618248,
          0.008326176553964615,
          0.04105241969227791,
          -0.011660050600767136,
          -0.028649592772126198,
          -0.03857961669564247,
          -0.03882277011871338,
          0.07420706748962402,
          -0.04077409580349922,
          -0.012572480365633965,
          -0.021777382120490074,
          0.014642537571489811,
          0.0024277283810079098,
          -0.03393718600273132,
          -0.012460855767130852,
          0.038865115493535995,
          -0.08322490751743317,
          -0.03902055695652962,
          -0.04057735949754715,
          -0.001468754606321454,
          -0.0671655684709549,
          -0.026551924645900726,
          -0.022937236353754997,
          0.1365641951560974,
          -0.1167866587638855,
          -0.017570342868566513,
          -0.038365188986063004,
          -0.05152016878128052,
          0.08972848206758499,
          -0.0642208456993103,
          -0.009063155390322208,
          -0.0014926777221262455,
          0.05121409147977829,
          0.013837502337992191,
          -0.11168226599693298,
          -0.020451677963137627,
          0.05537831783294678,
          0.0012860540300607681,
          -0.03453931584954262,
          -0.02155502885580063,
          -0.014219510369002819,
          0.022912874817848206,
          0.04853387176990509,
          -0.05155001953244209,
          -0.018553396686911583,
          -0.02904803305864334,
          -0.10018748044967651,
          -0.051888588815927505,
          -0.01897408254444599,
          -0.008636395446956158,
          -0.04893099516630173,
          -0.03447676822543144,
          -0.02443735860288143,
          -0.03794930502772331,
          0.08598622679710388,
          0.04311973601579666
         ]
        }
       ],
       "layout": {
        "annotations": [
         {
          "font": {
           "size": 18
          },
          "showarrow": false,
          "text": "A man is playing a large flute.",
          "x": 0.1,
          "xref": "paper",
          "y": 1,
          "yref": "paper"
         },
         {
          "font": {
           "size": 18
          },
          "showarrow": false,
          "text": "A man is playing a flute.",
          "x": 0.9,
          "xref": "paper",
          "y": 1,
          "yref": "paper"
         }
        ],
        "height": 700,
        "scene": {
         "aspectmode": "auto",
         "aspectratio": {
          "x": 1.0496345181299818,
          "y": 0.9076612422553089,
          "z": 1.0496345181299818
         },
         "domain": {
          "x": [
           0,
           0.49
          ],
          "y": [
           0,
           1
          ]
         }
        },
        "scene2": {
         "aspectmode": "auto",
         "aspectratio": {
          "x": 1.0252443732815715,
          "y": 0.9513607086760387,
          "z": 1.0252443732815715
         },
         "domain": {
          "x": [
           0.51,
           1
          ],
          "y": [
           0,
           1
          ]
         }
        },
        "template": {
         "data": {
          "bar": [
           {
            "error_x": {
             "color": "#2a3f5f"
            },
            "error_y": {
             "color": "#2a3f5f"
            },
            "marker": {
             "line": {
              "color": "#E5ECF6",
              "width": 0.5
             },
             "pattern": {
              "fillmode": "overlay",
              "size": 10,
              "solidity": 0.2
             }
            },
            "type": "bar"
           }
          ],
          "barpolar": [
           {
            "marker": {
             "line": {
              "color": "#E5ECF6",
              "width": 0.5
             },
             "pattern": {
              "fillmode": "overlay",
              "size": 10,
              "solidity": 0.2
             }
            },
            "type": "barpolar"
           }
          ],
          "carpet": [
           {
            "aaxis": {
             "endlinecolor": "#2a3f5f",
             "gridcolor": "white",
             "linecolor": "white",
             "minorgridcolor": "white",
             "startlinecolor": "#2a3f5f"
            },
            "baxis": {
             "endlinecolor": "#2a3f5f",
             "gridcolor": "white",
             "linecolor": "white",
             "minorgridcolor": "white",
             "startlinecolor": "#2a3f5f"
            },
            "type": "carpet"
           }
          ],
          "choropleth": [
           {
            "colorbar": {
             "outlinewidth": 0,
             "ticks": ""
            },
            "type": "choropleth"
           }
          ],
          "contour": [
           {
            "colorbar": {
             "outlinewidth": 0,
             "ticks": ""
            },
            "colorscale": [
             [
              0,
              "#0d0887"
             ],
             [
              0.1111111111111111,
              "#46039f"
             ],
             [
              0.2222222222222222,
              "#7201a8"
             ],
             [
              0.3333333333333333,
              "#9c179e"
             ],
             [
              0.4444444444444444,
              "#bd3786"
             ],
             [
              0.5555555555555556,
              "#d8576b"
             ],
             [
              0.6666666666666666,
              "#ed7953"
             ],
             [
              0.7777777777777778,
              "#fb9f3a"
             ],
             [
              0.8888888888888888,
              "#fdca26"
             ],
             [
              1,
              "#f0f921"
             ]
            ],
            "type": "contour"
           }
          ],
          "contourcarpet": [
           {
            "colorbar": {
             "outlinewidth": 0,
             "ticks": ""
            },
            "type": "contourcarpet"
           }
          ],
          "heatmap": [
           {
            "colorbar": {
             "outlinewidth": 0,
             "ticks": ""
            },
            "colorscale": [
             [
              0,
              "#0d0887"
             ],
             [
              0.1111111111111111,
              "#46039f"
             ],
             [
              0.2222222222222222,
              "#7201a8"
             ],
             [
              0.3333333333333333,
              "#9c179e"
             ],
             [
              0.4444444444444444,
              "#bd3786"
             ],
             [
              0.5555555555555556,
              "#d8576b"
             ],
             [
              0.6666666666666666,
              "#ed7953"
             ],
             [
              0.7777777777777778,
              "#fb9f3a"
             ],
             [
              0.8888888888888888,
              "#fdca26"
             ],
             [
              1,
              "#f0f921"
             ]
            ],
            "type": "heatmap"
           }
          ],
          "heatmapgl": [
           {
            "colorbar": {
             "outlinewidth": 0,
             "ticks": ""
            },
            "colorscale": [
             [
              0,
              "#0d0887"
             ],
             [
              0.1111111111111111,
              "#46039f"
             ],
             [
              0.2222222222222222,
              "#7201a8"
             ],
             [
              0.3333333333333333,
              "#9c179e"
             ],
             [
              0.4444444444444444,
              "#bd3786"
             ],
             [
              0.5555555555555556,
              "#d8576b"
             ],
             [
              0.6666666666666666,
              "#ed7953"
             ],
             [
              0.7777777777777778,
              "#fb9f3a"
             ],
             [
              0.8888888888888888,
              "#fdca26"
             ],
             [
              1,
              "#f0f921"
             ]
            ],
            "type": "heatmapgl"
           }
          ],
          "histogram": [
           {
            "marker": {
             "pattern": {
              "fillmode": "overlay",
              "size": 10,
              "solidity": 0.2
             }
            },
            "type": "histogram"
           }
          ],
          "histogram2d": [
           {
            "colorbar": {
             "outlinewidth": 0,
             "ticks": ""
            },
            "colorscale": [
             [
              0,
              "#0d0887"
             ],
             [
              0.1111111111111111,
              "#46039f"
             ],
             [
              0.2222222222222222,
              "#7201a8"
             ],
             [
              0.3333333333333333,
              "#9c179e"
             ],
             [
              0.4444444444444444,
              "#bd3786"
             ],
             [
              0.5555555555555556,
              "#d8576b"
             ],
             [
              0.6666666666666666,
              "#ed7953"
             ],
             [
              0.7777777777777778,
              "#fb9f3a"
             ],
             [
              0.8888888888888888,
              "#fdca26"
             ],
             [
              1,
              "#f0f921"
             ]
            ],
            "type": "histogram2d"
           }
          ],
          "histogram2dcontour": [
           {
            "colorbar": {
             "outlinewidth": 0,
             "ticks": ""
            },
            "colorscale": [
             [
              0,
              "#0d0887"
             ],
             [
              0.1111111111111111,
              "#46039f"
             ],
             [
              0.2222222222222222,
              "#7201a8"
             ],
             [
              0.3333333333333333,
              "#9c179e"
             ],
             [
              0.4444444444444444,
              "#bd3786"
             ],
             [
              0.5555555555555556,
              "#d8576b"
             ],
             [
              0.6666666666666666,
              "#ed7953"
             ],
             [
              0.7777777777777778,
              "#fb9f3a"
             ],
             [
              0.8888888888888888,
              "#fdca26"
             ],
             [
              1,
              "#f0f921"
             ]
            ],
            "type": "histogram2dcontour"
           }
          ],
          "mesh3d": [
           {
            "colorbar": {
             "outlinewidth": 0,
             "ticks": ""
            },
            "type": "mesh3d"
           }
          ],
          "parcoords": [
           {
            "line": {
             "colorbar": {
              "outlinewidth": 0,
              "ticks": ""
             }
            },
            "type": "parcoords"
           }
          ],
          "pie": [
           {
            "automargin": true,
            "type": "pie"
           }
          ],
          "scatter": [
           {
            "fillpattern": {
             "fillmode": "overlay",
             "size": 10,
             "solidity": 0.2
            },
            "type": "scatter"
           }
          ],
          "scatter3d": [
           {
            "line": {
             "colorbar": {
              "outlinewidth": 0,
              "ticks": ""
             }
            },
            "marker": {
             "colorbar": {
              "outlinewidth": 0,
              "ticks": ""
             }
            },
            "type": "scatter3d"
           }
          ],
          "scattercarpet": [
           {
            "marker": {
             "colorbar": {
              "outlinewidth": 0,
              "ticks": ""
             }
            },
            "type": "scattercarpet"
           }
          ],
          "scattergeo": [
           {
            "marker": {
             "colorbar": {
              "outlinewidth": 0,
              "ticks": ""
             }
            },
            "type": "scattergeo"
           }
          ],
          "scattergl": [
           {
            "marker": {
             "colorbar": {
              "outlinewidth": 0,
              "ticks": ""
             }
            },
            "type": "scattergl"
           }
          ],
          "scattermapbox": [
           {
            "marker": {
             "colorbar": {
              "outlinewidth": 0,
              "ticks": ""
             }
            },
            "type": "scattermapbox"
           }
          ],
          "scatterpolar": [
           {
            "marker": {
             "colorbar": {
              "outlinewidth": 0,
              "ticks": ""
             }
            },
            "type": "scatterpolar"
           }
          ],
          "scatterpolargl": [
           {
            "marker": {
             "colorbar": {
              "outlinewidth": 0,
              "ticks": ""
             }
            },
            "type": "scatterpolargl"
           }
          ],
          "scatterternary": [
           {
            "marker": {
             "colorbar": {
              "outlinewidth": 0,
              "ticks": ""
             }
            },
            "type": "scatterternary"
           }
          ],
          "surface": [
           {
            "colorbar": {
             "outlinewidth": 0,
             "ticks": ""
            },
            "colorscale": [
             [
              0,
              "#0d0887"
             ],
             [
              0.1111111111111111,
              "#46039f"
             ],
             [
              0.2222222222222222,
              "#7201a8"
             ],
             [
              0.3333333333333333,
              "#9c179e"
             ],
             [
              0.4444444444444444,
              "#bd3786"
             ],
             [
              0.5555555555555556,
              "#d8576b"
             ],
             [
              0.6666666666666666,
              "#ed7953"
             ],
             [
              0.7777777777777778,
              "#fb9f3a"
             ],
             [
              0.8888888888888888,
              "#fdca26"
             ],
             [
              1,
              "#f0f921"
             ]
            ],
            "type": "surface"
           }
          ],
          "table": [
           {
            "cells": {
             "fill": {
              "color": "#EBF0F8"
             },
             "line": {
              "color": "white"
             }
            },
            "header": {
             "fill": {
              "color": "#C8D4E3"
             },
             "line": {
              "color": "white"
             }
            },
            "type": "table"
           }
          ]
         },
         "layout": {
          "annotationdefaults": {
           "arrowcolor": "#2a3f5f",
           "arrowhead": 0,
           "arrowwidth": 1
          },
          "autotypenumbers": "strict",
          "coloraxis": {
           "colorbar": {
            "outlinewidth": 0,
            "ticks": ""
           }
          },
          "colorscale": {
           "diverging": [
            [
             0,
             "#8e0152"
            ],
            [
             0.1,
             "#c51b7d"
            ],
            [
             0.2,
             "#de77ae"
            ],
            [
             0.3,
             "#f1b6da"
            ],
            [
             0.4,
             "#fde0ef"
            ],
            [
             0.5,
             "#f7f7f7"
            ],
            [
             0.6,
             "#e6f5d0"
            ],
            [
             0.7,
             "#b8e186"
            ],
            [
             0.8,
             "#7fbc41"
            ],
            [
             0.9,
             "#4d9221"
            ],
            [
             1,
             "#276419"
            ]
           ],
           "sequential": [
            [
             0,
             "#0d0887"
            ],
            [
             0.1111111111111111,
             "#46039f"
            ],
            [
             0.2222222222222222,
             "#7201a8"
            ],
            [
             0.3333333333333333,
             "#9c179e"
            ],
            [
             0.4444444444444444,
             "#bd3786"
            ],
            [
             0.5555555555555556,
             "#d8576b"
            ],
            [
             0.6666666666666666,
             "#ed7953"
            ],
            [
             0.7777777777777778,
             "#fb9f3a"
            ],
            [
             0.8888888888888888,
             "#fdca26"
            ],
            [
             1,
             "#f0f921"
            ]
           ],
           "sequentialminus": [
            [
             0,
             "#0d0887"
            ],
            [
             0.1111111111111111,
             "#46039f"
            ],
            [
             0.2222222222222222,
             "#7201a8"
            ],
            [
             0.3333333333333333,
             "#9c179e"
            ],
            [
             0.4444444444444444,
             "#bd3786"
            ],
            [
             0.5555555555555556,
             "#d8576b"
            ],
            [
             0.6666666666666666,
             "#ed7953"
            ],
            [
             0.7777777777777778,
             "#fb9f3a"
            ],
            [
             0.8888888888888888,
             "#fdca26"
            ],
            [
             1,
             "#f0f921"
            ]
           ]
          },
          "colorway": [
           "#636efa",
           "#EF553B",
           "#00cc96",
           "#ab63fa",
           "#FFA15A",
           "#19d3f3",
           "#FF6692",
           "#B6E880",
           "#FF97FF",
           "#FECB52"
          ],
          "font": {
           "color": "#2a3f5f"
          },
          "geo": {
           "bgcolor": "white",
           "lakecolor": "white",
           "landcolor": "#E5ECF6",
           "showlakes": true,
           "showland": true,
           "subunitcolor": "white"
          },
          "hoverlabel": {
           "align": "left"
          },
          "hovermode": "closest",
          "mapbox": {
           "style": "light"
          },
          "paper_bgcolor": "white",
          "plot_bgcolor": "#E5ECF6",
          "polar": {
           "angularaxis": {
            "gridcolor": "white",
            "linecolor": "white",
            "ticks": ""
           },
           "bgcolor": "#E5ECF6",
           "radialaxis": {
            "gridcolor": "white",
            "linecolor": "white",
            "ticks": ""
           }
          },
          "scene": {
           "xaxis": {
            "backgroundcolor": "#E5ECF6",
            "gridcolor": "white",
            "gridwidth": 2,
            "linecolor": "white",
            "showbackground": true,
            "ticks": "",
            "zerolinecolor": "white"
           },
           "yaxis": {
            "backgroundcolor": "#E5ECF6",
            "gridcolor": "white",
            "gridwidth": 2,
            "linecolor": "white",
            "showbackground": true,
            "ticks": "",
            "zerolinecolor": "white"
           },
           "zaxis": {
            "backgroundcolor": "#E5ECF6",
            "gridcolor": "white",
            "gridwidth": 2,
            "linecolor": "white",
            "showbackground": true,
            "ticks": "",
            "zerolinecolor": "white"
           }
          },
          "shapedefaults": {
           "line": {
            "color": "#2a3f5f"
           }
          },
          "ternary": {
           "aaxis": {
            "gridcolor": "white",
            "linecolor": "white",
            "ticks": ""
           },
           "baxis": {
            "gridcolor": "white",
            "linecolor": "white",
            "ticks": ""
           },
           "bgcolor": "#E5ECF6",
           "caxis": {
            "gridcolor": "white",
            "linecolor": "white",
            "ticks": ""
           }
          },
          "title": {
           "x": 0.05
          },
          "xaxis": {
           "automargin": true,
           "gridcolor": "white",
           "linecolor": "white",
           "ticks": "",
           "title": {
            "standoff": 15
           },
           "zerolinecolor": "white",
           "zerolinewidth": 2
          },
          "yaxis": {
           "automargin": true,
           "gridcolor": "white",
           "linecolor": "white",
           "ticks": "",
           "title": {
            "standoff": 15
           },
           "zerolinecolor": "white",
           "zerolinewidth": 2
          }
         }
        },
        "title": {
         "font": {
          "size": 24
         },
         "text": "label=3.80",
         "x": 0.5,
         "y": 0.95
        },
        "width": 1100
       }
      },
      "text/html": [
       "<div>                            <div id=\"d7236e9d-05c1-482b-93b3-248334b380b7\" class=\"plotly-graph-div\" style=\"height:700px; width:1100px;\"></div>            <script type=\"text/javascript\">                require([\"plotly\"], function(Plotly) {                    window.PLOTLYENV=window.PLOTLYENV || {};                                    if (document.getElementById(\"d7236e9d-05c1-482b-93b3-248334b380b7\")) {                    Plotly.newPlot(                        \"d7236e9d-05c1-482b-93b3-248334b380b7\",                        [{\"hovertemplate\":\"0=%{x}\\u003cbr\\u003e1=%{y}\\u003cbr\\u003e2=%{z}\\u003cextra\\u003e\\u003c\\u002fextra\\u003e\",\"legendgroup\":\"\",\"marker\":{\"color\":\"#636efa\",\"size\":2,\"symbol\":\"circle\"},\"mode\":\"markers\",\"name\":\"\",\"scene\":\"scene\",\"showlegend\":false,\"x\":[0.007319014053791761,-0.04091327264904976,0.00984124280512333,-0.054902583360672,-0.04255020618438721,-0.037950851023197174,0.09602365642786026,-0.05540590360760689,0.05001211166381836,0.02603364922106266,0.029481161385774612,0.0002631123352330178,-0.02777513489127159,-0.05255688726902008,-0.011715135537087917,0.06041945144534111,-0.007419215980917215,0.03113475814461708,0.0039944881573319435,0.03112267144024372,0.04479071497917175,0.004024782218039036,0.005285574123263359,-0.00679675443097949,-0.10120023041963577,-0.006334458477795124,-0.040979307144880295,-0.005380591377615929,-0.041812945157289505,-0.013584236614406109,-0.01794169656932354,0.17910824716091156,-0.09937014430761337,-0.07682919502258301,-0.04505663737654686,-0.039125118404626846,0.0547967292368412,-0.08911606669425964,-0.03521560877561569,-0.023961804807186127,0.0005149379139766097,-0.00629441998898983,-0.08764410018920898,-0.0041050598956644535,0.04640268161892891,0.00410974258556962,-0.03979337215423584,-0.019807524979114532,0.010330102406442165,0.004453647416085005,0.059695757925510406,-0.01344802975654602,-0.060586996376514435,-0.037140462547540665,-0.05518944188952446,-0.06971502304077148,-0.01129313837736845,0.03194113075733185,-0.04195226728916168,-0.05517617613077164,-0.02477123960852623],\"y\":[0.042439237236976624,0.02729383111000061,-0.01416095532476902,0.0002325822861166671,0.041084595024585724,-0.05754675343632698,-0.09175875782966614,0.08049190044403076,0.08384346961975098,-0.028053075075149536,0.07648657262325287,0.06799431145191193,-0.035702597349882126,-0.01306880172342062,-0.1086367517709732,-0.034286174923181534,0.02908199653029442,-0.032467521727085114,-0.04928889870643616,0.04159286990761757,-0.0010789232328534126,-0.06158911809325218,-0.002537994645535946,-0.013264039531350136,-0.09579096734523773,-0.033970803022384644,-0.03468751534819603,0.01665872521698475,0.07139527052640915,0.016580743715167046,-0.007653559558093548,0.04642076790332794,-0.02996843494474888,-0.03683147206902504,-0.041871897876262665,0.01684253290295601,0.029259925708174706,0.127250075340271,0.07706304639577866,-0.03303758427500725,0.014040272682905197,0.13375727832317352,0.05443595349788666,0.021378695964813232,0.01457670796662569,-0.050096217542886734,0.013544016517698765,0.013765108771622181,0.0751139372587204,-0.05598236247897148,0.08534044772386551,-0.01822294108569622,0.0224137045443058,0.0563095398247242,-0.03263791650533676,-0.01654697209596634,-0.08702781051397324,-0.0555509552359581,0.04542754963040352,0.056234460324048996,0.017885854467749596],\"z\":[-0.054902583360672,-0.04255020618438721,-0.037950851023197174,0.09602365642786026,-0.05540590360760689,0.05001211166381836,0.02603364922106266,0.029481161385774612,0.0002631123352330178,-0.02777513489127159,-0.05255688726902008,-0.011715135537087917,0.06041945144534111,-0.007419215980917215,0.03113475814461708,0.0039944881573319435,0.03112267144024372,0.04479071497917175,0.004024782218039036,0.005285574123263359,-0.00679675443097949,-0.10120023041963577,-0.006334458477795124,-0.040979307144880295,-0.005380591377615929,-0.041812945157289505,-0.013584236614406109,-0.01794169656932354,0.17910824716091156,-0.09937014430761337,-0.07682919502258301,-0.04505663737654686,-0.039125118404626846,0.0547967292368412,-0.08911606669425964,-0.03521560877561569,-0.023961804807186127,0.0005149379139766097,-0.00629441998898983,-0.08764410018920898,-0.0041050598956644535,0.04640268161892891,0.00410974258556962,-0.03979337215423584,-0.019807524979114532,0.010330102406442165,0.004453647416085005,0.059695757925510406,-0.01344802975654602,-0.060586996376514435,-0.037140462547540665,-0.05518944188952446,-0.06971502304077148,-0.01129313837736845,0.03194113075733185,-0.04195226728916168,-0.05517617613077164,-0.02477123960852623,-0.01893056556582451,0.08228219300508499,0.06418706476688385],\"type\":\"scatter3d\"},{\"hovertemplate\":\"0=%{x}\\u003cbr\\u003e1=%{y}\\u003cbr\\u003e2=%{z}\\u003cextra\\u003e\\u003c\\u002fextra\\u003e\",\"legendgroup\":\"\",\"marker\":{\"color\":\"#636efa\",\"size\":2,\"symbol\":\"circle\"},\"mode\":\"markers\",\"name\":\"\",\"scene\":\"scene2\",\"showlegend\":false,\"x\":[0.026333175599575043,-0.08317473530769348,-0.003813062561675906,-0.08325060456991196,-0.007258386351168156,-0.05308166518807411,0.06599721312522888,-0.04664243757724762,0.02847149595618248,0.008326176553964615,0.04105241969227791,-0.011660050600767136,-0.028649592772126198,-0.03857961669564247,-0.03882277011871338,0.07420706748962402,-0.04077409580349922,-0.012572480365633965,-0.021777382120490074,0.014642537571489811,0.0024277283810079098,-0.03393718600273132,-0.012460855767130852,0.038865115493535995,-0.08322490751743317,-0.03902055695652962,-0.04057735949754715,-0.001468754606321454,-0.0671655684709549,-0.026551924645900726,-0.022937236353754997,0.1365641951560974,-0.1167866587638855,-0.017570342868566513,-0.038365188986063004,-0.05152016878128052,0.08972848206758499,-0.0642208456993103,-0.009063155390322208,-0.0014926777221262455,0.05121409147977829,0.013837502337992191,-0.11168226599693298,-0.020451677963137627,0.05537831783294678,0.0012860540300607681,-0.03453931584954262,-0.02155502885580063,-0.014219510369002819,0.022912874817848206,0.04853387176990509,-0.05155001953244209,-0.018553396686911583,-0.02904803305864334,-0.10018748044967651,-0.051888588815927505,-0.01897408254444599,-0.008636395446956158,-0.04893099516630173,-0.03447676822543144,-0.02443735860288143],\"y\":[0.06035399064421654,0.04224736616015434,0.002487056888639927,-0.021489636972546577,0.015576815232634544,-0.06189548224210739,-0.07318689674139023,0.08643028140068054,0.07390233874320984,-0.010502844117581844,0.06193828582763672,0.0628906711935997,-0.029585715383291245,-0.0014414375182241201,-0.10995117574930191,-0.038584884256124496,0.028977008536458015,-0.021463634446263313,-0.010201026685535908,0.04104233160614967,-0.025233659893274307,-0.08965244144201279,0.02014341950416565,-0.044295087456703186,-0.08348348736763,-0.02714814990758896,-0.03663032874464989,0.044552143663167953,0.03884971886873245,0.024423088878393173,0.016553416848182678,-0.0005546266911551356,-0.02294042892754078,-0.03895875811576843,-0.058972492814064026,0.0033250499982386827,0.05627364292740822,0.11206778138875961,0.05448029190301895,-0.025957515463232994,0.03923439607024193,0.12501460313796997,0.06590573489665985,-0.009829997085034847,0.008844602853059769,-0.049945082515478134,0.023121636360883713,0.002504063304513693,0.07041474431753159,-0.07909422367811203,0.09568994492292404,-0.030170006677508354,0.030112674459815025,0.042492400854825974,-0.020956216380000114,-0.03848642855882645,-0.11007866263389587,-0.04272593930363655,0.03183869644999504,0.07549130171537399,0.025827351957559586],\"z\":[-0.08325060456991196,-0.007258386351168156,-0.05308166518807411,0.06599721312522888,-0.04664243757724762,0.02847149595618248,0.008326176553964615,0.04105241969227791,-0.011660050600767136,-0.028649592772126198,-0.03857961669564247,-0.03882277011871338,0.07420706748962402,-0.04077409580349922,-0.012572480365633965,-0.021777382120490074,0.014642537571489811,0.0024277283810079098,-0.03393718600273132,-0.012460855767130852,0.038865115493535995,-0.08322490751743317,-0.03902055695652962,-0.04057735949754715,-0.001468754606321454,-0.0671655684709549,-0.026551924645900726,-0.022937236353754997,0.1365641951560974,-0.1167866587638855,-0.017570342868566513,-0.038365188986063004,-0.05152016878128052,0.08972848206758499,-0.0642208456993103,-0.009063155390322208,-0.0014926777221262455,0.05121409147977829,0.013837502337992191,-0.11168226599693298,-0.020451677963137627,0.05537831783294678,0.0012860540300607681,-0.03453931584954262,-0.02155502885580063,-0.014219510369002819,0.022912874817848206,0.04853387176990509,-0.05155001953244209,-0.018553396686911583,-0.02904803305864334,-0.10018748044967651,-0.051888588815927505,-0.01897408254444599,-0.008636395446956158,-0.04893099516630173,-0.03447676822543144,-0.02443735860288143,-0.03794930502772331,0.08598622679710388,0.04311973601579666],\"type\":\"scatter3d\"}],                        {\"template\":{\"data\":{\"histogram2dcontour\":[{\"type\":\"histogram2dcontour\",\"colorbar\":{\"outlinewidth\":0,\"ticks\":\"\"},\"colorscale\":[[0.0,\"#0d0887\"],[0.1111111111111111,\"#46039f\"],[0.2222222222222222,\"#7201a8\"],[0.3333333333333333,\"#9c179e\"],[0.4444444444444444,\"#bd3786\"],[0.5555555555555556,\"#d8576b\"],[0.6666666666666666,\"#ed7953\"],[0.7777777777777778,\"#fb9f3a\"],[0.8888888888888888,\"#fdca26\"],[1.0,\"#f0f921\"]]}],\"choropleth\":[{\"type\":\"choropleth\",\"colorbar\":{\"outlinewidth\":0,\"ticks\":\"\"}}],\"histogram2d\":[{\"type\":\"histogram2d\",\"colorbar\":{\"outlinewidth\":0,\"ticks\":\"\"},\"colorscale\":[[0.0,\"#0d0887\"],[0.1111111111111111,\"#46039f\"],[0.2222222222222222,\"#7201a8\"],[0.3333333333333333,\"#9c179e\"],[0.4444444444444444,\"#bd3786\"],[0.5555555555555556,\"#d8576b\"],[0.6666666666666666,\"#ed7953\"],[0.7777777777777778,\"#fb9f3a\"],[0.8888888888888888,\"#fdca26\"],[1.0,\"#f0f921\"]]}],\"heatmap\":[{\"type\":\"heatmap\",\"colorbar\":{\"outlinewidth\":0,\"ticks\":\"\"},\"colorscale\":[[0.0,\"#0d0887\"],[0.1111111111111111,\"#46039f\"],[0.2222222222222222,\"#7201a8\"],[0.3333333333333333,\"#9c179e\"],[0.4444444444444444,\"#bd3786\"],[0.5555555555555556,\"#d8576b\"],[0.6666666666666666,\"#ed7953\"],[0.7777777777777778,\"#fb9f3a\"],[0.8888888888888888,\"#fdca26\"],[1.0,\"#f0f921\"]]}],\"heatmapgl\":[{\"type\":\"heatmapgl\",\"colorbar\":{\"outlinewidth\":0,\"ticks\":\"\"},\"colorscale\":[[0.0,\"#0d0887\"],[0.1111111111111111,\"#46039f\"],[0.2222222222222222,\"#7201a8\"],[0.3333333333333333,\"#9c179e\"],[0.4444444444444444,\"#bd3786\"],[0.5555555555555556,\"#d8576b\"],[0.6666666666666666,\"#ed7953\"],[0.7777777777777778,\"#fb9f3a\"],[0.8888888888888888,\"#fdca26\"],[1.0,\"#f0f921\"]]}],\"contourcarpet\":[{\"type\":\"contourcarpet\",\"colorbar\":{\"outlinewidth\":0,\"ticks\":\"\"}}],\"contour\":[{\"type\":\"contour\",\"colorbar\":{\"outlinewidth\":0,\"ticks\":\"\"},\"colorscale\":[[0.0,\"#0d0887\"],[0.1111111111111111,\"#46039f\"],[0.2222222222222222,\"#7201a8\"],[0.3333333333333333,\"#9c179e\"],[0.4444444444444444,\"#bd3786\"],[0.5555555555555556,\"#d8576b\"],[0.6666666666666666,\"#ed7953\"],[0.7777777777777778,\"#fb9f3a\"],[0.8888888888888888,\"#fdca26\"],[1.0,\"#f0f921\"]]}],\"surface\":[{\"type\":\"surface\",\"colorbar\":{\"outlinewidth\":0,\"ticks\":\"\"},\"colorscale\":[[0.0,\"#0d0887\"],[0.1111111111111111,\"#46039f\"],[0.2222222222222222,\"#7201a8\"],[0.3333333333333333,\"#9c179e\"],[0.4444444444444444,\"#bd3786\"],[0.5555555555555556,\"#d8576b\"],[0.6666666666666666,\"#ed7953\"],[0.7777777777777778,\"#fb9f3a\"],[0.8888888888888888,\"#fdca26\"],[1.0,\"#f0f921\"]]}],\"mesh3d\":[{\"type\":\"mesh3d\",\"colorbar\":{\"outlinewidth\":0,\"ticks\":\"\"}}],\"scatter\":[{\"fillpattern\":{\"fillmode\":\"overlay\",\"size\":10,\"solidity\":0.2},\"type\":\"scatter\"}],\"parcoords\":[{\"type\":\"parcoords\",\"line\":{\"colorbar\":{\"outlinewidth\":0,\"ticks\":\"\"}}}],\"scatterpolargl\":[{\"type\":\"scatterpolargl\",\"marker\":{\"colorbar\":{\"outlinewidth\":0,\"ticks\":\"\"}}}],\"bar\":[{\"error_x\":{\"color\":\"#2a3f5f\"},\"error_y\":{\"color\":\"#2a3f5f\"},\"marker\":{\"line\":{\"color\":\"#E5ECF6\",\"width\":0.5},\"pattern\":{\"fillmode\":\"overlay\",\"size\":10,\"solidity\":0.2}},\"type\":\"bar\"}],\"scattergeo\":[{\"type\":\"scattergeo\",\"marker\":{\"colorbar\":{\"outlinewidth\":0,\"ticks\":\"\"}}}],\"scatterpolar\":[{\"type\":\"scatterpolar\",\"marker\":{\"colorbar\":{\"outlinewidth\":0,\"ticks\":\"\"}}}],\"histogram\":[{\"marker\":{\"pattern\":{\"fillmode\":\"overlay\",\"size\":10,\"solidity\":0.2}},\"type\":\"histogram\"}],\"scattergl\":[{\"type\":\"scattergl\",\"marker\":{\"colorbar\":{\"outlinewidth\":0,\"ticks\":\"\"}}}],\"scatter3d\":[{\"type\":\"scatter3d\",\"line\":{\"colorbar\":{\"outlinewidth\":0,\"ticks\":\"\"}},\"marker\":{\"colorbar\":{\"outlinewidth\":0,\"ticks\":\"\"}}}],\"scattermapbox\":[{\"type\":\"scattermapbox\",\"marker\":{\"colorbar\":{\"outlinewidth\":0,\"ticks\":\"\"}}}],\"scatterternary\":[{\"type\":\"scatterternary\",\"marker\":{\"colorbar\":{\"outlinewidth\":0,\"ticks\":\"\"}}}],\"scattercarpet\":[{\"type\":\"scattercarpet\",\"marker\":{\"colorbar\":{\"outlinewidth\":0,\"ticks\":\"\"}}}],\"carpet\":[{\"aaxis\":{\"endlinecolor\":\"#2a3f5f\",\"gridcolor\":\"white\",\"linecolor\":\"white\",\"minorgridcolor\":\"white\",\"startlinecolor\":\"#2a3f5f\"},\"baxis\":{\"endlinecolor\":\"#2a3f5f\",\"gridcolor\":\"white\",\"linecolor\":\"white\",\"minorgridcolor\":\"white\",\"startlinecolor\":\"#2a3f5f\"},\"type\":\"carpet\"}],\"table\":[{\"cells\":{\"fill\":{\"color\":\"#EBF0F8\"},\"line\":{\"color\":\"white\"}},\"header\":{\"fill\":{\"color\":\"#C8D4E3\"},\"line\":{\"color\":\"white\"}},\"type\":\"table\"}],\"barpolar\":[{\"marker\":{\"line\":{\"color\":\"#E5ECF6\",\"width\":0.5},\"pattern\":{\"fillmode\":\"overlay\",\"size\":10,\"solidity\":0.2}},\"type\":\"barpolar\"}],\"pie\":[{\"automargin\":true,\"type\":\"pie\"}]},\"layout\":{\"autotypenumbers\":\"strict\",\"colorway\":[\"#636efa\",\"#EF553B\",\"#00cc96\",\"#ab63fa\",\"#FFA15A\",\"#19d3f3\",\"#FF6692\",\"#B6E880\",\"#FF97FF\",\"#FECB52\"],\"font\":{\"color\":\"#2a3f5f\"},\"hovermode\":\"closest\",\"hoverlabel\":{\"align\":\"left\"},\"paper_bgcolor\":\"white\",\"plot_bgcolor\":\"#E5ECF6\",\"polar\":{\"bgcolor\":\"#E5ECF6\",\"angularaxis\":{\"gridcolor\":\"white\",\"linecolor\":\"white\",\"ticks\":\"\"},\"radialaxis\":{\"gridcolor\":\"white\",\"linecolor\":\"white\",\"ticks\":\"\"}},\"ternary\":{\"bgcolor\":\"#E5ECF6\",\"aaxis\":{\"gridcolor\":\"white\",\"linecolor\":\"white\",\"ticks\":\"\"},\"baxis\":{\"gridcolor\":\"white\",\"linecolor\":\"white\",\"ticks\":\"\"},\"caxis\":{\"gridcolor\":\"white\",\"linecolor\":\"white\",\"ticks\":\"\"}},\"coloraxis\":{\"colorbar\":{\"outlinewidth\":0,\"ticks\":\"\"}},\"colorscale\":{\"sequential\":[[0.0,\"#0d0887\"],[0.1111111111111111,\"#46039f\"],[0.2222222222222222,\"#7201a8\"],[0.3333333333333333,\"#9c179e\"],[0.4444444444444444,\"#bd3786\"],[0.5555555555555556,\"#d8576b\"],[0.6666666666666666,\"#ed7953\"],[0.7777777777777778,\"#fb9f3a\"],[0.8888888888888888,\"#fdca26\"],[1.0,\"#f0f921\"]],\"sequentialminus\":[[0.0,\"#0d0887\"],[0.1111111111111111,\"#46039f\"],[0.2222222222222222,\"#7201a8\"],[0.3333333333333333,\"#9c179e\"],[0.4444444444444444,\"#bd3786\"],[0.5555555555555556,\"#d8576b\"],[0.6666666666666666,\"#ed7953\"],[0.7777777777777778,\"#fb9f3a\"],[0.8888888888888888,\"#fdca26\"],[1.0,\"#f0f921\"]],\"diverging\":[[0,\"#8e0152\"],[0.1,\"#c51b7d\"],[0.2,\"#de77ae\"],[0.3,\"#f1b6da\"],[0.4,\"#fde0ef\"],[0.5,\"#f7f7f7\"],[0.6,\"#e6f5d0\"],[0.7,\"#b8e186\"],[0.8,\"#7fbc41\"],[0.9,\"#4d9221\"],[1,\"#276419\"]]},\"xaxis\":{\"gridcolor\":\"white\",\"linecolor\":\"white\",\"ticks\":\"\",\"title\":{\"standoff\":15},\"zerolinecolor\":\"white\",\"automargin\":true,\"zerolinewidth\":2},\"yaxis\":{\"gridcolor\":\"white\",\"linecolor\":\"white\",\"ticks\":\"\",\"title\":{\"standoff\":15},\"zerolinecolor\":\"white\",\"automargin\":true,\"zerolinewidth\":2},\"scene\":{\"xaxis\":{\"backgroundcolor\":\"#E5ECF6\",\"gridcolor\":\"white\",\"linecolor\":\"white\",\"showbackground\":true,\"ticks\":\"\",\"zerolinecolor\":\"white\",\"gridwidth\":2},\"yaxis\":{\"backgroundcolor\":\"#E5ECF6\",\"gridcolor\":\"white\",\"linecolor\":\"white\",\"showbackground\":true,\"ticks\":\"\",\"zerolinecolor\":\"white\",\"gridwidth\":2},\"zaxis\":{\"backgroundcolor\":\"#E5ECF6\",\"gridcolor\":\"white\",\"linecolor\":\"white\",\"showbackground\":true,\"ticks\":\"\",\"zerolinecolor\":\"white\",\"gridwidth\":2}},\"shapedefaults\":{\"line\":{\"color\":\"#2a3f5f\"}},\"annotationdefaults\":{\"arrowcolor\":\"#2a3f5f\",\"arrowhead\":0,\"arrowwidth\":1},\"geo\":{\"bgcolor\":\"white\",\"landcolor\":\"#E5ECF6\",\"subunitcolor\":\"white\",\"showland\":true,\"showlakes\":true,\"lakecolor\":\"white\"},\"title\":{\"x\":0.05},\"mapbox\":{\"style\":\"light\"}}},\"scene\":{\"domain\":{\"x\":[0.0,0.49],\"y\":[0.0,1.0]}},\"scene2\":{\"domain\":{\"x\":[0.51,1.0],\"y\":[0.0,1.0]}},\"width\":1100,\"height\":700,\"title\":{\"font\":{\"size\":24},\"text\":\"label=3.80\",\"x\":0.5,\"y\":0.95},\"annotations\":[{\"font\":{\"size\":18},\"showarrow\":false,\"text\":\"A man is playing a large flute.\",\"x\":0.1,\"xref\":\"paper\",\"y\":1.0,\"yref\":\"paper\"},{\"font\":{\"size\":18},\"showarrow\":false,\"text\":\"A man is playing a flute.\",\"x\":0.9,\"xref\":\"paper\",\"y\":1.0,\"yref\":\"paper\"}]},                        {\"responsive\": true}                    ).then(function(){\n",
       "                            \n",
       "var gd = document.getElementById('d7236e9d-05c1-482b-93b3-248334b380b7');\n",
       "var x = new MutationObserver(function (mutations, observer) {{\n",
       "        var display = window.getComputedStyle(gd).display;\n",
       "        if (!display || display === 'none') {{\n",
       "            console.log([gd, 'removed!']);\n",
       "            Plotly.purge(gd);\n",
       "            observer.disconnect();\n",
       "        }}\n",
       "}});\n",
       "\n",
       "// Listen for the removal of the full notebook cells\n",
       "var notebookContainer = gd.closest('#notebook-container');\n",
       "if (notebookContainer) {{\n",
       "    x.observe(notebookContainer, {childList: true});\n",
       "}}\n",
       "\n",
       "// Listen for the clearing of the current output cell\n",
       "var outputEl = gd.closest('.output');\n",
       "if (outputEl) {{\n",
       "    x.observe(outputEl, {childList: true});\n",
       "}}\n",
       "\n",
       "                        })                };                });            </script>        </div>"
      ]
     },
     "metadata": {},
     "output_type": "display_data"
    },
    {
     "name": "stdout",
     "output_type": "stream",
     "text": [
      "pd in plotPD=[[0.00044555 0.00061702]\n",
      " [0.00044604 0.00064797]\n",
      " [0.00045972 0.0007795 ]\n",
      " [0.00047454 0.0007787 ]\n",
      " [0.00047674 0.00077402]\n",
      " [0.00049941 0.00082618]\n",
      " [0.00062777 0.00120486]\n",
      " [0.00063131 0.00093463]\n",
      " [0.00063648 0.00077984]\n",
      " [0.00067494 0.00086136]\n",
      " [0.00077074 0.00092019]\n",
      " [0.00084411 0.00152396]\n",
      " [0.00084982 0.00110155]\n",
      " [0.00086845 0.00106377]\n",
      " [0.00088854 0.00104267]\n",
      " [0.00093127 0.00109599]\n",
      " [0.00102756 0.00124461]\n",
      " [0.00187455 0.00202002]\n",
      " [0.00237649 0.00252175]\n",
      " [0.00404821 0.00422624]]\n"
     ]
    },
    {
     "name": "stderr",
     "output_type": "stream",
     "text": [
      "/tmp/ipykernel_1482003/1255036340.py:31: UserWarning:\n",
      "\n",
      "FigureCanvasAgg is non-interactive, and thus cannot be shown\n",
      "\n"
     ]
    },
    {
     "data": {
      "image/png": "[encoded data removed]",
      "text/plain": [
       "<Figure size 800x400 with 2 Axes>"
      ]
     },
     "metadata": {},
     "output_type": "display_data"
    }
   ],
   "source": [
    "%matplotlib inline\n",
    "generatePdFigure(1, 20)"
   ]
  },
  {
   "cell_type": "code",
   "execution_count": 42,
   "id": "e9a01ec5-49d8-4cd6-bf23-b28977c550fd",
   "metadata": {},
   "outputs": [
    {
     "name": "stdout",
     "output_type": "stream",
     "text": [
      "2024-09-03 16:04:49,608] MainProcess(1482003).MainThread(139852985743168) 2459079984.get_pd(2) INFO -> fvecs=(61, 3)\n",
      "pdlist=PDList(path=None)\n",
      "birth death=(101, 2)\n",
      "index1=0, index2=20\n",
      "2024-09-03 16:04:49,620] MainProcess(1482003).MainThread(139852985743168) 2459079984.get_pd(2) INFO -> fvecs=(61, 3)\n",
      "pdlist=PDList(path=None)\n",
      "birth death=(100, 2)\n"
     ]
    },
    {
     "data": {
      "application/vnd.plotly.v1+json": {
       "config": {
        "plotlyServerURL": "https://plot.ly"
       },
       "data": [
        {
         "hovertemplate": "0=%{x}<br>1=%{y}<br>2=%{z}<extra></extra>",
         "legendgroup": "",
         "marker": {
          "color": "#636efa",
          "size": 2,
          "symbol": "circle"
         },
         "mode": "markers",
         "name": "",
         "scene": "scene",
         "showlegend": false,
         "type": "scatter3d",
         "x": [
          0.03999098017811775,
          0.14445260167121887,
          -0.08964406698942184,
          0.06122567132115364,
          -0.016950855031609535,
          -0.05330062657594681,
          -0.02604890801012516,
          0.00518131535500288,
          -0.05531804636120796,
          -0.09309811145067215,
          0.02021092362701893,
          0.04644889384508133,
          -0.02628069557249546,
          0.05429671332240105,
          -0.01229237299412489,
          -0.028499996289610863,
          0.06537214666604996,
          -0.059604767709970474,
          0.020216334611177444,
          -0.05825135484337807,
          -0.017281217500567436,
          0.07614744454622269,
          0.06144537404179573,
          -0.04038446024060249,
          -0.021517248824238777,
          -0.014329946599900723,
          -0.008624212816357613,
          -0.03439861908555031,
          -0.014565643854439259,
          0.001485530287027359,
          0.02091583050787449,
          0.03603297472000122,
          0.005477346479892731,
          -0.0444202721118927,
          0.028215572237968445,
          -0.07724785804748535,
          0.027069196105003357,
          -0.04495837539434433,
          0.0034255993086844683,
          -0.04897250235080719,
          -0.06601856648921967,
          0.08721593767404556,
          0.015567689202725887,
          -0.031032444909214973,
          -0.03811556100845337,
          -0.028124820441007614,
          -0.04446430504322052,
          0.010075688362121582,
          0.020349353551864624,
          0.0065683932043612,
          -0.1267802119255066,
          -0.01875806413590908,
          0.04316089674830437,
          -0.04564890265464783,
          -0.10951955616474152,
          0.0036579740699380636,
          -0.041367307305336,
          0.004648894537240267,
          0.029636070132255554,
          -0.014152374118566513,
          -0.013996047899127007
         ],
         "y": [
          -0.04377329722046852,
          0.055914293974637985,
          0.04620062932372093,
          -0.03963635116815567,
          0.08362215757369995,
          -0.025392169132828712,
          -0.004976262804120779,
          0.04680851474404335,
          -0.01321194227784872,
          0.018664440140128136,
          0.07731739431619644,
          0.05934017151594162,
          -0.05796636641025543,
          0.10424116253852844,
          -0.006573335733264685,
          -0.05947236344218254,
          -0.066537044942379,
          -0.026577625423669815,
          0.10593391954898834,
          -0.029236964881420135,
          -0.07447906583547592,
          0.006941863335669041,
          -0.028377573937177658,
          0.06692776083946228,
          -0.02056768722832203,
          -0.05403361842036247,
          -0.0848492980003357,
          0.06700576841831207,
          -0.0811079666018486,
          0.026465483009815216,
          0.04325127229094505,
          0.06273170560598373,
          0.03686337172985077,
          0.07725779712200165,
          -0.08129612356424332,
          0.07713085412979126,
          0.04633514955639839,
          0.053385179489851,
          -0.00222449260763824,
          -0.07459665089845657,
          -0.05273078754544258,
          -0.0060789743438363075,
          0.01886892132461071,
          -0.004644350614398718,
          0.1414782553911209,
          -0.006898087915033102,
          0.10922446846961975,
          0.046686556190252304,
          0.03091518022119999,
          0.002741607604548335,
          0.039869144558906555,
          0.015295506455004215,
          0.07639764249324799,
          -0.03809261694550514,
          0.05686447024345398,
          0.0839313268661499,
          -0.0678999274969101,
          0.0403352826833725,
          -0.032078903168439865,
          -0.031677164137363434,
          -0.03703661635518074
         ],
         "z": [
          0.06122567132115364,
          -0.016950855031609535,
          -0.05330062657594681,
          -0.02604890801012516,
          0.00518131535500288,
          -0.05531804636120796,
          -0.09309811145067215,
          0.02021092362701893,
          0.04644889384508133,
          -0.02628069557249546,
          0.05429671332240105,
          -0.01229237299412489,
          -0.028499996289610863,
          0.06537214666604996,
          -0.059604767709970474,
          0.020216334611177444,
          -0.05825135484337807,
          -0.017281217500567436,
          0.07614744454622269,
          0.06144537404179573,
          -0.04038446024060249,
          -0.021517248824238777,
          -0.014329946599900723,
          -0.008624212816357613,
          -0.03439861908555031,
          -0.014565643854439259,
          0.001485530287027359,
          0.02091583050787449,
          0.03603297472000122,
          0.005477346479892731,
          -0.0444202721118927,
          0.028215572237968445,
          -0.07724785804748535,
          0.027069196105003357,
          -0.04495837539434433,
          0.0034255993086844683,
          -0.04897250235080719,
          -0.06601856648921967,
          0.08721593767404556,
          0.015567689202725887,
          -0.031032444909214973,
          -0.03811556100845337,
          -0.028124820441007614,
          -0.04446430504322052,
          0.010075688362121582,
          0.020349353551864624,
          0.0065683932043612,
          -0.1267802119255066,
          -0.01875806413590908,
          0.04316089674830437,
          -0.04564890265464783,
          -0.10951955616474152,
          0.0036579740699380636,
          -0.041367307305336,
          0.004648894537240267,
          0.029636070132255554,
          -0.014152374118566513,
          -0.013996047899127007,
          -0.005994120147079229,
          -0.006292205303907394,
          0.03270423412322998
         ]
        },
        {
         "hovertemplate": "0=%{x}<br>1=%{y}<br>2=%{z}<extra></extra>",
         "legendgroup": "",
         "marker": {
          "color": "#636efa",
          "size": 2,
          "symbol": "circle"
         },
         "mode": "markers",
         "name": "",
         "scene": "scene2",
         "showlegend": false,
         "type": "scatter3d",
         "x": [
          0.027850478887557983,
          0.14812779426574707,
          -0.11681504547595978,
          0.04462694749236107,
          -0.031150156632065773,
          -0.05846823751926422,
          -0.02962561696767807,
          0.0038813073188066483,
          -0.038328323513269424,
          -0.09554439038038254,
          0.010780338197946548,
          0.048528041690588,
          -0.0634656548500061,
          0.021436097100377083,
          0.002129780827090144,
          -0.023138701915740967,
          0.04816567152738571,
          -0.06742201745510101,
          0.0022527147084474564,
          -0.05935491994023323,
          -0.037150513380765915,
          0.04898679256439209,
          0.09575999528169632,
          -0.05381060764193535,
          -0.0002792441810015589,
          -0.01629733480513096,
          -0.014382030814886093,
          -0.023625437170267105,
          -0.017549358308315277,
          -0.0005143505404703319,
          0.01985718496143818,
          0.04717031121253967,
          0.03008977323770523,
          -0.038628675043582916,
          0.009470042772591114,
          -0.06178659945726395,
          -0.0016129305586218834,
          -0.04687757045030594,
          -0.0069380891509354115,
          -0.07150504738092422,
          -0.0737767294049263,
          0.09963057935237885,
          0.04781516268849373,
          -0.020424406975507736,
          -0.022078393027186394,
          -0.03900201991200447,
          -0.037058982998132706,
          -0.007449587341398001,
          0.018120191991329193,
          0.002873605815693736,
          -0.12082605808973312,
          -0.006801612675189972,
          0.04406902939081192,
          -0.052535299211740494,
          -0.11037024855613708,
          -0.0210538599640131,
          -0.020496897399425507,
          -0.00019514214363880455,
          0.00833161547780037,
          -0.026778919622302055,
          -0.012382431887090206
         ],
         "y": [
          -0.06950739026069641,
          0.0584581233561039,
          0.01772967167198658,
          0.007872752845287323,
          0.08676126599311829,
          -0.039253778755664825,
          -0.020123055204749107,
          0.024558190256357193,
          -0.013191241770982742,
          0.0368148572742939,
          0.08088929951190948,
          0.07525978982448578,
          -0.05685338377952576,
          0.13153958320617676,
          -0.017880432307720184,
          -0.07304710149765015,
          -0.07350240647792816,
          -0.03066847287118435,
          0.09684091061353683,
          -0.02886624075472355,
          -0.051477108150720596,
          0.0032937070354819298,
          -0.06065961718559265,
          0.05239739269018173,
          -0.020116742700338364,
          -0.051184456795454025,
          -0.08534304052591324,
          0.06316228210926056,
          -0.05854814127087593,
          -0.00244829710572958,
          0.052734486758708954,
          0.039770882576704025,
          0.008584228344261646,
          0.07932957261800766,
          -0.07988812774419785,
          0.06747256219387054,
          0.026713548228144646,
          0.055357396602630615,
          -0.0039086961187422276,
          -0.07976922392845154,
          -0.0540333092212677,
          0.007449711207300425,
          0.014763761311769485,
          -0.011916625313460827,
          0.13631638884544373,
          0.04357171803712845,
          0.11600691080093384,
          0.05596248805522919,
          0.031857192516326904,
          0.000840933935251087,
          0.015897145494818687,
          0.01246512122452259,
          0.05071686580777168,
          -0.014468582347035408,
          0.05594540014863014,
          0.07572322338819504,
          -0.0707787424325943,
          0.05696287378668785,
          -0.06709855049848557,
          -0.026856085285544395,
          -0.023464545607566833
         ],
         "z": [
          0.04462694749236107,
          -0.031150156632065773,
          -0.05846823751926422,
          -0.02962561696767807,
          0.0038813073188066483,
          -0.038328323513269424,
          -0.09554439038038254,
          0.010780338197946548,
          0.048528041690588,
          -0.0634656548500061,
          0.021436097100377083,
          0.002129780827090144,
          -0.023138701915740967,
          0.04816567152738571,
          -0.06742201745510101,
          0.0022527147084474564,
          -0.05935491994023323,
          -0.037150513380765915,
          0.04898679256439209,
          0.09575999528169632,
          -0.05381060764193535,
          -0.0002792441810015589,
          -0.01629733480513096,
          -0.014382030814886093,
          -0.023625437170267105,
          -0.017549358308315277,
          -0.0005143505404703319,
          0.01985718496143818,
          0.04717031121253967,
          0.03008977323770523,
          -0.038628675043582916,
          0.009470042772591114,
          -0.06178659945726395,
          -0.0016129305586218834,
          -0.04687757045030594,
          -0.0069380891509354115,
          -0.07150504738092422,
          -0.0737767294049263,
          0.09963057935237885,
          0.04781516268849373,
          -0.020424406975507736,
          -0.022078393027186394,
          -0.03900201991200447,
          -0.037058982998132706,
          -0.007449587341398001,
          0.018120191991329193,
          0.002873605815693736,
          -0.12082605808973312,
          -0.006801612675189972,
          0.04406902939081192,
          -0.052535299211740494,
          -0.11037024855613708,
          -0.0210538599640131,
          -0.020496897399425507,
          -0.00019514214363880455,
          0.00833161547780037,
          -0.026778919622302055,
          -0.012382431887090206,
          0.011438937857747078,
          -0.009357752278447151,
          0.06326378881931305
         ]
        }
       ],
       "layout": {
        "annotations": [
         {
          "font": {
           "size": 18
          },
          "showarrow": false,
          "text": "A plane is taking off.",
          "x": 0.1,
          "xref": "paper",
          "y": 1,
          "yref": "paper"
         },
         {
          "font": {
           "size": 18
          },
          "showarrow": false,
          "text": "An air plane is taking off.",
          "x": 0.9,
          "xref": "paper",
          "y": 1,
          "yref": "paper"
         }
        ],
        "height": 700,
        "scene": {
         "aspectmode": "auto",
         "aspectratio": {
          "x": 1.149512478429203,
          "y": 0.9591993807307243,
          "z": 0.9069376268987591
         },
         "domain": {
          "x": [
           0,
           0.49
          ],
          "y": [
           0,
           1
          ]
         }
        },
        "scene2": {
         "aspectmode": "auto",
         "aspectratio": {
          "x": 1.1396776974323808,
          "y": 0.9392700861790657,
          "z": 0.9341733191150996
         },
         "domain": {
          "x": [
           0.51,
           1
          ],
          "y": [
           0,
           1
          ]
         }
        },
        "template": {
         "data": {
          "bar": [
           {
            "error_x": {
             "color": "#2a3f5f"
            },
            "error_y": {
             "color": "#2a3f5f"
            },
            "marker": {
             "line": {
              "color": "#E5ECF6",
              "width": 0.5
             },
             "pattern": {
              "fillmode": "overlay",
              "size": 10,
              "solidity": 0.2
             }
            },
            "type": "bar"
           }
          ],
          "barpolar": [
           {
            "marker": {
             "line": {
              "color": "#E5ECF6",
              "width": 0.5
             },
             "pattern": {
              "fillmode": "overlay",
              "size": 10,
              "solidity": 0.2
             }
            },
            "type": "barpolar"
           }
          ],
          "carpet": [
           {
            "aaxis": {
             "endlinecolor": "#2a3f5f",
             "gridcolor": "white",
             "linecolor": "white",
             "minorgridcolor": "white",
             "startlinecolor": "#2a3f5f"
            },
            "baxis": {
             "endlinecolor": "#2a3f5f",
             "gridcolor": "white",
             "linecolor": "white",
             "minorgridcolor": "white",
             "startlinecolor": "#2a3f5f"
            },
            "type": "carpet"
           }
          ],
          "choropleth": [
           {
            "colorbar": {
             "outlinewidth": 0,
             "ticks": ""
            },
            "type": "choropleth"
           }
          ],
          "contour": [
           {
            "colorbar": {
             "outlinewidth": 0,
             "ticks": ""
            },
            "colorscale": [
             [
              0,
              "#0d0887"
             ],
             [
              0.1111111111111111,
              "#46039f"
             ],
             [
              0.2222222222222222,
              "#7201a8"
             ],
             [
              0.3333333333333333,
              "#9c179e"
             ],
             [
              0.4444444444444444,
              "#bd3786"
             ],
             [
              0.5555555555555556,
              "#d8576b"
             ],
             [
              0.6666666666666666,
              "#ed7953"
             ],
             [
              0.7777777777777778,
              "#fb9f3a"
             ],
             [
              0.8888888888888888,
              "#fdca26"
             ],
             [
              1,
              "#f0f921"
             ]
            ],
            "type": "contour"
           }
          ],
          "contourcarpet": [
           {
            "colorbar": {
             "outlinewidth": 0,
             "ticks": ""
            },
            "type": "contourcarpet"
           }
          ],
          "heatmap": [
           {
            "colorbar": {
             "outlinewidth": 0,
             "ticks": ""
            },
            "colorscale": [
             [
              0,
              "#0d0887"
             ],
             [
              0.1111111111111111,
              "#46039f"
             ],
             [
              0.2222222222222222,
              "#7201a8"
             ],
             [
              0.3333333333333333,
              "#9c179e"
             ],
             [
              0.4444444444444444,
              "#bd3786"
             ],
             [
              0.5555555555555556,
              "#d8576b"
             ],
             [
              0.6666666666666666,
              "#ed7953"
             ],
             [
              0.7777777777777778,
              "#fb9f3a"
             ],
             [
              0.8888888888888888,
              "#fdca26"
             ],
             [
              1,
              "#f0f921"
             ]
            ],
            "type": "heatmap"
           }
          ],
          "heatmapgl": [
           {
            "colorbar": {
             "outlinewidth": 0,
             "ticks": ""
            },
            "colorscale": [
             [
              0,
              "#0d0887"
             ],
             [
              0.1111111111111111,
              "#46039f"
             ],
             [
              0.2222222222222222,
              "#7201a8"
             ],
             [
              0.3333333333333333,
              "#9c179e"
             ],
             [
              0.4444444444444444,
              "#bd3786"
             ],
             [
              0.5555555555555556,
              "#d8576b"
             ],
             [
              0.6666666666666666,
              "#ed7953"
             ],
             [
              0.7777777777777778,
              "#fb9f3a"
             ],
             [
              0.8888888888888888,
              "#fdca26"
             ],
             [
              1,
              "#f0f921"
             ]
            ],
            "type": "heatmapgl"
           }
          ],
          "histogram": [
           {
            "marker": {
             "pattern": {
              "fillmode": "overlay",
              "size": 10,
              "solidity": 0.2
             }
            },
            "type": "histogram"
           }
          ],
          "histogram2d": [
           {
            "colorbar": {
             "outlinewidth": 0,
             "ticks": ""
            },
            "colorscale": [
             [
              0,
              "#0d0887"
             ],
             [
              0.1111111111111111,
              "#46039f"
             ],
             [
              0.2222222222222222,
              "#7201a8"
             ],
             [
              0.3333333333333333,
              "#9c179e"
             ],
             [
              0.4444444444444444,
              "#bd3786"
             ],
             [
              0.5555555555555556,
              "#d8576b"
             ],
             [
              0.6666666666666666,
              "#ed7953"
             ],
             [
              0.7777777777777778,
              "#fb9f3a"
             ],
             [
              0.8888888888888888,
              "#fdca26"
             ],
             [
              1,
              "#f0f921"
             ]
            ],
            "type": "histogram2d"
           }
          ],
          "histogram2dcontour": [
           {
            "colorbar": {
             "outlinewidth": 0,
             "ticks": ""
            },
            "colorscale": [
             [
              0,
              "#0d0887"
             ],
             [
              0.1111111111111111,
              "#46039f"
             ],
             [
              0.2222222222222222,
              "#7201a8"
             ],
             [
              0.3333333333333333,
              "#9c179e"
             ],
             [
              0.4444444444444444,
              "#bd3786"
             ],
             [
              0.5555555555555556,
              "#d8576b"
             ],
             [
              0.6666666666666666,
              "#ed7953"
             ],
             [
              0.7777777777777778,
              "#fb9f3a"
             ],
             [
              0.8888888888888888,
              "#fdca26"
             ],
             [
              1,
              "#f0f921"
             ]
            ],
            "type": "histogram2dcontour"
           }
          ],
          "mesh3d": [
           {
            "colorbar": {
             "outlinewidth": 0,
             "ticks": ""
            },
            "type": "mesh3d"
           }
          ],
          "parcoords": [
           {
            "line": {
             "colorbar": {
              "outlinewidth": 0,
              "ticks": ""
             }
            },
            "type": "parcoords"
           }
          ],
          "pie": [
           {
            "automargin": true,
            "type": "pie"
           }
          ],
          "scatter": [
           {
            "fillpattern": {
             "fillmode": "overlay",
             "size": 10,
             "solidity": 0.2
            },
            "type": "scatter"
           }
          ],
          "scatter3d": [
           {
            "line": {
             "colorbar": {
              "outlinewidth": 0,
              "ticks": ""
             }
            },
            "marker": {
             "colorbar": {
              "outlinewidth": 0,
              "ticks": ""
             }
            },
            "type": "scatter3d"
           }
          ],
          "scattercarpet": [
           {
            "marker": {
             "colorbar": {
              "outlinewidth": 0,
              "ticks": ""
             }
            },
            "type": "scattercarpet"
           }
          ],
          "scattergeo": [
           {
            "marker": {
             "colorbar": {
              "outlinewidth": 0,
              "ticks": ""
             }
            },
            "type": "scattergeo"
           }
          ],
          "scattergl": [
           {
            "marker": {
             "colorbar": {
              "outlinewidth": 0,
              "ticks": ""
             }
            },
            "type": "scattergl"
           }
          ],
          "scattermapbox": [
           {
            "marker": {
             "colorbar": {
              "outlinewidth": 0,
              "ticks": ""
             }
            },
            "type": "scattermapbox"
           }
          ],
          "scatterpolar": [
           {
            "marker": {
             "colorbar": {
              "outlinewidth": 0,
              "ticks": ""
             }
            },
            "type": "scatterpolar"
           }
          ],
          "scatterpolargl": [
           {
            "marker": {
             "colorbar": {
              "outlinewidth": 0,
              "ticks": ""
             }
            },
            "type": "scatterpolargl"
           }
          ],
          "scatterternary": [
           {
            "marker": {
             "colorbar": {
              "outlinewidth": 0,
              "ticks": ""
             }
            },
            "type": "scatterternary"
           }
          ],
          "surface": [
           {
            "colorbar": {
             "outlinewidth": 0,
             "ticks": ""
            },
            "colorscale": [
             [
              0,
              "#0d0887"
             ],
             [
              0.1111111111111111,
              "#46039f"
             ],
             [
              0.2222222222222222,
              "#7201a8"
             ],
             [
              0.3333333333333333,
              "#9c179e"
             ],
             [
              0.4444444444444444,
              "#bd3786"
             ],
             [
              0.5555555555555556,
              "#d8576b"
             ],
             [
              0.6666666666666666,
              "#ed7953"
             ],
             [
              0.7777777777777778,
              "#fb9f3a"
             ],
             [
              0.8888888888888888,
              "#fdca26"
             ],
             [
              1,
              "#f0f921"
             ]
            ],
            "type": "surface"
           }
          ],
          "table": [
           {
            "cells": {
             "fill": {
              "color": "#EBF0F8"
             },
             "line": {
              "color": "white"
             }
            },
            "header": {
             "fill": {
              "color": "#C8D4E3"
             },
             "line": {
              "color": "white"
             }
            },
            "type": "table"
           }
          ]
         },
         "layout": {
          "annotationdefaults": {
           "arrowcolor": "#2a3f5f",
           "arrowhead": 0,
           "arrowwidth": 1
          },
          "autotypenumbers": "strict",
          "coloraxis": {
           "colorbar": {
            "outlinewidth": 0,
            "ticks": ""
           }
          },
          "colorscale": {
           "diverging": [
            [
             0,
             "#8e0152"
            ],
            [
             0.1,
             "#c51b7d"
            ],
            [
             0.2,
             "#de77ae"
            ],
            [
             0.3,
             "#f1b6da"
            ],
            [
             0.4,
             "#fde0ef"
            ],
            [
             0.5,
             "#f7f7f7"
            ],
            [
             0.6,
             "#e6f5d0"
            ],
            [
             0.7,
             "#b8e186"
            ],
            [
             0.8,
             "#7fbc41"
            ],
            [
             0.9,
             "#4d9221"
            ],
            [
             1,
             "#276419"
            ]
           ],
           "sequential": [
            [
             0,
             "#0d0887"
            ],
            [
             0.1111111111111111,
             "#46039f"
            ],
            [
             0.2222222222222222,
             "#7201a8"
            ],
            [
             0.3333333333333333,
             "#9c179e"
            ],
            [
             0.4444444444444444,
             "#bd3786"
            ],
            [
             0.5555555555555556,
             "#d8576b"
            ],
            [
             0.6666666666666666,
             "#ed7953"
            ],
            [
             0.7777777777777778,
             "#fb9f3a"
            ],
            [
             0.8888888888888888,
             "#fdca26"
            ],
            [
             1,
             "#f0f921"
            ]
           ],
           "sequentialminus": [
            [
             0,
             "#0d0887"
            ],
            [
             0.1111111111111111,
             "#46039f"
            ],
            [
             0.2222222222222222,
             "#7201a8"
            ],
            [
             0.3333333333333333,
             "#9c179e"
            ],
            [
             0.4444444444444444,
             "#bd3786"
            ],
            [
             0.5555555555555556,
             "#d8576b"
            ],
            [
             0.6666666666666666,
             "#ed7953"
            ],
            [
             0.7777777777777778,
             "#fb9f3a"
            ],
            [
             0.8888888888888888,
             "#fdca26"
            ],
            [
             1,
             "#f0f921"
            ]
           ]
          },
          "colorway": [
           "#636efa",
           "#EF553B",
           "#00cc96",
           "#ab63fa",
           "#FFA15A",
           "#19d3f3",
           "#FF6692",
           "#B6E880",
           "#FF97FF",
           "#FECB52"
          ],
          "font": {
           "color": "#2a3f5f"
          },
          "geo": {
           "bgcolor": "white",
           "lakecolor": "white",
           "landcolor": "#E5ECF6",
           "showlakes": true,
           "showland": true,
           "subunitcolor": "white"
          },
          "hoverlabel": {
           "align": "left"
          },
          "hovermode": "closest",
          "mapbox": {
           "style": "light"
          },
          "paper_bgcolor": "white",
          "plot_bgcolor": "#E5ECF6",
          "polar": {
           "angularaxis": {
            "gridcolor": "white",
            "linecolor": "white",
            "ticks": ""
           },
           "bgcolor": "#E5ECF6",
           "radialaxis": {
            "gridcolor": "white",
            "linecolor": "white",
            "ticks": ""
           }
          },
          "scene": {
           "xaxis": {
            "backgroundcolor": "#E5ECF6",
            "gridcolor": "white",
            "gridwidth": 2,
            "linecolor": "white",
            "showbackground": true,
            "ticks": "",
            "zerolinecolor": "white"
           },
           "yaxis": {
            "backgroundcolor": "#E5ECF6",
            "gridcolor": "white",
            "gridwidth": 2,
            "linecolor": "white",
            "showbackground": true,
            "ticks": "",
            "zerolinecolor": "white"
           },
           "zaxis": {
            "backgroundcolor": "#E5ECF6",
            "gridcolor": "white",
            "gridwidth": 2,
            "linecolor": "white",
            "showbackground": true,
            "ticks": "",
            "zerolinecolor": "white"
           }
          },
          "shapedefaults": {
           "line": {
            "color": "#2a3f5f"
           }
          },
          "ternary": {
           "aaxis": {
            "gridcolor": "white",
            "linecolor": "white",
            "ticks": ""
           },
           "baxis": {
            "gridcolor": "white",
            "linecolor": "white",
            "ticks": ""
           },
           "bgcolor": "#E5ECF6",
           "caxis": {
            "gridcolor": "white",
            "linecolor": "white",
            "ticks": ""
           }
          },
          "title": {
           "x": 0.05
          },
          "xaxis": {
           "automargin": true,
           "gridcolor": "white",
           "linecolor": "white",
           "ticks": "",
           "title": {
            "standoff": 15
           },
           "zerolinecolor": "white",
           "zerolinewidth": 2
          },
          "yaxis": {
           "automargin": true,
           "gridcolor": "white",
           "linecolor": "white",
           "ticks": "",
           "title": {
            "standoff": 15
           },
           "zerolinecolor": "white",
           "zerolinewidth": 2
          }
         }
        },
        "title": {
         "font": {
          "size": 24
         },
         "text": "label=5.00(index=0)",
         "x": 0.5,
         "y": 0.95
        },
        "width": 1100
       }
      },
      "text/html": [
       "<div>                            <div id=\"cf9ae37c-1eb2-40c6-96b8-fd8e327c215a\" class=\"plotly-graph-div\" style=\"height:700px; width:1100px;\"></div>            <script type=\"text/javascript\">                require([\"plotly\"], function(Plotly) {                    window.PLOTLYENV=window.PLOTLYENV || {};                                    if (document.getElementById(\"cf9ae37c-1eb2-40c6-96b8-fd8e327c215a\")) {                    Plotly.newPlot(                        \"cf9ae37c-1eb2-40c6-96b8-fd8e327c215a\",                        [{\"hovertemplate\":\"0=%{x}\\u003cbr\\u003e1=%{y}\\u003cbr\\u003e2=%{z}\\u003cextra\\u003e\\u003c\\u002fextra\\u003e\",\"legendgroup\":\"\",\"marker\":{\"color\":\"#636efa\",\"size\":2,\"symbol\":\"circle\"},\"mode\":\"markers\",\"name\":\"\",\"scene\":\"scene\",\"showlegend\":false,\"x\":[0.03999098017811775,0.14445260167121887,-0.08964406698942184,0.06122567132115364,-0.016950855031609535,-0.05330062657594681,-0.02604890801012516,0.00518131535500288,-0.05531804636120796,-0.09309811145067215,0.02021092362701893,0.04644889384508133,-0.02628069557249546,0.05429671332240105,-0.01229237299412489,-0.028499996289610863,0.06537214666604996,-0.059604767709970474,0.020216334611177444,-0.05825135484337807,-0.017281217500567436,0.07614744454622269,0.06144537404179573,-0.04038446024060249,-0.021517248824238777,-0.014329946599900723,-0.008624212816357613,-0.03439861908555031,-0.014565643854439259,0.001485530287027359,0.02091583050787449,0.03603297472000122,0.005477346479892731,-0.0444202721118927,0.028215572237968445,-0.07724785804748535,0.027069196105003357,-0.04495837539434433,0.0034255993086844683,-0.04897250235080719,-0.06601856648921967,0.08721593767404556,0.015567689202725887,-0.031032444909214973,-0.03811556100845337,-0.028124820441007614,-0.04446430504322052,0.010075688362121582,0.020349353551864624,0.0065683932043612,-0.1267802119255066,-0.01875806413590908,0.04316089674830437,-0.04564890265464783,-0.10951955616474152,0.0036579740699380636,-0.041367307305336,0.004648894537240267,0.029636070132255554,-0.014152374118566513,-0.013996047899127007],\"y\":[-0.04377329722046852,0.055914293974637985,0.04620062932372093,-0.03963635116815567,0.08362215757369995,-0.025392169132828712,-0.004976262804120779,0.04680851474404335,-0.01321194227784872,0.018664440140128136,0.07731739431619644,0.05934017151594162,-0.05796636641025543,0.10424116253852844,-0.006573335733264685,-0.05947236344218254,-0.066537044942379,-0.026577625423669815,0.10593391954898834,-0.029236964881420135,-0.07447906583547592,0.006941863335669041,-0.028377573937177658,0.06692776083946228,-0.02056768722832203,-0.05403361842036247,-0.0848492980003357,0.06700576841831207,-0.0811079666018486,0.026465483009815216,0.04325127229094505,0.06273170560598373,0.03686337172985077,0.07725779712200165,-0.08129612356424332,0.07713085412979126,0.04633514955639839,0.053385179489851,-0.00222449260763824,-0.07459665089845657,-0.05273078754544258,-0.0060789743438363075,0.01886892132461071,-0.004644350614398718,0.1414782553911209,-0.006898087915033102,0.10922446846961975,0.046686556190252304,0.03091518022119999,0.002741607604548335,0.039869144558906555,0.015295506455004215,0.07639764249324799,-0.03809261694550514,0.05686447024345398,0.0839313268661499,-0.0678999274969101,0.0403352826833725,-0.032078903168439865,-0.031677164137363434,-0.03703661635518074],\"z\":[0.06122567132115364,-0.016950855031609535,-0.05330062657594681,-0.02604890801012516,0.00518131535500288,-0.05531804636120796,-0.09309811145067215,0.02021092362701893,0.04644889384508133,-0.02628069557249546,0.05429671332240105,-0.01229237299412489,-0.028499996289610863,0.06537214666604996,-0.059604767709970474,0.020216334611177444,-0.05825135484337807,-0.017281217500567436,0.07614744454622269,0.06144537404179573,-0.04038446024060249,-0.021517248824238777,-0.014329946599900723,-0.008624212816357613,-0.03439861908555031,-0.014565643854439259,0.001485530287027359,0.02091583050787449,0.03603297472000122,0.005477346479892731,-0.0444202721118927,0.028215572237968445,-0.07724785804748535,0.027069196105003357,-0.04495837539434433,0.0034255993086844683,-0.04897250235080719,-0.06601856648921967,0.08721593767404556,0.015567689202725887,-0.031032444909214973,-0.03811556100845337,-0.028124820441007614,-0.04446430504322052,0.010075688362121582,0.020349353551864624,0.0065683932043612,-0.1267802119255066,-0.01875806413590908,0.04316089674830437,-0.04564890265464783,-0.10951955616474152,0.0036579740699380636,-0.041367307305336,0.004648894537240267,0.029636070132255554,-0.014152374118566513,-0.013996047899127007,-0.005994120147079229,-0.006292205303907394,0.03270423412322998],\"type\":\"scatter3d\"},{\"hovertemplate\":\"0=%{x}\\u003cbr\\u003e1=%{y}\\u003cbr\\u003e2=%{z}\\u003cextra\\u003e\\u003c\\u002fextra\\u003e\",\"legendgroup\":\"\",\"marker\":{\"color\":\"#636efa\",\"size\":2,\"symbol\":\"circle\"},\"mode\":\"markers\",\"name\":\"\",\"scene\":\"scene2\",\"showlegend\":false,\"x\":[0.027850478887557983,0.14812779426574707,-0.11681504547595978,0.04462694749236107,-0.031150156632065773,-0.05846823751926422,-0.02962561696767807,0.0038813073188066483,-0.038328323513269424,-0.09554439038038254,0.010780338197946548,0.048528041690588,-0.0634656548500061,0.021436097100377083,0.002129780827090144,-0.023138701915740967,0.04816567152738571,-0.06742201745510101,0.0022527147084474564,-0.05935491994023323,-0.037150513380765915,0.04898679256439209,0.09575999528169632,-0.05381060764193535,-0.0002792441810015589,-0.01629733480513096,-0.014382030814886093,-0.023625437170267105,-0.017549358308315277,-0.0005143505404703319,0.01985718496143818,0.04717031121253967,0.03008977323770523,-0.038628675043582916,0.009470042772591114,-0.06178659945726395,-0.0016129305586218834,-0.04687757045030594,-0.0069380891509354115,-0.07150504738092422,-0.0737767294049263,0.09963057935237885,0.04781516268849373,-0.020424406975507736,-0.022078393027186394,-0.03900201991200447,-0.037058982998132706,-0.007449587341398001,0.018120191991329193,0.002873605815693736,-0.12082605808973312,-0.006801612675189972,0.04406902939081192,-0.052535299211740494,-0.11037024855613708,-0.0210538599640131,-0.020496897399425507,-0.00019514214363880455,0.00833161547780037,-0.026778919622302055,-0.012382431887090206],\"y\":[-0.06950739026069641,0.0584581233561039,0.01772967167198658,0.007872752845287323,0.08676126599311829,-0.039253778755664825,-0.020123055204749107,0.024558190256357193,-0.013191241770982742,0.0368148572742939,0.08088929951190948,0.07525978982448578,-0.05685338377952576,0.13153958320617676,-0.017880432307720184,-0.07304710149765015,-0.07350240647792816,-0.03066847287118435,0.09684091061353683,-0.02886624075472355,-0.051477108150720596,0.0032937070354819298,-0.06065961718559265,0.05239739269018173,-0.020116742700338364,-0.051184456795454025,-0.08534304052591324,0.06316228210926056,-0.05854814127087593,-0.00244829710572958,0.052734486758708954,0.039770882576704025,0.008584228344261646,0.07932957261800766,-0.07988812774419785,0.06747256219387054,0.026713548228144646,0.055357396602630615,-0.0039086961187422276,-0.07976922392845154,-0.0540333092212677,0.007449711207300425,0.014763761311769485,-0.011916625313460827,0.13631638884544373,0.04357171803712845,0.11600691080093384,0.05596248805522919,0.031857192516326904,0.000840933935251087,0.015897145494818687,0.01246512122452259,0.05071686580777168,-0.014468582347035408,0.05594540014863014,0.07572322338819504,-0.0707787424325943,0.05696287378668785,-0.06709855049848557,-0.026856085285544395,-0.023464545607566833],\"z\":[0.04462694749236107,-0.031150156632065773,-0.05846823751926422,-0.02962561696767807,0.0038813073188066483,-0.038328323513269424,-0.09554439038038254,0.010780338197946548,0.048528041690588,-0.0634656548500061,0.021436097100377083,0.002129780827090144,-0.023138701915740967,0.04816567152738571,-0.06742201745510101,0.0022527147084474564,-0.05935491994023323,-0.037150513380765915,0.04898679256439209,0.09575999528169632,-0.05381060764193535,-0.0002792441810015589,-0.01629733480513096,-0.014382030814886093,-0.023625437170267105,-0.017549358308315277,-0.0005143505404703319,0.01985718496143818,0.04717031121253967,0.03008977323770523,-0.038628675043582916,0.009470042772591114,-0.06178659945726395,-0.0016129305586218834,-0.04687757045030594,-0.0069380891509354115,-0.07150504738092422,-0.0737767294049263,0.09963057935237885,0.04781516268849373,-0.020424406975507736,-0.022078393027186394,-0.03900201991200447,-0.037058982998132706,-0.007449587341398001,0.018120191991329193,0.002873605815693736,-0.12082605808973312,-0.006801612675189972,0.04406902939081192,-0.052535299211740494,-0.11037024855613708,-0.0210538599640131,-0.020496897399425507,-0.00019514214363880455,0.00833161547780037,-0.026778919622302055,-0.012382431887090206,0.011438937857747078,-0.009357752278447151,0.06326378881931305],\"type\":\"scatter3d\"}],                        {\"template\":{\"data\":{\"histogram2dcontour\":[{\"type\":\"histogram2dcontour\",\"colorbar\":{\"outlinewidth\":0,\"ticks\":\"\"},\"colorscale\":[[0.0,\"#0d0887\"],[0.1111111111111111,\"#46039f\"],[0.2222222222222222,\"#7201a8\"],[0.3333333333333333,\"#9c179e\"],[0.4444444444444444,\"#bd3786\"],[0.5555555555555556,\"#d8576b\"],[0.6666666666666666,\"#ed7953\"],[0.7777777777777778,\"#fb9f3a\"],[0.8888888888888888,\"#fdca26\"],[1.0,\"#f0f921\"]]}],\"choropleth\":[{\"type\":\"choropleth\",\"colorbar\":{\"outlinewidth\":0,\"ticks\":\"\"}}],\"histogram2d\":[{\"type\":\"histogram2d\",\"colorbar\":{\"outlinewidth\":0,\"ticks\":\"\"},\"colorscale\":[[0.0,\"#0d0887\"],[0.1111111111111111,\"#46039f\"],[0.2222222222222222,\"#7201a8\"],[0.3333333333333333,\"#9c179e\"],[0.4444444444444444,\"#bd3786\"],[0.5555555555555556,\"#d8576b\"],[0.6666666666666666,\"#ed7953\"],[0.7777777777777778,\"#fb9f3a\"],[0.8888888888888888,\"#fdca26\"],[1.0,\"#f0f921\"]]}],\"heatmap\":[{\"type\":\"heatmap\",\"colorbar\":{\"outlinewidth\":0,\"ticks\":\"\"},\"colorscale\":[[0.0,\"#0d0887\"],[0.1111111111111111,\"#46039f\"],[0.2222222222222222,\"#7201a8\"],[0.3333333333333333,\"#9c179e\"],[0.4444444444444444,\"#bd3786\"],[0.5555555555555556,\"#d8576b\"],[0.6666666666666666,\"#ed7953\"],[0.7777777777777778,\"#fb9f3a\"],[0.8888888888888888,\"#fdca26\"],[1.0,\"#f0f921\"]]}],\"heatmapgl\":[{\"type\":\"heatmapgl\",\"colorbar\":{\"outlinewidth\":0,\"ticks\":\"\"},\"colorscale\":[[0.0,\"#0d0887\"],[0.1111111111111111,\"#46039f\"],[0.2222222222222222,\"#7201a8\"],[0.3333333333333333,\"#9c179e\"],[0.4444444444444444,\"#bd3786\"],[0.5555555555555556,\"#d8576b\"],[0.6666666666666666,\"#ed7953\"],[0.7777777777777778,\"#fb9f3a\"],[0.8888888888888888,\"#fdca26\"],[1.0,\"#f0f921\"]]}],\"contourcarpet\":[{\"type\":\"contourcarpet\",\"colorbar\":{\"outlinewidth\":0,\"ticks\":\"\"}}],\"contour\":[{\"type\":\"contour\",\"colorbar\":{\"outlinewidth\":0,\"ticks\":\"\"},\"colorscale\":[[0.0,\"#0d0887\"],[0.1111111111111111,\"#46039f\"],[0.2222222222222222,\"#7201a8\"],[0.3333333333333333,\"#9c179e\"],[0.4444444444444444,\"#bd3786\"],[0.5555555555555556,\"#d8576b\"],[0.6666666666666666,\"#ed7953\"],[0.7777777777777778,\"#fb9f3a\"],[0.8888888888888888,\"#fdca26\"],[1.0,\"#f0f921\"]]}],\"surface\":[{\"type\":\"surface\",\"colorbar\":{\"outlinewidth\":0,\"ticks\":\"\"},\"colorscale\":[[0.0,\"#0d0887\"],[0.1111111111111111,\"#46039f\"],[0.2222222222222222,\"#7201a8\"],[0.3333333333333333,\"#9c179e\"],[0.4444444444444444,\"#bd3786\"],[0.5555555555555556,\"#d8576b\"],[0.6666666666666666,\"#ed7953\"],[0.7777777777777778,\"#fb9f3a\"],[0.8888888888888888,\"#fdca26\"],[1.0,\"#f0f921\"]]}],\"mesh3d\":[{\"type\":\"mesh3d\",\"colorbar\":{\"outlinewidth\":0,\"ticks\":\"\"}}],\"scatter\":[{\"fillpattern\":{\"fillmode\":\"overlay\",\"size\":10,\"solidity\":0.2},\"type\":\"scatter\"}],\"parcoords\":[{\"type\":\"parcoords\",\"line\":{\"colorbar\":{\"outlinewidth\":0,\"ticks\":\"\"}}}],\"scatterpolargl\":[{\"type\":\"scatterpolargl\",\"marker\":{\"colorbar\":{\"outlinewidth\":0,\"ticks\":\"\"}}}],\"bar\":[{\"error_x\":{\"color\":\"#2a3f5f\"},\"error_y\":{\"color\":\"#2a3f5f\"},\"marker\":{\"line\":{\"color\":\"#E5ECF6\",\"width\":0.5},\"pattern\":{\"fillmode\":\"overlay\",\"size\":10,\"solidity\":0.2}},\"type\":\"bar\"}],\"scattergeo\":[{\"type\":\"scattergeo\",\"marker\":{\"colorbar\":{\"outlinewidth\":0,\"ticks\":\"\"}}}],\"scatterpolar\":[{\"type\":\"scatterpolar\",\"marker\":{\"colorbar\":{\"outlinewidth\":0,\"ticks\":\"\"}}}],\"histogram\":[{\"marker\":{\"pattern\":{\"fillmode\":\"overlay\",\"size\":10,\"solidity\":0.2}},\"type\":\"histogram\"}],\"scattergl\":[{\"type\":\"scattergl\",\"marker\":{\"colorbar\":{\"outlinewidth\":0,\"ticks\":\"\"}}}],\"scatter3d\":[{\"type\":\"scatter3d\",\"line\":{\"colorbar\":{\"outlinewidth\":0,\"ticks\":\"\"}},\"marker\":{\"colorbar\":{\"outlinewidth\":0,\"ticks\":\"\"}}}],\"scattermapbox\":[{\"type\":\"scattermapbox\",\"marker\":{\"colorbar\":{\"outlinewidth\":0,\"ticks\":\"\"}}}],\"scatterternary\":[{\"type\":\"scatterternary\",\"marker\":{\"colorbar\":{\"outlinewidth\":0,\"ticks\":\"\"}}}],\"scattercarpet\":[{\"type\":\"scattercarpet\",\"marker\":{\"colorbar\":{\"outlinewidth\":0,\"ticks\":\"\"}}}],\"carpet\":[{\"aaxis\":{\"endlinecolor\":\"#2a3f5f\",\"gridcolor\":\"white\",\"linecolor\":\"white\",\"minorgridcolor\":\"white\",\"startlinecolor\":\"#2a3f5f\"},\"baxis\":{\"endlinecolor\":\"#2a3f5f\",\"gridcolor\":\"white\",\"linecolor\":\"white\",\"minorgridcolor\":\"white\",\"startlinecolor\":\"#2a3f5f\"},\"type\":\"carpet\"}],\"table\":[{\"cells\":{\"fill\":{\"color\":\"#EBF0F8\"},\"line\":{\"color\":\"white\"}},\"header\":{\"fill\":{\"color\":\"#C8D4E3\"},\"line\":{\"color\":\"white\"}},\"type\":\"table\"}],\"barpolar\":[{\"marker\":{\"line\":{\"color\":\"#E5ECF6\",\"width\":0.5},\"pattern\":{\"fillmode\":\"overlay\",\"size\":10,\"solidity\":0.2}},\"type\":\"barpolar\"}],\"pie\":[{\"automargin\":true,\"type\":\"pie\"}]},\"layout\":{\"autotypenumbers\":\"strict\",\"colorway\":[\"#636efa\",\"#EF553B\",\"#00cc96\",\"#ab63fa\",\"#FFA15A\",\"#19d3f3\",\"#FF6692\",\"#B6E880\",\"#FF97FF\",\"#FECB52\"],\"font\":{\"color\":\"#2a3f5f\"},\"hovermode\":\"closest\",\"hoverlabel\":{\"align\":\"left\"},\"paper_bgcolor\":\"white\",\"plot_bgcolor\":\"#E5ECF6\",\"polar\":{\"bgcolor\":\"#E5ECF6\",\"angularaxis\":{\"gridcolor\":\"white\",\"linecolor\":\"white\",\"ticks\":\"\"},\"radialaxis\":{\"gridcolor\":\"white\",\"linecolor\":\"white\",\"ticks\":\"\"}},\"ternary\":{\"bgcolor\":\"#E5ECF6\",\"aaxis\":{\"gridcolor\":\"white\",\"linecolor\":\"white\",\"ticks\":\"\"},\"baxis\":{\"gridcolor\":\"white\",\"linecolor\":\"white\",\"ticks\":\"\"},\"caxis\":{\"gridcolor\":\"white\",\"linecolor\":\"white\",\"ticks\":\"\"}},\"coloraxis\":{\"colorbar\":{\"outlinewidth\":0,\"ticks\":\"\"}},\"colorscale\":{\"sequential\":[[0.0,\"#0d0887\"],[0.1111111111111111,\"#46039f\"],[0.2222222222222222,\"#7201a8\"],[0.3333333333333333,\"#9c179e\"],[0.4444444444444444,\"#bd3786\"],[0.5555555555555556,\"#d8576b\"],[0.6666666666666666,\"#ed7953\"],[0.7777777777777778,\"#fb9f3a\"],[0.8888888888888888,\"#fdca26\"],[1.0,\"#f0f921\"]],\"sequentialminus\":[[0.0,\"#0d0887\"],[0.1111111111111111,\"#46039f\"],[0.2222222222222222,\"#7201a8\"],[0.3333333333333333,\"#9c179e\"],[0.4444444444444444,\"#bd3786\"],[0.5555555555555556,\"#d8576b\"],[0.6666666666666666,\"#ed7953\"],[0.7777777777777778,\"#fb9f3a\"],[0.8888888888888888,\"#fdca26\"],[1.0,\"#f0f921\"]],\"diverging\":[[0,\"#8e0152\"],[0.1,\"#c51b7d\"],[0.2,\"#de77ae\"],[0.3,\"#f1b6da\"],[0.4,\"#fde0ef\"],[0.5,\"#f7f7f7\"],[0.6,\"#e6f5d0\"],[0.7,\"#b8e186\"],[0.8,\"#7fbc41\"],[0.9,\"#4d9221\"],[1,\"#276419\"]]},\"xaxis\":{\"gridcolor\":\"white\",\"linecolor\":\"white\",\"ticks\":\"\",\"title\":{\"standoff\":15},\"zerolinecolor\":\"white\",\"automargin\":true,\"zerolinewidth\":2},\"yaxis\":{\"gridcolor\":\"white\",\"linecolor\":\"white\",\"ticks\":\"\",\"title\":{\"standoff\":15},\"zerolinecolor\":\"white\",\"automargin\":true,\"zerolinewidth\":2},\"scene\":{\"xaxis\":{\"backgroundcolor\":\"#E5ECF6\",\"gridcolor\":\"white\",\"linecolor\":\"white\",\"showbackground\":true,\"ticks\":\"\",\"zerolinecolor\":\"white\",\"gridwidth\":2},\"yaxis\":{\"backgroundcolor\":\"#E5ECF6\",\"gridcolor\":\"white\",\"linecolor\":\"white\",\"showbackground\":true,\"ticks\":\"\",\"zerolinecolor\":\"white\",\"gridwidth\":2},\"zaxis\":{\"backgroundcolor\":\"#E5ECF6\",\"gridcolor\":\"white\",\"linecolor\":\"white\",\"showbackground\":true,\"ticks\":\"\",\"zerolinecolor\":\"white\",\"gridwidth\":2}},\"shapedefaults\":{\"line\":{\"color\":\"#2a3f5f\"}},\"annotationdefaults\":{\"arrowcolor\":\"#2a3f5f\",\"arrowhead\":0,\"arrowwidth\":1},\"geo\":{\"bgcolor\":\"white\",\"landcolor\":\"#E5ECF6\",\"subunitcolor\":\"white\",\"showland\":true,\"showlakes\":true,\"lakecolor\":\"white\"},\"title\":{\"x\":0.05},\"mapbox\":{\"style\":\"light\"}}},\"scene\":{\"domain\":{\"x\":[0.0,0.49],\"y\":[0.0,1.0]}},\"scene2\":{\"domain\":{\"x\":[0.51,1.0],\"y\":[0.0,1.0]}},\"width\":1100,\"height\":700,\"title\":{\"font\":{\"size\":24},\"text\":\"label=5.00(index=0)\",\"x\":0.5,\"y\":0.95},\"annotations\":[{\"font\":{\"size\":18},\"showarrow\":false,\"text\":\"A plane is taking off.\",\"x\":0.1,\"xref\":\"paper\",\"y\":1.0,\"yref\":\"paper\"},{\"font\":{\"size\":18},\"showarrow\":false,\"text\":\"An air plane is taking off.\",\"x\":0.9,\"xref\":\"paper\",\"y\":1.0,\"yref\":\"paper\"}]},                        {\"responsive\": true}                    ).then(function(){\n",
       "                            \n",
       "var gd = document.getElementById('cf9ae37c-1eb2-40c6-96b8-fd8e327c215a');\n",
       "var x = new MutationObserver(function (mutations, observer) {{\n",
       "        var display = window.getComputedStyle(gd).display;\n",
       "        if (!display || display === 'none') {{\n",
       "            console.log([gd, 'removed!']);\n",
       "            Plotly.purge(gd);\n",
       "            observer.disconnect();\n",
       "        }}\n",
       "}});\n",
       "\n",
       "// Listen for the removal of the full notebook cells\n",
       "var notebookContainer = gd.closest('#notebook-container');\n",
       "if (notebookContainer) {{\n",
       "    x.observe(notebookContainer, {childList: true});\n",
       "}}\n",
       "\n",
       "// Listen for the clearing of the current output cell\n",
       "var outputEl = gd.closest('.output');\n",
       "if (outputEl) {{\n",
       "    x.observe(outputEl, {childList: true});\n",
       "}}\n",
       "\n",
       "                        })                };                });            </script>        </div>"
      ]
     },
     "metadata": {},
     "output_type": "display_data"
    },
    {
     "name": "stderr",
     "output_type": "stream",
     "text": [
      "/tmp/ipykernel_1482003/3944099178.py:56: UserWarning:\n",
      "\n",
      "FigureCanvasAgg is non-interactive, and thus cannot be shown\n",
      "\n"
     ]
    },
    {
     "data": {
      "image/png": "[encoded data removed]",
      "text/plain": [
       "<Figure size 800x400 with 2 Axes>"
      ]
     },
     "metadata": {},
     "output_type": "display_data"
    }
   ],
   "source": [
    "generatePdFigure(0, 20)"
   ]
  },
  {
   "cell_type": "code",
   "execution_count": 47,
   "id": "4e8e1c89-dc17-4f19-95c5-999fbd7ac1ad",
   "metadata": {},
   "outputs": [
    {
     "name": "stdout",
     "output_type": "stream",
     "text": [
      "2024-09-03 23:19:27,235] MainProcess(1482003).MainThread(139852985743168) 2459079984.get_pd(2) INFO -> fvecs=(61, 3)\n",
      "pdlist=PDList(path=None)\n",
      "birth death=(103, 2)\n",
      "index1=9, index2=29\n",
      "2024-09-03 23:19:27,246] MainProcess(1482003).MainThread(139852985743168) 2459079984.get_pd(2) INFO -> fvecs=(61, 3)\n",
      "pdlist=PDList(path=None)\n",
      "birth death=(126, 2)\n"
     ]
    },
    {
     "data": {
      "application/vnd.plotly.v1+json": {
       "config": {
        "plotlyServerURL": "https://plot.ly"
       },
       "data": [
        {
         "hovertemplate": "0=%{x}<br>1=%{y}<br>2=%{z}<extra></extra>",
         "legendgroup": "",
         "marker": {
          "color": "#636efa",
          "size": 2,
          "symbol": "circle"
         },
         "mode": "markers",
         "name": "",
         "scene": "scene",
         "showlegend": false,
         "type": "scatter3d",
         "x": [
          0.003576940391212702,
          0.021704379469156265,
          0.052925676107406616,
          0.01991608738899231,
          -0.007436589803546667,
          -0.07610910385847092,
          0.013562643900513649,
          -0.04695073887705803,
          0.059451960027217865,
          -0.006175953429192305,
          -0.03769037127494812,
          -0.0326811708509922,
          0.0027432513888925314,
          -0.02429254539310932,
          0.014934373088181019,
          -0.0068022459745407104,
          -0.024315930902957916,
          0.0064977603033185005,
          0.0034449035301804543,
          -0.035103827714920044,
          -0.026752134785056114,
          -0.03594866022467613,
          0.02718578837811947,
          -0.07153727114200592,
          -0.02548968233168125,
          -0.013316801749169827,
          0.02384047396481037,
          -0.006077385041862726,
          0.05053676292300224,
          -0.013117026537656784,
          -0.07964181154966354,
          0.03823722153902054,
          -0.06634912639856339,
          -0.01791384257376194,
          0.018086958676576614,
          -0.02958381548523903,
          -0.016431506723165512,
          -0.027195589616894722,
          -0.014017808251082897,
          -0.03137139603495598,
          0.06265754252672195,
          0.055987004190683365,
          -0.0053167627193033695,
          -0.00969238206744194,
          -0.016120800748467445,
          -0.08081408590078354,
          -0.04546587914228439,
          -0.010987271554768085,
          -0.0016238722018897533,
          0.0027312273159623146,
          -0.005808520596474409,
          0.000191627666936256,
          -0.05378149077296257,
          0.024014869704842567,
          -0.08759982138872147,
          -0.06147044152021408,
          0.04458916187286377,
          0.13182824850082397,
          -0.03053523600101471,
          3.613607259467244e-05,
          -0.008322798646986485
         ],
         "y": [
          0.005068959202617407,
          0.012782668694853783,
          -0.02202649600803852,
          -0.0768466666340828,
          -0.032916828989982605,
          -0.05023881793022156,
          -0.021075956523418427,
          0.10053032636642456,
          0.014098118990659714,
          0.04202663525938988,
          0.04519914463162422,
          0.030590327456593513,
          -0.0013885681983083487,
          -0.013366884551942348,
          -0.06404268741607666,
          0.0067062778398394585,
          -0.007537973579019308,
          0.05054908245801926,
          -0.01757672242820263,
          0.02688538283109665,
          0.04184618592262268,
          -0.015226755291223526,
          -0.05434636399149895,
          -0.03924698755145073,
          0.020251894369721413,
          -0.06770364940166473,
          -0.014103556051850319,
          0.04230976849794388,
          0.031895801424980164,
          -0.02289833500981331,
          0.06695200502872467,
          0.010912016965448856,
          -0.050697311758995056,
          -0.019710266962647438,
          0.03528729826211929,
          -0.08167111128568649,
          -0.042272742837667465,
          0.024043889716267586,
          -0.01363595575094223,
          0.013031098991632462,
          0.010822276584804058,
          0.0012966492213308811,
          -0.0070052314549684525,
          0.0831267461180687,
          0.058475278317928314,
          -0.022838786244392395,
          -0.0005284294602461159,
          -0.044779811054468155,
          -0.016025347635149956,
          0.017040440812706947,
          0.00884897168725729,
          -0.07841776311397552,
          0.03362317010760307,
          0.12495924532413483,
          -0.005346848629415035,
          -0.018167361617088318,
          0.03327160328626633,
          0.043985459953546524,
          0.01682552695274353,
          0.027756046503782272,
          0.028801601380109787
         ],
         "z": [
          0.01991608738899231,
          -0.007436589803546667,
          -0.07610910385847092,
          0.013562643900513649,
          -0.04695073887705803,
          0.059451960027217865,
          -0.006175953429192305,
          -0.03769037127494812,
          -0.0326811708509922,
          0.0027432513888925314,
          -0.02429254539310932,
          0.014934373088181019,
          -0.0068022459745407104,
          -0.024315930902957916,
          0.0064977603033185005,
          0.0034449035301804543,
          -0.035103827714920044,
          -0.026752134785056114,
          -0.03594866022467613,
          0.02718578837811947,
          -0.07153727114200592,
          -0.02548968233168125,
          -0.013316801749169827,
          0.02384047396481037,
          -0.006077385041862726,
          0.05053676292300224,
          -0.013117026537656784,
          -0.07964181154966354,
          0.03823722153902054,
          -0.06634912639856339,
          -0.01791384257376194,
          0.018086958676576614,
          -0.02958381548523903,
          -0.016431506723165512,
          -0.027195589616894722,
          -0.014017808251082897,
          -0.03137139603495598,
          0.06265754252672195,
          0.055987004190683365,
          -0.0053167627193033695,
          -0.00969238206744194,
          -0.016120800748467445,
          -0.08081408590078354,
          -0.04546587914228439,
          -0.010987271554768085,
          -0.0016238722018897533,
          0.0027312273159623146,
          -0.005808520596474409,
          0.000191627666936256,
          -0.05378149077296257,
          0.024014869704842567,
          -0.08759982138872147,
          -0.06147044152021408,
          0.04458916187286377,
          0.13182824850082397,
          -0.03053523600101471,
          3.613607259467244e-05,
          -0.008322798646986485,
          0.04432319849729538,
          -0.05376723036170006,
          0.0970262885093689
         ]
        },
        {
         "hovertemplate": "0=%{x}<br>1=%{y}<br>2=%{z}<extra></extra>",
         "legendgroup": "",
         "marker": {
          "color": "#636efa",
          "size": 2,
          "symbol": "circle"
         },
         "mode": "markers",
         "name": "",
         "scene": "scene2",
         "showlegend": false,
         "type": "scatter3d",
         "x": [
          -0.0051010348834097385,
          0.026440830901265144,
          0.04734524339437485,
          0.014982975088059902,
          -0.02259480021893978,
          -0.09359961003065109,
          0.0187644362449646,
          -0.043044451624155045,
          0.07996150106191635,
          -0.0064082336612045765,
          -0.025527460500597954,
          -0.030448652803897858,
          -0.027261994779109955,
          -0.023124732077121735,
          -0.0041902135126292706,
          -0.004651872906833887,
          -0.02617974951863289,
          0.01904791221022606,
          0.00869594793766737,
          -0.035875026136636734,
          -0.012831741012632847,
          -0.02663978934288025,
          0.01811555027961731,
          -0.05524522438645363,
          -0.017045510932803154,
          -0.0007609346648678184,
          0.044265370815992355,
          -0.012346282601356506,
          0.024159284308552742,
          -0.008090098388493061,
          -0.08775286376476288,
          0.012256771326065063,
          -0.04667099192738533,
          -0.019694305956363678,
          0.015206270851194859,
          -0.012777984142303467,
          -0.03724626079201698,
          -0.002772979438304901,
          0.0001176021687570028,
          -0.030831733718514442,
          0.05661536380648613,
          0.027228940278291702,
          -0.010903081856667995,
          -0.024291085079312325,
          -0.006161762401461601,
          -0.07406532764434814,
          -0.03556467965245247,
          -0.0010044361697509885,
          0.0012314198538661003,
          0.034358616918325424,
          -0.0033140843734145164,
          -0.024915309622883797,
          -0.07876583188772202,
          0.030701201409101486,
          -0.07543289661407471,
          -0.058447059243917465,
          0.04159828647971153,
          0.10476763546466827,
          -0.05257893353700638,
          0.01229814998805523,
          -0.006287955213338137
         ],
         "y": [
          0.0090941758826375,
          0.004847455769777298,
          -0.01867390237748623,
          -0.052191633731126785,
          -0.028327567502856255,
          -0.04485655203461647,
          -0.05257830396294594,
          0.08963943272829056,
          -0.0028515749145299196,
          0.05768916755914688,
          0.026395052671432495,
          0.03178096190094948,
          0.01585511676967144,
          0.0020458954386413097,
          -0.04640483483672142,
          0.00703607639297843,
          -0.01832989789545536,
          0.06993160396814346,
          -0.026623234152793884,
          0.03415224328637123,
          0.02062349207699299,
          -0.025000380352139473,
          -0.04377143457531929,
          -0.030692579224705696,
          0.024526109918951988,
          -0.09611537307500839,
          -0.029437709599733353,
          0.056274689733982086,
          0.030997663736343384,
          -0.002922977088019252,
          0.05303462967276573,
          0.008007959462702274,
          -0.05582580715417862,
          -0.02779119275510311,
          0.013002932071685791,
          -0.09283050149679184,
          -0.03481106087565422,
          0.04501877352595329,
          -0.01670217141509056,
          0.02154667302966118,
          0.02170189656317234,
          -0.01962137222290039,
          -0.021694311872124672,
          0.06420105695724487,
          0.05371183156967163,
          -0.011617765761911869,
          0.002790101571008563,
          -0.047631289809942245,
          -0.017679687589406967,
          0.011096401140093803,
          0.012072836980223656,
          -0.06917758285999298,
          0.049282945692539215,
          0.11381404101848602,
          0.00780143728479743,
          -0.024672582745552063,
          0.031804174184799194,
          0.05335665121674538,
          0.00810821820050478,
          0.016442283987998962,
          0.03219757229089737
         ],
         "z": [
          0.014982975088059902,
          -0.02259480021893978,
          -0.09359961003065109,
          0.0187644362449646,
          -0.043044451624155045,
          0.07996150106191635,
          -0.0064082336612045765,
          -0.025527460500597954,
          -0.030448652803897858,
          -0.027261994779109955,
          -0.023124732077121735,
          -0.0041902135126292706,
          -0.004651872906833887,
          -0.02617974951863289,
          0.01904791221022606,
          0.00869594793766737,
          -0.035875026136636734,
          -0.012831741012632847,
          -0.02663978934288025,
          0.01811555027961731,
          -0.05524522438645363,
          -0.017045510932803154,
          -0.0007609346648678184,
          0.044265370815992355,
          -0.012346282601356506,
          0.024159284308552742,
          -0.008090098388493061,
          -0.08775286376476288,
          0.012256771326065063,
          -0.04667099192738533,
          -0.019694305956363678,
          0.015206270851194859,
          -0.012777984142303467,
          -0.03724626079201698,
          -0.002772979438304901,
          0.0001176021687570028,
          -0.030831733718514442,
          0.05661536380648613,
          0.027228940278291702,
          -0.010903081856667995,
          -0.024291085079312325,
          -0.006161762401461601,
          -0.07406532764434814,
          -0.03556467965245247,
          -0.0010044361697509885,
          0.0012314198538661003,
          0.034358616918325424,
          -0.0033140843734145164,
          -0.024915309622883797,
          -0.07876583188772202,
          0.030701201409101486,
          -0.07543289661407471,
          -0.058447059243917465,
          0.04159828647971153,
          0.10476763546466827,
          -0.05257893353700638,
          0.01229814998805523,
          -0.006287955213338137,
          0.05761803686618805,
          -0.03996288403868675,
          0.08519164472818375
         ]
        }
       ],
       "layout": {
        "annotations": [
         {
          "font": {
           "size": 18
          },
          "showarrow": false,
          "text": "A person is throwing a cat on to the\nceiling.",
          "x": 0.1,
          "xref": "paper",
          "y": 1,
          "yref": "paper"
         },
         {
          "font": {
           "size": 18
          },
          "showarrow": false,
          "text": "A person throws a cat on the ceiling.",
          "x": 0.9,
          "xref": "paper",
          "y": 1,
          "yref": "paper"
         }
        ],
        "height": 700,
        "scene": {
         "aspectmode": "auto",
         "aspectratio": {
          "x": 1.0202329663770957,
          "y": 0.96072987277203,
          "z": 1.0202329663770957
         },
         "domain": {
          "x": [
           0,
           0.49
          ],
          "y": [
           0,
           1
          ]
         }
        },
        "scene2": {
         "aspectmode": "auto",
         "aspectratio": {
          "x": 0.9812934267544772,
          "y": 1.038489764870106,
          "z": 0.9812934267544772
         },
         "domain": {
          "x": [
           0.51,
           1
          ],
          "y": [
           0,
           1
          ]
         }
        },
        "template": {
         "data": {
          "bar": [
           {
            "error_x": {
             "color": "#2a3f5f"
            },
            "error_y": {
             "color": "#2a3f5f"
            },
            "marker": {
             "line": {
              "color": "#E5ECF6",
              "width": 0.5
             },
             "pattern": {
              "fillmode": "overlay",
              "size": 10,
              "solidity": 0.2
             }
            },
            "type": "bar"
           }
          ],
          "barpolar": [
           {
            "marker": {
             "line": {
              "color": "#E5ECF6",
              "width": 0.5
             },
             "pattern": {
              "fillmode": "overlay",
              "size": 10,
              "solidity": 0.2
             }
            },
            "type": "barpolar"
           }
          ],
          "carpet": [
           {
            "aaxis": {
             "endlinecolor": "#2a3f5f",
             "gridcolor": "white",
             "linecolor": "white",
             "minorgridcolor": "white",
             "startlinecolor": "#2a3f5f"
            },
            "baxis": {
             "endlinecolor": "#2a3f5f",
             "gridcolor": "white",
             "linecolor": "white",
             "minorgridcolor": "white",
             "startlinecolor": "#2a3f5f"
            },
            "type": "carpet"
           }
          ],
          "choropleth": [
           {
            "colorbar": {
             "outlinewidth": 0,
             "ticks": ""
            },
            "type": "choropleth"
           }
          ],
          "contour": [
           {
            "colorbar": {
             "outlinewidth": 0,
             "ticks": ""
            },
            "colorscale": [
             [
              0,
              "#0d0887"
             ],
             [
              0.1111111111111111,
              "#46039f"
             ],
             [
              0.2222222222222222,
              "#7201a8"
             ],
             [
              0.3333333333333333,
              "#9c179e"
             ],
             [
              0.4444444444444444,
              "#bd3786"
             ],
             [
              0.5555555555555556,
              "#d8576b"
             ],
             [
              0.6666666666666666,
              "#ed7953"
             ],
             [
              0.7777777777777778,
              "#fb9f3a"
             ],
             [
              0.8888888888888888,
              "#fdca26"
             ],
             [
              1,
              "#f0f921"
             ]
            ],
            "type": "contour"
           }
          ],
          "contourcarpet": [
           {
            "colorbar": {
             "outlinewidth": 0,
             "ticks": ""
            },
            "type": "contourcarpet"
           }
          ],
          "heatmap": [
           {
            "colorbar": {
             "outlinewidth": 0,
             "ticks": ""
            },
            "colorscale": [
             [
              0,
              "#0d0887"
             ],
             [
              0.1111111111111111,
              "#46039f"
             ],
             [
              0.2222222222222222,
              "#7201a8"
             ],
             [
              0.3333333333333333,
              "#9c179e"
             ],
             [
              0.4444444444444444,
              "#bd3786"
             ],
             [
              0.5555555555555556,
              "#d8576b"
             ],
             [
              0.6666666666666666,
              "#ed7953"
             ],
             [
              0.7777777777777778,
              "#fb9f3a"
             ],
             [
              0.8888888888888888,
              "#fdca26"
             ],
             [
              1,
              "#f0f921"
             ]
            ],
            "type": "heatmap"
           }
          ],
          "heatmapgl": [
           {
            "colorbar": {
             "outlinewidth": 0,
             "ticks": ""
            },
            "colorscale": [
             [
              0,
              "#0d0887"
             ],
             [
              0.1111111111111111,
              "#46039f"
             ],
             [
              0.2222222222222222,
              "#7201a8"
             ],
             [
              0.3333333333333333,
              "#9c179e"
             ],
             [
              0.4444444444444444,
              "#bd3786"
             ],
             [
              0.5555555555555556,
              "#d8576b"
             ],
             [
              0.6666666666666666,
              "#ed7953"
             ],
             [
              0.7777777777777778,
              "#fb9f3a"
             ],
             [
              0.8888888888888888,
              "#fdca26"
             ],
             [
              1,
              "#f0f921"
             ]
            ],
            "type": "heatmapgl"
           }
          ],
          "histogram": [
           {
            "marker": {
             "pattern": {
              "fillmode": "overlay",
              "size": 10,
              "solidity": 0.2
             }
            },
            "type": "histogram"
           }
          ],
          "histogram2d": [
           {
            "colorbar": {
             "outlinewidth": 0,
             "ticks": ""
            },
            "colorscale": [
             [
              0,
              "#0d0887"
             ],
             [
              0.1111111111111111,
              "#46039f"
             ],
             [
              0.2222222222222222,
              "#7201a8"
             ],
             [
              0.3333333333333333,
              "#9c179e"
             ],
             [
              0.4444444444444444,
              "#bd3786"
             ],
             [
              0.5555555555555556,
              "#d8576b"
             ],
             [
              0.6666666666666666,
              "#ed7953"
             ],
             [
              0.7777777777777778,
              "#fb9f3a"
             ],
             [
              0.8888888888888888,
              "#fdca26"
             ],
             [
              1,
              "#f0f921"
             ]
            ],
            "type": "histogram2d"
           }
          ],
          "histogram2dcontour": [
           {
            "colorbar": {
             "outlinewidth": 0,
             "ticks": ""
            },
            "colorscale": [
             [
              0,
              "#0d0887"
             ],
             [
              0.1111111111111111,
              "#46039f"
             ],
             [
              0.2222222222222222,
              "#7201a8"
             ],
             [
              0.3333333333333333,
              "#9c179e"
             ],
             [
              0.4444444444444444,
              "#bd3786"
             ],
             [
              0.5555555555555556,
              "#d8576b"
             ],
             [
              0.6666666666666666,
              "#ed7953"
             ],
             [
              0.7777777777777778,
              "#fb9f3a"
             ],
             [
              0.8888888888888888,
              "#fdca26"
             ],
             [
              1,
              "#f0f921"
             ]
            ],
            "type": "histogram2dcontour"
           }
          ],
          "mesh3d": [
           {
            "colorbar": {
             "outlinewidth": 0,
             "ticks": ""
            },
            "type": "mesh3d"
           }
          ],
          "parcoords": [
           {
            "line": {
             "colorbar": {
              "outlinewidth": 0,
              "ticks": ""
             }
            },
            "type": "parcoords"
           }
          ],
          "pie": [
           {
            "automargin": true,
            "type": "pie"
           }
          ],
          "scatter": [
           {
            "fillpattern": {
             "fillmode": "overlay",
             "size": 10,
             "solidity": 0.2
            },
            "type": "scatter"
           }
          ],
          "scatter3d": [
           {
            "line": {
             "colorbar": {
              "outlinewidth": 0,
              "ticks": ""
             }
            },
            "marker": {
             "colorbar": {
              "outlinewidth": 0,
              "ticks": ""
             }
            },
            "type": "scatter3d"
           }
          ],
          "scattercarpet": [
           {
            "marker": {
             "colorbar": {
              "outlinewidth": 0,
              "ticks": ""
             }
            },
            "type": "scattercarpet"
           }
          ],
          "scattergeo": [
           {
            "marker": {
             "colorbar": {
              "outlinewidth": 0,
              "ticks": ""
             }
            },
            "type": "scattergeo"
           }
          ],
          "scattergl": [
           {
            "marker": {
             "colorbar": {
              "outlinewidth": 0,
              "ticks": ""
             }
            },
            "type": "scattergl"
           }
          ],
          "scattermapbox": [
           {
            "marker": {
             "colorbar": {
              "outlinewidth": 0,
              "ticks": ""
             }
            },
            "type": "scattermapbox"
           }
          ],
          "scatterpolar": [
           {
            "marker": {
             "colorbar": {
              "outlinewidth": 0,
              "ticks": ""
             }
            },
            "type": "scatterpolar"
           }
          ],
          "scatterpolargl": [
           {
            "marker": {
             "colorbar": {
              "outlinewidth": 0,
              "ticks": ""
             }
            },
            "type": "scatterpolargl"
           }
          ],
          "scatterternary": [
           {
            "marker": {
             "colorbar": {
              "outlinewidth": 0,
              "ticks": ""
             }
            },
            "type": "scatterternary"
           }
          ],
          "surface": [
           {
            "colorbar": {
             "outlinewidth": 0,
             "ticks": ""
            },
            "colorscale": [
             [
              0,
              "#0d0887"
             ],
             [
              0.1111111111111111,
              "#46039f"
             ],
             [
              0.2222222222222222,
              "#7201a8"
             ],
             [
              0.3333333333333333,
              "#9c179e"
             ],
             [
              0.4444444444444444,
              "#bd3786"
             ],
             [
              0.5555555555555556,
              "#d8576b"
             ],
             [
              0.6666666666666666,
              "#ed7953"
             ],
             [
              0.7777777777777778,
              "#fb9f3a"
             ],
             [
              0.8888888888888888,
              "#fdca26"
             ],
             [
              1,
              "#f0f921"
             ]
            ],
            "type": "surface"
           }
          ],
          "table": [
           {
            "cells": {
             "fill": {
              "color": "#EBF0F8"
             },
             "line": {
              "color": "white"
             }
            },
            "header": {
             "fill": {
              "color": "#C8D4E3"
             },
             "line": {
              "color": "white"
             }
            },
            "type": "table"
           }
          ]
         },
         "layout": {
          "annotationdefaults": {
           "arrowcolor": "#2a3f5f",
           "arrowhead": 0,
           "arrowwidth": 1
          },
          "autotypenumbers": "strict",
          "coloraxis": {
           "colorbar": {
            "outlinewidth": 0,
            "ticks": ""
           }
          },
          "colorscale": {
           "diverging": [
            [
             0,
             "#8e0152"
            ],
            [
             0.1,
             "#c51b7d"
            ],
            [
             0.2,
             "#de77ae"
            ],
            [
             0.3,
             "#f1b6da"
            ],
            [
             0.4,
             "#fde0ef"
            ],
            [
             0.5,
             "#f7f7f7"
            ],
            [
             0.6,
             "#e6f5d0"
            ],
            [
             0.7,
             "#b8e186"
            ],
            [
             0.8,
             "#7fbc41"
            ],
            [
             0.9,
             "#4d9221"
            ],
            [
             1,
             "#276419"
            ]
           ],
           "sequential": [
            [
             0,
             "#0d0887"
            ],
            [
             0.1111111111111111,
             "#46039f"
            ],
            [
             0.2222222222222222,
             "#7201a8"
            ],
            [
             0.3333333333333333,
             "#9c179e"
            ],
            [
             0.4444444444444444,
             "#bd3786"
            ],
            [
             0.5555555555555556,
             "#d8576b"
            ],
            [
             0.6666666666666666,
             "#ed7953"
            ],
            [
             0.7777777777777778,
             "#fb9f3a"
            ],
            [
             0.8888888888888888,
             "#fdca26"
            ],
            [
             1,
             "#f0f921"
            ]
           ],
           "sequentialminus": [
            [
             0,
             "#0d0887"
            ],
            [
             0.1111111111111111,
             "#46039f"
            ],
            [
             0.2222222222222222,
             "#7201a8"
            ],
            [
             0.3333333333333333,
             "#9c179e"
            ],
            [
             0.4444444444444444,
             "#bd3786"
            ],
            [
             0.5555555555555556,
             "#d8576b"
            ],
            [
             0.6666666666666666,
             "#ed7953"
            ],
            [
             0.7777777777777778,
             "#fb9f3a"
            ],
            [
             0.8888888888888888,
             "#fdca26"
            ],
            [
             1,
             "#f0f921"
            ]
           ]
          },
          "colorway": [
           "#636efa",
           "#EF553B",
           "#00cc96",
           "#ab63fa",
           "#FFA15A",
           "#19d3f3",
           "#FF6692",
           "#B6E880",
           "#FF97FF",
           "#FECB52"
          ],
          "font": {
           "color": "#2a3f5f"
          },
          "geo": {
           "bgcolor": "white",
           "lakecolor": "white",
           "landcolor": "#E5ECF6",
           "showlakes": true,
           "showland": true,
           "subunitcolor": "white"
          },
          "hoverlabel": {
           "align": "left"
          },
          "hovermode": "closest",
          "mapbox": {
           "style": "light"
          },
          "paper_bgcolor": "white",
          "plot_bgcolor": "#E5ECF6",
          "polar": {
           "angularaxis": {
            "gridcolor": "white",
            "linecolor": "white",
            "ticks": ""
           },
           "bgcolor": "#E5ECF6",
           "radialaxis": {
            "gridcolor": "white",
            "linecolor": "white",
            "ticks": ""
           }
          },
          "scene": {
           "xaxis": {
            "backgroundcolor": "#E5ECF6",
            "gridcolor": "white",
            "gridwidth": 2,
            "linecolor": "white",
            "showbackground": true,
            "ticks": "",
            "zerolinecolor": "white"
           },
           "yaxis": {
            "backgroundcolor": "#E5ECF6",
            "gridcolor": "white",
            "gridwidth": 2,
            "linecolor": "white",
            "showbackground": true,
            "ticks": "",
            "zerolinecolor": "white"
           },
           "zaxis": {
            "backgroundcolor": "#E5ECF6",
            "gridcolor": "white",
            "gridwidth": 2,
            "linecolor": "white",
            "showbackground": true,
            "ticks": "",
            "zerolinecolor": "white"
           }
          },
          "shapedefaults": {
           "line": {
            "color": "#2a3f5f"
           }
          },
          "ternary": {
           "aaxis": {
            "gridcolor": "white",
            "linecolor": "white",
            "ticks": ""
           },
           "baxis": {
            "gridcolor": "white",
            "linecolor": "white",
            "ticks": ""
           },
           "bgcolor": "#E5ECF6",
           "caxis": {
            "gridcolor": "white",
            "linecolor": "white",
            "ticks": ""
           }
          },
          "title": {
           "x": 0.05
          },
          "xaxis": {
           "automargin": true,
           "gridcolor": "white",
           "linecolor": "white",
           "ticks": "",
           "title": {
            "standoff": 15
           },
           "zerolinecolor": "white",
           "zerolinewidth": 2
          },
          "yaxis": {
           "automargin": true,
           "gridcolor": "white",
           "linecolor": "white",
           "ticks": "",
           "title": {
            "standoff": 15
           },
           "zerolinecolor": "white",
           "zerolinewidth": 2
          }
         }
        },
        "title": {
         "font": {
          "size": 24
         },
         "text": "label=5.00(index=9)",
         "x": 0.5,
         "y": 0.95
        },
        "width": 1100
       }
      },
      "text/html": [
       "<div>                            <div id=\"8a7d7990-c73d-4ff3-b258-b1a247071e85\" class=\"plotly-graph-div\" style=\"height:700px; width:1100px;\"></div>            <script type=\"text/javascript\">                require([\"plotly\"], function(Plotly) {                    window.PLOTLYENV=window.PLOTLYENV || {};                                    if (document.getElementById(\"8a7d7990-c73d-4ff3-b258-b1a247071e85\")) {                    Plotly.newPlot(                        \"8a7d7990-c73d-4ff3-b258-b1a247071e85\",                        [{\"hovertemplate\":\"0=%{x}\\u003cbr\\u003e1=%{y}\\u003cbr\\u003e2=%{z}\\u003cextra\\u003e\\u003c\\u002fextra\\u003e\",\"legendgroup\":\"\",\"marker\":{\"color\":\"#636efa\",\"size\":2,\"symbol\":\"circle\"},\"mode\":\"markers\",\"name\":\"\",\"scene\":\"scene\",\"showlegend\":false,\"x\":[0.003576940391212702,0.021704379469156265,0.052925676107406616,0.01991608738899231,-0.007436589803546667,-0.07610910385847092,0.013562643900513649,-0.04695073887705803,0.059451960027217865,-0.006175953429192305,-0.03769037127494812,-0.0326811708509922,0.0027432513888925314,-0.02429254539310932,0.014934373088181019,-0.0068022459745407104,-0.024315930902957916,0.0064977603033185005,0.0034449035301804543,-0.035103827714920044,-0.026752134785056114,-0.03594866022467613,0.02718578837811947,-0.07153727114200592,-0.02548968233168125,-0.013316801749169827,0.02384047396481037,-0.006077385041862726,0.05053676292300224,-0.013117026537656784,-0.07964181154966354,0.03823722153902054,-0.06634912639856339,-0.01791384257376194,0.018086958676576614,-0.02958381548523903,-0.016431506723165512,-0.027195589616894722,-0.014017808251082897,-0.03137139603495598,0.06265754252672195,0.055987004190683365,-0.0053167627193033695,-0.00969238206744194,-0.016120800748467445,-0.08081408590078354,-0.04546587914228439,-0.010987271554768085,-0.0016238722018897533,0.0027312273159623146,-0.005808520596474409,0.000191627666936256,-0.05378149077296257,0.024014869704842567,-0.08759982138872147,-0.06147044152021408,0.04458916187286377,0.13182824850082397,-0.03053523600101471,3.613607259467244e-05,-0.008322798646986485],\"y\":[0.005068959202617407,0.012782668694853783,-0.02202649600803852,-0.0768466666340828,-0.032916828989982605,-0.05023881793022156,-0.021075956523418427,0.10053032636642456,0.014098118990659714,0.04202663525938988,0.04519914463162422,0.030590327456593513,-0.0013885681983083487,-0.013366884551942348,-0.06404268741607666,0.0067062778398394585,-0.007537973579019308,0.05054908245801926,-0.01757672242820263,0.02688538283109665,0.04184618592262268,-0.015226755291223526,-0.05434636399149895,-0.03924698755145073,0.020251894369721413,-0.06770364940166473,-0.014103556051850319,0.04230976849794388,0.031895801424980164,-0.02289833500981331,0.06695200502872467,0.010912016965448856,-0.050697311758995056,-0.019710266962647438,0.03528729826211929,-0.08167111128568649,-0.042272742837667465,0.024043889716267586,-0.01363595575094223,0.013031098991632462,0.010822276584804058,0.0012966492213308811,-0.0070052314549684525,0.0831267461180687,0.058475278317928314,-0.022838786244392395,-0.0005284294602461159,-0.044779811054468155,-0.016025347635149956,0.017040440812706947,0.00884897168725729,-0.07841776311397552,0.03362317010760307,0.12495924532413483,-0.005346848629415035,-0.018167361617088318,0.03327160328626633,0.043985459953546524,0.01682552695274353,0.027756046503782272,0.028801601380109787],\"z\":[0.01991608738899231,-0.007436589803546667,-0.07610910385847092,0.013562643900513649,-0.04695073887705803,0.059451960027217865,-0.006175953429192305,-0.03769037127494812,-0.0326811708509922,0.0027432513888925314,-0.02429254539310932,0.014934373088181019,-0.0068022459745407104,-0.024315930902957916,0.0064977603033185005,0.0034449035301804543,-0.035103827714920044,-0.026752134785056114,-0.03594866022467613,0.02718578837811947,-0.07153727114200592,-0.02548968233168125,-0.013316801749169827,0.02384047396481037,-0.006077385041862726,0.05053676292300224,-0.013117026537656784,-0.07964181154966354,0.03823722153902054,-0.06634912639856339,-0.01791384257376194,0.018086958676576614,-0.02958381548523903,-0.016431506723165512,-0.027195589616894722,-0.014017808251082897,-0.03137139603495598,0.06265754252672195,0.055987004190683365,-0.0053167627193033695,-0.00969238206744194,-0.016120800748467445,-0.08081408590078354,-0.04546587914228439,-0.010987271554768085,-0.0016238722018897533,0.0027312273159623146,-0.005808520596474409,0.000191627666936256,-0.05378149077296257,0.024014869704842567,-0.08759982138872147,-0.06147044152021408,0.04458916187286377,0.13182824850082397,-0.03053523600101471,3.613607259467244e-05,-0.008322798646986485,0.04432319849729538,-0.05376723036170006,0.0970262885093689],\"type\":\"scatter3d\"},{\"hovertemplate\":\"0=%{x}\\u003cbr\\u003e1=%{y}\\u003cbr\\u003e2=%{z}\\u003cextra\\u003e\\u003c\\u002fextra\\u003e\",\"legendgroup\":\"\",\"marker\":{\"color\":\"#636efa\",\"size\":2,\"symbol\":\"circle\"},\"mode\":\"markers\",\"name\":\"\",\"scene\":\"scene2\",\"showlegend\":false,\"x\":[-0.0051010348834097385,0.026440830901265144,0.04734524339437485,0.014982975088059902,-0.02259480021893978,-0.09359961003065109,0.0187644362449646,-0.043044451624155045,0.07996150106191635,-0.0064082336612045765,-0.025527460500597954,-0.030448652803897858,-0.027261994779109955,-0.023124732077121735,-0.0041902135126292706,-0.004651872906833887,-0.02617974951863289,0.01904791221022606,0.00869594793766737,-0.035875026136636734,-0.012831741012632847,-0.02663978934288025,0.01811555027961731,-0.05524522438645363,-0.017045510932803154,-0.0007609346648678184,0.044265370815992355,-0.012346282601356506,0.024159284308552742,-0.008090098388493061,-0.08775286376476288,0.012256771326065063,-0.04667099192738533,-0.019694305956363678,0.015206270851194859,-0.012777984142303467,-0.03724626079201698,-0.002772979438304901,0.0001176021687570028,-0.030831733718514442,0.05661536380648613,0.027228940278291702,-0.010903081856667995,-0.024291085079312325,-0.006161762401461601,-0.07406532764434814,-0.03556467965245247,-0.0010044361697509885,0.0012314198538661003,0.034358616918325424,-0.0033140843734145164,-0.024915309622883797,-0.07876583188772202,0.030701201409101486,-0.07543289661407471,-0.058447059243917465,0.04159828647971153,0.10476763546466827,-0.05257893353700638,0.01229814998805523,-0.006287955213338137],\"y\":[0.0090941758826375,0.004847455769777298,-0.01867390237748623,-0.052191633731126785,-0.028327567502856255,-0.04485655203461647,-0.05257830396294594,0.08963943272829056,-0.0028515749145299196,0.05768916755914688,0.026395052671432495,0.03178096190094948,0.01585511676967144,0.0020458954386413097,-0.04640483483672142,0.00703607639297843,-0.01832989789545536,0.06993160396814346,-0.026623234152793884,0.03415224328637123,0.02062349207699299,-0.025000380352139473,-0.04377143457531929,-0.030692579224705696,0.024526109918951988,-0.09611537307500839,-0.029437709599733353,0.056274689733982086,0.030997663736343384,-0.002922977088019252,0.05303462967276573,0.008007959462702274,-0.05582580715417862,-0.02779119275510311,0.013002932071685791,-0.09283050149679184,-0.03481106087565422,0.04501877352595329,-0.01670217141509056,0.02154667302966118,0.02170189656317234,-0.01962137222290039,-0.021694311872124672,0.06420105695724487,0.05371183156967163,-0.011617765761911869,0.002790101571008563,-0.047631289809942245,-0.017679687589406967,0.011096401140093803,0.012072836980223656,-0.06917758285999298,0.049282945692539215,0.11381404101848602,0.00780143728479743,-0.024672582745552063,0.031804174184799194,0.05335665121674538,0.00810821820050478,0.016442283987998962,0.03219757229089737],\"z\":[0.014982975088059902,-0.02259480021893978,-0.09359961003065109,0.0187644362449646,-0.043044451624155045,0.07996150106191635,-0.0064082336612045765,-0.025527460500597954,-0.030448652803897858,-0.027261994779109955,-0.023124732077121735,-0.0041902135126292706,-0.004651872906833887,-0.02617974951863289,0.01904791221022606,0.00869594793766737,-0.035875026136636734,-0.012831741012632847,-0.02663978934288025,0.01811555027961731,-0.05524522438645363,-0.017045510932803154,-0.0007609346648678184,0.044265370815992355,-0.012346282601356506,0.024159284308552742,-0.008090098388493061,-0.08775286376476288,0.012256771326065063,-0.04667099192738533,-0.019694305956363678,0.015206270851194859,-0.012777984142303467,-0.03724626079201698,-0.002772979438304901,0.0001176021687570028,-0.030831733718514442,0.05661536380648613,0.027228940278291702,-0.010903081856667995,-0.024291085079312325,-0.006161762401461601,-0.07406532764434814,-0.03556467965245247,-0.0010044361697509885,0.0012314198538661003,0.034358616918325424,-0.0033140843734145164,-0.024915309622883797,-0.07876583188772202,0.030701201409101486,-0.07543289661407471,-0.058447059243917465,0.04159828647971153,0.10476763546466827,-0.05257893353700638,0.01229814998805523,-0.006287955213338137,0.05761803686618805,-0.03996288403868675,0.08519164472818375],\"type\":\"scatter3d\"}],                        {\"template\":{\"data\":{\"histogram2dcontour\":[{\"type\":\"histogram2dcontour\",\"colorbar\":{\"outlinewidth\":0,\"ticks\":\"\"},\"colorscale\":[[0.0,\"#0d0887\"],[0.1111111111111111,\"#46039f\"],[0.2222222222222222,\"#7201a8\"],[0.3333333333333333,\"#9c179e\"],[0.4444444444444444,\"#bd3786\"],[0.5555555555555556,\"#d8576b\"],[0.6666666666666666,\"#ed7953\"],[0.7777777777777778,\"#fb9f3a\"],[0.8888888888888888,\"#fdca26\"],[1.0,\"#f0f921\"]]}],\"choropleth\":[{\"type\":\"choropleth\",\"colorbar\":{\"outlinewidth\":0,\"ticks\":\"\"}}],\"histogram2d\":[{\"type\":\"histogram2d\",\"colorbar\":{\"outlinewidth\":0,\"ticks\":\"\"},\"colorscale\":[[0.0,\"#0d0887\"],[0.1111111111111111,\"#46039f\"],[0.2222222222222222,\"#7201a8\"],[0.3333333333333333,\"#9c179e\"],[0.4444444444444444,\"#bd3786\"],[0.5555555555555556,\"#d8576b\"],[0.6666666666666666,\"#ed7953\"],[0.7777777777777778,\"#fb9f3a\"],[0.8888888888888888,\"#fdca26\"],[1.0,\"#f0f921\"]]}],\"heatmap\":[{\"type\":\"heatmap\",\"colorbar\":{\"outlinewidth\":0,\"ticks\":\"\"},\"colorscale\":[[0.0,\"#0d0887\"],[0.1111111111111111,\"#46039f\"],[0.2222222222222222,\"#7201a8\"],[0.3333333333333333,\"#9c179e\"],[0.4444444444444444,\"#bd3786\"],[0.5555555555555556,\"#d8576b\"],[0.6666666666666666,\"#ed7953\"],[0.7777777777777778,\"#fb9f3a\"],[0.8888888888888888,\"#fdca26\"],[1.0,\"#f0f921\"]]}],\"heatmapgl\":[{\"type\":\"heatmapgl\",\"colorbar\":{\"outlinewidth\":0,\"ticks\":\"\"},\"colorscale\":[[0.0,\"#0d0887\"],[0.1111111111111111,\"#46039f\"],[0.2222222222222222,\"#7201a8\"],[0.3333333333333333,\"#9c179e\"],[0.4444444444444444,\"#bd3786\"],[0.5555555555555556,\"#d8576b\"],[0.6666666666666666,\"#ed7953\"],[0.7777777777777778,\"#fb9f3a\"],[0.8888888888888888,\"#fdca26\"],[1.0,\"#f0f921\"]]}],\"contourcarpet\":[{\"type\":\"contourcarpet\",\"colorbar\":{\"outlinewidth\":0,\"ticks\":\"\"}}],\"contour\":[{\"type\":\"contour\",\"colorbar\":{\"outlinewidth\":0,\"ticks\":\"\"},\"colorscale\":[[0.0,\"#0d0887\"],[0.1111111111111111,\"#46039f\"],[0.2222222222222222,\"#7201a8\"],[0.3333333333333333,\"#9c179e\"],[0.4444444444444444,\"#bd3786\"],[0.5555555555555556,\"#d8576b\"],[0.6666666666666666,\"#ed7953\"],[0.7777777777777778,\"#fb9f3a\"],[0.8888888888888888,\"#fdca26\"],[1.0,\"#f0f921\"]]}],\"surface\":[{\"type\":\"surface\",\"colorbar\":{\"outlinewidth\":0,\"ticks\":\"\"},\"colorscale\":[[0.0,\"#0d0887\"],[0.1111111111111111,\"#46039f\"],[0.2222222222222222,\"#7201a8\"],[0.3333333333333333,\"#9c179e\"],[0.4444444444444444,\"#bd3786\"],[0.5555555555555556,\"#d8576b\"],[0.6666666666666666,\"#ed7953\"],[0.7777777777777778,\"#fb9f3a\"],[0.8888888888888888,\"#fdca26\"],[1.0,\"#f0f921\"]]}],\"mesh3d\":[{\"type\":\"mesh3d\",\"colorbar\":{\"outlinewidth\":0,\"ticks\":\"\"}}],\"scatter\":[{\"fillpattern\":{\"fillmode\":\"overlay\",\"size\":10,\"solidity\":0.2},\"type\":\"scatter\"}],\"parcoords\":[{\"type\":\"parcoords\",\"line\":{\"colorbar\":{\"outlinewidth\":0,\"ticks\":\"\"}}}],\"scatterpolargl\":[{\"type\":\"scatterpolargl\",\"marker\":{\"colorbar\":{\"outlinewidth\":0,\"ticks\":\"\"}}}],\"bar\":[{\"error_x\":{\"color\":\"#2a3f5f\"},\"error_y\":{\"color\":\"#2a3f5f\"},\"marker\":{\"line\":{\"color\":\"#E5ECF6\",\"width\":0.5},\"pattern\":{\"fillmode\":\"overlay\",\"size\":10,\"solidity\":0.2}},\"type\":\"bar\"}],\"scattergeo\":[{\"type\":\"scattergeo\",\"marker\":{\"colorbar\":{\"outlinewidth\":0,\"ticks\":\"\"}}}],\"scatterpolar\":[{\"type\":\"scatterpolar\",\"marker\":{\"colorbar\":{\"outlinewidth\":0,\"ticks\":\"\"}}}],\"histogram\":[{\"marker\":{\"pattern\":{\"fillmode\":\"overlay\",\"size\":10,\"solidity\":0.2}},\"type\":\"histogram\"}],\"scattergl\":[{\"type\":\"scattergl\",\"marker\":{\"colorbar\":{\"outlinewidth\":0,\"ticks\":\"\"}}}],\"scatter3d\":[{\"type\":\"scatter3d\",\"line\":{\"colorbar\":{\"outlinewidth\":0,\"ticks\":\"\"}},\"marker\":{\"colorbar\":{\"outlinewidth\":0,\"ticks\":\"\"}}}],\"scattermapbox\":[{\"type\":\"scattermapbox\",\"marker\":{\"colorbar\":{\"outlinewidth\":0,\"ticks\":\"\"}}}],\"scatterternary\":[{\"type\":\"scatterternary\",\"marker\":{\"colorbar\":{\"outlinewidth\":0,\"ticks\":\"\"}}}],\"scattercarpet\":[{\"type\":\"scattercarpet\",\"marker\":{\"colorbar\":{\"outlinewidth\":0,\"ticks\":\"\"}}}],\"carpet\":[{\"aaxis\":{\"endlinecolor\":\"#2a3f5f\",\"gridcolor\":\"white\",\"linecolor\":\"white\",\"minorgridcolor\":\"white\",\"startlinecolor\":\"#2a3f5f\"},\"baxis\":{\"endlinecolor\":\"#2a3f5f\",\"gridcolor\":\"white\",\"linecolor\":\"white\",\"minorgridcolor\":\"white\",\"startlinecolor\":\"#2a3f5f\"},\"type\":\"carpet\"}],\"table\":[{\"cells\":{\"fill\":{\"color\":\"#EBF0F8\"},\"line\":{\"color\":\"white\"}},\"header\":{\"fill\":{\"color\":\"#C8D4E3\"},\"line\":{\"color\":\"white\"}},\"type\":\"table\"}],\"barpolar\":[{\"marker\":{\"line\":{\"color\":\"#E5ECF6\",\"width\":0.5},\"pattern\":{\"fillmode\":\"overlay\",\"size\":10,\"solidity\":0.2}},\"type\":\"barpolar\"}],\"pie\":[{\"automargin\":true,\"type\":\"pie\"}]},\"layout\":{\"autotypenumbers\":\"strict\",\"colorway\":[\"#636efa\",\"#EF553B\",\"#00cc96\",\"#ab63fa\",\"#FFA15A\",\"#19d3f3\",\"#FF6692\",\"#B6E880\",\"#FF97FF\",\"#FECB52\"],\"font\":{\"color\":\"#2a3f5f\"},\"hovermode\":\"closest\",\"hoverlabel\":{\"align\":\"left\"},\"paper_bgcolor\":\"white\",\"plot_bgcolor\":\"#E5ECF6\",\"polar\":{\"bgcolor\":\"#E5ECF6\",\"angularaxis\":{\"gridcolor\":\"white\",\"linecolor\":\"white\",\"ticks\":\"\"},\"radialaxis\":{\"gridcolor\":\"white\",\"linecolor\":\"white\",\"ticks\":\"\"}},\"ternary\":{\"bgcolor\":\"#E5ECF6\",\"aaxis\":{\"gridcolor\":\"white\",\"linecolor\":\"white\",\"ticks\":\"\"},\"baxis\":{\"gridcolor\":\"white\",\"linecolor\":\"white\",\"ticks\":\"\"},\"caxis\":{\"gridcolor\":\"white\",\"linecolor\":\"white\",\"ticks\":\"\"}},\"coloraxis\":{\"colorbar\":{\"outlinewidth\":0,\"ticks\":\"\"}},\"colorscale\":{\"sequential\":[[0.0,\"#0d0887\"],[0.1111111111111111,\"#46039f\"],[0.2222222222222222,\"#7201a8\"],[0.3333333333333333,\"#9c179e\"],[0.4444444444444444,\"#bd3786\"],[0.5555555555555556,\"#d8576b\"],[0.6666666666666666,\"#ed7953\"],[0.7777777777777778,\"#fb9f3a\"],[0.8888888888888888,\"#fdca26\"],[1.0,\"#f0f921\"]],\"sequentialminus\":[[0.0,\"#0d0887\"],[0.1111111111111111,\"#46039f\"],[0.2222222222222222,\"#7201a8\"],[0.3333333333333333,\"#9c179e\"],[0.4444444444444444,\"#bd3786\"],[0.5555555555555556,\"#d8576b\"],[0.6666666666666666,\"#ed7953\"],[0.7777777777777778,\"#fb9f3a\"],[0.8888888888888888,\"#fdca26\"],[1.0,\"#f0f921\"]],\"diverging\":[[0,\"#8e0152\"],[0.1,\"#c51b7d\"],[0.2,\"#de77ae\"],[0.3,\"#f1b6da\"],[0.4,\"#fde0ef\"],[0.5,\"#f7f7f7\"],[0.6,\"#e6f5d0\"],[0.7,\"#b8e186\"],[0.8,\"#7fbc41\"],[0.9,\"#4d9221\"],[1,\"#276419\"]]},\"xaxis\":{\"gridcolor\":\"white\",\"linecolor\":\"white\",\"ticks\":\"\",\"title\":{\"standoff\":15},\"zerolinecolor\":\"white\",\"automargin\":true,\"zerolinewidth\":2},\"yaxis\":{\"gridcolor\":\"white\",\"linecolor\":\"white\",\"ticks\":\"\",\"title\":{\"standoff\":15},\"zerolinecolor\":\"white\",\"automargin\":true,\"zerolinewidth\":2},\"scene\":{\"xaxis\":{\"backgroundcolor\":\"#E5ECF6\",\"gridcolor\":\"white\",\"linecolor\":\"white\",\"showbackground\":true,\"ticks\":\"\",\"zerolinecolor\":\"white\",\"gridwidth\":2},\"yaxis\":{\"backgroundcolor\":\"#E5ECF6\",\"gridcolor\":\"white\",\"linecolor\":\"white\",\"showbackground\":true,\"ticks\":\"\",\"zerolinecolor\":\"white\",\"gridwidth\":2},\"zaxis\":{\"backgroundcolor\":\"#E5ECF6\",\"gridcolor\":\"white\",\"linecolor\":\"white\",\"showbackground\":true,\"ticks\":\"\",\"zerolinecolor\":\"white\",\"gridwidth\":2}},\"shapedefaults\":{\"line\":{\"color\":\"#2a3f5f\"}},\"annotationdefaults\":{\"arrowcolor\":\"#2a3f5f\",\"arrowhead\":0,\"arrowwidth\":1},\"geo\":{\"bgcolor\":\"white\",\"landcolor\":\"#E5ECF6\",\"subunitcolor\":\"white\",\"showland\":true,\"showlakes\":true,\"lakecolor\":\"white\"},\"title\":{\"x\":0.05},\"mapbox\":{\"style\":\"light\"}}},\"scene\":{\"domain\":{\"x\":[0.0,0.49],\"y\":[0.0,1.0]}},\"scene2\":{\"domain\":{\"x\":[0.51,1.0],\"y\":[0.0,1.0]}},\"width\":1100,\"height\":700,\"title\":{\"font\":{\"size\":24},\"text\":\"label=5.00(index=9)\",\"x\":0.5,\"y\":0.95},\"annotations\":[{\"font\":{\"size\":18},\"showarrow\":false,\"text\":\"A person is throwing a cat on to the\\nceiling.\",\"x\":0.1,\"xref\":\"paper\",\"y\":1.0,\"yref\":\"paper\"},{\"font\":{\"size\":18},\"showarrow\":false,\"text\":\"A person throws a cat on the ceiling.\",\"x\":0.9,\"xref\":\"paper\",\"y\":1.0,\"yref\":\"paper\"}]},                        {\"responsive\": true}                    ).then(function(){\n",
       "                            \n",
       "var gd = document.getElementById('8a7d7990-c73d-4ff3-b258-b1a247071e85');\n",
       "var x = new MutationObserver(function (mutations, observer) {{\n",
       "        var display = window.getComputedStyle(gd).display;\n",
       "        if (!display || display === 'none') {{\n",
       "            console.log([gd, 'removed!']);\n",
       "            Plotly.purge(gd);\n",
       "            observer.disconnect();\n",
       "        }}\n",
       "}});\n",
       "\n",
       "// Listen for the removal of the full notebook cells\n",
       "var notebookContainer = gd.closest('#notebook-container');\n",
       "if (notebookContainer) {{\n",
       "    x.observe(notebookContainer, {childList: true});\n",
       "}}\n",
       "\n",
       "// Listen for the clearing of the current output cell\n",
       "var outputEl = gd.closest('.output');\n",
       "if (outputEl) {{\n",
       "    x.observe(outputEl, {childList: true});\n",
       "}}\n",
       "\n",
       "                        })                };                });            </script>        </div>"
      ]
     },
     "metadata": {},
     "output_type": "display_data"
    },
    {
     "name": "stderr",
     "output_type": "stream",
     "text": [
      "/tmp/ipykernel_1482003/3944099178.py:56: UserWarning:\n",
      "\n",
      "FigureCanvasAgg is non-interactive, and thus cannot be shown\n",
      "\n"
     ]
    },
    {
     "data": {
      "image/png": "[encoded data removed]",
      "text/plain": [
       "<Figure size 800x400 with 2 Axes>"
      ]
     },
     "metadata": {},
     "output_type": "display_data"
    }
   ],
   "source": [
    "generatePdFigure(9, 20)"
   ]
  },
  {
   "cell_type": "code",
   "execution_count": 44,
   "id": "cf74ebaf-c230-4ab2-93b6-dceaca43b09f",
   "metadata": {},
   "outputs": [
    {
     "name": "stdout",
     "output_type": "stream",
     "text": [
      "2024-09-03 16:05:48,082] MainProcess(1482003).MainThread(139852985743168) 2459079984.get_pd(2) INFO -> fvecs=(61, 3)\n",
      "pdlist=PDList(path=None)\n",
      "birth death=(108, 2)\n",
      "index1=16, index2=36\n",
      "2024-09-03 16:05:48,092] MainProcess(1482003).MainThread(139852985743168) 2459079984.get_pd(2) INFO -> fvecs=(61, 3)\n",
      "pdlist=PDList(path=None)\n",
      "birth death=(103, 2)\n"
     ]
    },
    {
     "data": {
      "application/vnd.plotly.v1+json": {
       "config": {
        "plotlyServerURL": "https://plot.ly"
       },
       "data": [
        {
         "hovertemplate": "0=%{x}<br>1=%{y}<br>2=%{z}<extra></extra>",
         "legendgroup": "",
         "marker": {
          "color": "#636efa",
          "size": 2,
          "symbol": "circle"
         },
         "mode": "markers",
         "name": "",
         "scene": "scene",
         "showlegend": false,
         "type": "scatter3d",
         "x": [
          0.10822964459657669,
          0.05900290608406067,
          -0.013279576785862446,
          0.019759466871619225,
          0.02370564267039299,
          0.008768923580646515,
          0.06484314054250717,
          0.05059840530157089,
          0.05736575648188591,
          -0.02930402383208275,
          0.017358915880322456,
          0.08161719143390656,
          0.02958180569112301,
          0.026807742193341255,
          0.04927068203687668,
          0.03002041019499302,
          -0.11591396480798721,
          0.03199215605854988,
          0.08010663837194443,
          0.0076524559408426285,
          -0.03571568429470062,
          -0.06332594156265259,
          0.01982225850224495,
          -0.09956099092960358,
          -0.016168950125575066,
          -0.021067719906568527,
          0.08475089073181152,
          -0.018149616196751595,
          0.04533342272043228,
          0.07295700907707214,
          0.044744037091732025,
          -0.1334088295698166,
          -0.03013872168958187,
          0.028274834156036377,
          -0.019146092236042023,
          0.005540411453694105,
          0.07864891737699509,
          0.01042253989726305,
          -0.02664032205939293,
          0.06168074905872345,
          0.0855274349451065,
          0.038823872804641724,
          -0.020486218854784966,
          -0.05700206011533737,
          -0.017731454223394394,
          -0.001926047378219664,
          -0.047580964863300323,
          -0.050157319754362106,
          -0.0032937631476670504,
          0.07029755413532257,
          0.06526220589876175,
          0.03923765942454338,
          -0.0025401513557881117,
          0.0037964461371302605,
          -0.05258559435606003,
          -0.03616108372807503,
          -0.12403562664985657,
          -0.09617657214403152,
          0.017002953216433525,
          0.04018348455429077,
          -0.06109394505620003
         ],
         "y": [
          0.01610998436808586,
          0.0026974277570843697,
          -0.03216036409139633,
          -0.04574691504240036,
          -0.02220977656543255,
          0.02790120616555214,
          -0.05591912567615509,
          0.02404826320707798,
          0.046167343854904175,
          -0.007970249280333519,
          -0.06892811506986618,
          0.006218597758561373,
          0.06158480420708656,
          -0.012562770396471024,
          -0.024326635524630547,
          -0.016487130895256996,
          -0.018978320062160492,
          -0.07600012421607971,
          -0.033268485218286514,
          0.07559140026569366,
          -0.015209056437015533,
          -0.03280171751976013,
          0.04032846912741661,
          -0.030719248577952385,
          -0.01256265677511692,
          0.003914256114512682,
          -0.0528443306684494,
          -0.02742621675133705,
          0.02257010154426098,
          -0.06657437980175018,
          0.0020539353135973215,
          0.03025025874376297,
          -0.02401120215654373,
          -0.09830842912197113,
          -0.021454231813549995,
          -0.020497096702456474,
          0.024431956931948662,
          0.0601927824318409,
          -0.0005343109951354563,
          0.07794792205095291,
          0.01795240119099617,
          -0.0655810758471489,
          0.022388389334082603,
          0.06281594187021255,
          0.009408553130924702,
          0.05457507446408272,
          0.025479182600975037,
          0.014183545485138893,
          -0.061347149312496185,
          -0.07678252458572388,
          0.005425302777439356,
          0.03317815437912941,
          -0.01096606906503439,
          0.0694798156619072,
          0.03931330516934395,
          -0.0073922742158174515,
          -0.059701964259147644,
          0.014079952612519264,
          0.002572160679847002,
          0.0422787144780159,
          -0.0017684893682599068
         ],
         "z": [
          0.019759466871619225,
          0.02370564267039299,
          0.008768923580646515,
          0.06484314054250717,
          0.05059840530157089,
          0.05736575648188591,
          -0.02930402383208275,
          0.017358915880322456,
          0.08161719143390656,
          0.02958180569112301,
          0.026807742193341255,
          0.04927068203687668,
          0.03002041019499302,
          -0.11591396480798721,
          0.03199215605854988,
          0.08010663837194443,
          0.0076524559408426285,
          -0.03571568429470062,
          -0.06332594156265259,
          0.01982225850224495,
          -0.09956099092960358,
          -0.016168950125575066,
          -0.021067719906568527,
          0.08475089073181152,
          -0.018149616196751595,
          0.04533342272043228,
          0.07295700907707214,
          0.044744037091732025,
          -0.1334088295698166,
          -0.03013872168958187,
          0.028274834156036377,
          -0.019146092236042023,
          0.005540411453694105,
          0.07864891737699509,
          0.01042253989726305,
          -0.02664032205939293,
          0.06168074905872345,
          0.0855274349451065,
          0.038823872804641724,
          -0.020486218854784966,
          -0.05700206011533737,
          -0.017731454223394394,
          -0.001926047378219664,
          -0.047580964863300323,
          -0.050157319754362106,
          -0.0032937631476670504,
          0.07029755413532257,
          0.06526220589876175,
          0.03923765942454338,
          -0.0025401513557881117,
          0.0037964461371302605,
          -0.05258559435606003,
          -0.03616108372807503,
          -0.12403562664985657,
          -0.09617657214403152,
          0.017002953216433525,
          0.04018348455429077,
          -0.06109394505620003,
          -0.008224187418818474,
          -0.1360253244638443,
          -0.018067030236124992
         ]
        },
        {
         "hovertemplate": "0=%{x}<br>1=%{y}<br>2=%{z}<extra></extra>",
         "legendgroup": "",
         "marker": {
          "color": "#636efa",
          "size": 2,
          "symbol": "circle"
         },
         "mode": "markers",
         "name": "",
         "scene": "scene2",
         "showlegend": false,
         "type": "scatter3d",
         "x": [
          0.08556737750768661,
          0.03578043356537819,
          -0.01412973366677761,
          0.03560304641723633,
          -0.005597101990133524,
          0.0025551768485456705,
          0.07572057843208313,
          0.04424695298075676,
          0.07525670528411865,
          -0.013734172098338604,
          0.007938237860798836,
          0.07691348344087601,
          0.04079532250761986,
          0.02274327166378498,
          0.04776155203580856,
          0.023961711674928665,
          -0.11873771995306015,
          0.046774931252002716,
          0.05573119595646858,
          0.016816526651382446,
          -0.03398621454834938,
          -0.04558061063289642,
          0.0006550122634507716,
          -0.09249556809663773,
          -0.035135239362716675,
          -0.03271960839629173,
          0.10280470550060272,
          -0.003750639269128442,
          0.024490034207701683,
          0.07173140347003937,
          0.053708113729953766,
          -0.10538919270038605,
          -0.02278793975710869,
          0.016087858006358147,
          -0.006152043119072914,
          -0.015714401379227638,
          0.07404715567827225,
          0.011878923512995243,
          -0.02353685535490513,
          0.047101788222789764,
          0.06171678006649017,
          0.03384840488433838,
          -0.028070537373423576,
          -0.04222850129008293,
          -0.013641624711453915,
          -0.008926212787628174,
          -0.02125459536910057,
          -0.05392492935061455,
          -0.0007299818680621684,
          0.06582928448915482,
          0.049989067018032074,
          0.02732252888381481,
          -0.00682987691834569,
          -0.0039009724278002977,
          -0.04425815865397453,
          -0.0747935026884079,
          -0.09707621484994888,
          -0.08582586795091629,
          0.028470881283283234,
          0.05164380371570587,
          -0.05822903290390968
         ],
         "y": [
          0.04203785955905914,
          -0.010866500437259674,
          -0.015432098880410194,
          -0.09285041689872742,
          -0.004118941258639097,
          0.045701734721660614,
          -0.06429553776979446,
          0.02103368006646633,
          0.05348281189799309,
          -0.004002791829407215,
          -0.04785418137907982,
          0.008247775956988335,
          0.06279923766851425,
          -0.006539162714034319,
          -0.02541102096438408,
          0.004317585378885269,
          -0.006829104386270046,
          -0.08978895843029022,
          -0.03822864592075348,
          0.062107186764478683,
          -0.025017954409122467,
          -0.035277485847473145,
          0.029815012589097023,
          -0.03477367013692856,
          -0.015271623618900776,
          -0.006994038354605436,
          -0.02744268625974655,
          -0.036739543080329895,
          0.022068968042731285,
          -0.047830529510974884,
          -0.018730968236923218,
          0.02689049392938614,
          0.02812708355486393,
          -0.07914525270462036,
          -0.011128706857562065,
          -0.0046357461251318455,
          0.004967662505805492,
          0.044671472162008286,
          0.008062578737735748,
          0.08509670943021774,
          0.027247821912169456,
          -0.053190600126981735,
          0.03229798376560211,
          0.04892612248659134,
          0.0048172869719564915,
          0.05521851405501366,
          0.013844932429492474,
          -0.026155980303883553,
          -0.05776263028383255,
          -0.07010093331336975,
          0.011160862632095814,
          0.051699601113796234,
          -0.0078166164457798,
          0.07214844226837158,
          0.023056253790855408,
          -0.009412777610123158,
          -0.038162168115377426,
          0.0308977197855711,
          0.0173785500228405,
          0.02968202903866768,
          -0.0006538633024320006
         ],
         "z": [
          0.03560304641723633,
          -0.005597101990133524,
          0.0025551768485456705,
          0.07572057843208313,
          0.04424695298075676,
          0.07525670528411865,
          -0.013734172098338604,
          0.007938237860798836,
          0.07691348344087601,
          0.04079532250761986,
          0.02274327166378498,
          0.04776155203580856,
          0.023961711674928665,
          -0.11873771995306015,
          0.046774931252002716,
          0.05573119595646858,
          0.016816526651382446,
          -0.03398621454834938,
          -0.04558061063289642,
          0.0006550122634507716,
          -0.09249556809663773,
          -0.035135239362716675,
          -0.03271960839629173,
          0.10280470550060272,
          -0.003750639269128442,
          0.024490034207701683,
          0.07173140347003937,
          0.053708113729953766,
          -0.10538919270038605,
          -0.02278793975710869,
          0.016087858006358147,
          -0.006152043119072914,
          -0.015714401379227638,
          0.07404715567827225,
          0.011878923512995243,
          -0.02353685535490513,
          0.047101788222789764,
          0.06171678006649017,
          0.03384840488433838,
          -0.028070537373423576,
          -0.04222850129008293,
          -0.013641624711453915,
          -0.008926212787628174,
          -0.02125459536910057,
          -0.05392492935061455,
          -0.0007299818680621684,
          0.06582928448915482,
          0.049989067018032074,
          0.02732252888381481,
          -0.00682987691834569,
          -0.0039009724278002977,
          -0.04425815865397453,
          -0.0747935026884079,
          -0.09707621484994888,
          -0.08582586795091629,
          0.028470881283283234,
          0.05164380371570587,
          -0.05822903290390968,
          0.003394646104425192,
          -0.13299201428890228,
          0.004931723233312368
         ]
        }
       ],
       "layout": {
        "annotations": [
         {
          "font": {
           "size": 18
          },
          "showarrow": false,
          "text": "The polar bear is sliding on the snow.",
          "x": 0.1,
          "xref": "paper",
          "y": 1,
          "yref": "paper"
         },
         {
          "font": {
           "size": 18
          },
          "showarrow": false,
          "text": "A polar bear is sliding across the snow.",
          "x": 0.9,
          "xref": "paper",
          "y": 1,
          "yref": "paper"
         }
        ],
        "height": 700,
        "scene": {
         "aspectmode": "auto",
         "aspectratio": {
          "x": 1.1435015130137427,
          "y": 0.8340948391593154,
          "z": 1.0484502373659663
         },
         "domain": {
          "x": [
           0,
           0.49
          ],
          "y": [
           0,
           1
          ]
         }
        },
        "scene2": {
         "aspectmode": "auto",
         "aspectratio": {
          "x": 1.0536467323864622,
          "y": 0.846309269252221,
          "z": 1.1214395744061334
         },
         "domain": {
          "x": [
           0.51,
           1
          ],
          "y": [
           0,
           1
          ]
         }
        },
        "template": {
         "data": {
          "bar": [
           {
            "error_x": {
             "color": "#2a3f5f"
            },
            "error_y": {
             "color": "#2a3f5f"
            },
            "marker": {
             "line": {
              "color": "#E5ECF6",
              "width": 0.5
             },
             "pattern": {
              "fillmode": "overlay",
              "size": 10,
              "solidity": 0.2
             }
            },
            "type": "bar"
           }
          ],
          "barpolar": [
           {
            "marker": {
             "line": {
              "color": "#E5ECF6",
              "width": 0.5
             },
             "pattern": {
              "fillmode": "overlay",
              "size": 10,
              "solidity": 0.2
             }
            },
            "type": "barpolar"
           }
          ],
          "carpet": [
           {
            "aaxis": {
             "endlinecolor": "#2a3f5f",
             "gridcolor": "white",
             "linecolor": "white",
             "minorgridcolor": "white",
             "startlinecolor": "#2a3f5f"
            },
            "baxis": {
             "endlinecolor": "#2a3f5f",
             "gridcolor": "white",
             "linecolor": "white",
             "minorgridcolor": "white",
             "startlinecolor": "#2a3f5f"
            },
            "type": "carpet"
           }
          ],
          "choropleth": [
           {
            "colorbar": {
             "outlinewidth": 0,
             "ticks": ""
            },
            "type": "choropleth"
           }
          ],
          "contour": [
           {
            "colorbar": {
             "outlinewidth": 0,
             "ticks": ""
            },
            "colorscale": [
             [
              0,
              "#0d0887"
             ],
             [
              0.1111111111111111,
              "#46039f"
             ],
             [
              0.2222222222222222,
              "#7201a8"
             ],
             [
              0.3333333333333333,
              "#9c179e"
             ],
             [
              0.4444444444444444,
              "#bd3786"
             ],
             [
              0.5555555555555556,
              "#d8576b"
             ],
             [
              0.6666666666666666,
              "#ed7953"
             ],
             [
              0.7777777777777778,
              "#fb9f3a"
             ],
             [
              0.8888888888888888,
              "#fdca26"
             ],
             [
              1,
              "#f0f921"
             ]
            ],
            "type": "contour"
           }
          ],
          "contourcarpet": [
           {
            "colorbar": {
             "outlinewidth": 0,
             "ticks": ""
            },
            "type": "contourcarpet"
           }
          ],
          "heatmap": [
           {
            "colorbar": {
             "outlinewidth": 0,
             "ticks": ""
            },
            "colorscale": [
             [
              0,
              "#0d0887"
             ],
             [
              0.1111111111111111,
              "#46039f"
             ],
             [
              0.2222222222222222,
              "#7201a8"
             ],
             [
              0.3333333333333333,
              "#9c179e"
             ],
             [
              0.4444444444444444,
              "#bd3786"
             ],
             [
              0.5555555555555556,
              "#d8576b"
             ],
             [
              0.6666666666666666,
              "#ed7953"
             ],
             [
              0.7777777777777778,
              "#fb9f3a"
             ],
             [
              0.8888888888888888,
              "#fdca26"
             ],
             [
              1,
              "#f0f921"
             ]
            ],
            "type": "heatmap"
           }
          ],
          "heatmapgl": [
           {
            "colorbar": {
             "outlinewidth": 0,
             "ticks": ""
            },
            "colorscale": [
             [
              0,
              "#0d0887"
             ],
             [
              0.1111111111111111,
              "#46039f"
             ],
             [
              0.2222222222222222,
              "#7201a8"
             ],
             [
              0.3333333333333333,
              "#9c179e"
             ],
             [
              0.4444444444444444,
              "#bd3786"
             ],
             [
              0.5555555555555556,
              "#d8576b"
             ],
             [
              0.6666666666666666,
              "#ed7953"
             ],
             [
              0.7777777777777778,
              "#fb9f3a"
             ],
             [
              0.8888888888888888,
              "#fdca26"
             ],
             [
              1,
              "#f0f921"
             ]
            ],
            "type": "heatmapgl"
           }
          ],
          "histogram": [
           {
            "marker": {
             "pattern": {
              "fillmode": "overlay",
              "size": 10,
              "solidity": 0.2
             }
            },
            "type": "histogram"
           }
          ],
          "histogram2d": [
           {
            "colorbar": {
             "outlinewidth": 0,
             "ticks": ""
            },
            "colorscale": [
             [
              0,
              "#0d0887"
             ],
             [
              0.1111111111111111,
              "#46039f"
             ],
             [
              0.2222222222222222,
              "#7201a8"
             ],
             [
              0.3333333333333333,
              "#9c179e"
             ],
             [
              0.4444444444444444,
              "#bd3786"
             ],
             [
              0.5555555555555556,
              "#d8576b"
             ],
             [
              0.6666666666666666,
              "#ed7953"
             ],
             [
              0.7777777777777778,
              "#fb9f3a"
             ],
             [
              0.8888888888888888,
              "#fdca26"
             ],
             [
              1,
              "#f0f921"
             ]
            ],
            "type": "histogram2d"
           }
          ],
          "histogram2dcontour": [
           {
            "colorbar": {
             "outlinewidth": 0,
             "ticks": ""
            },
            "colorscale": [
             [
              0,
              "#0d0887"
             ],
             [
              0.1111111111111111,
              "#46039f"
             ],
             [
              0.2222222222222222,
              "#7201a8"
             ],
             [
              0.3333333333333333,
              "#9c179e"
             ],
             [
              0.4444444444444444,
              "#bd3786"
             ],
             [
              0.5555555555555556,
              "#d8576b"
             ],
             [
              0.6666666666666666,
              "#ed7953"
             ],
             [
              0.7777777777777778,
              "#fb9f3a"
             ],
             [
              0.8888888888888888,
              "#fdca26"
             ],
             [
              1,
              "#f0f921"
             ]
            ],
            "type": "histogram2dcontour"
           }
          ],
          "mesh3d": [
           {
            "colorbar": {
             "outlinewidth": 0,
             "ticks": ""
            },
            "type": "mesh3d"
           }
          ],
          "parcoords": [
           {
            "line": {
             "colorbar": {
              "outlinewidth": 0,
              "ticks": ""
             }
            },
            "type": "parcoords"
           }
          ],
          "pie": [
           {
            "automargin": true,
            "type": "pie"
           }
          ],
          "scatter": [
           {
            "fillpattern": {
             "fillmode": "overlay",
             "size": 10,
             "solidity": 0.2
            },
            "type": "scatter"
           }
          ],
          "scatter3d": [
           {
            "line": {
             "colorbar": {
              "outlinewidth": 0,
              "ticks": ""
             }
            },
            "marker": {
             "colorbar": {
              "outlinewidth": 0,
              "ticks": ""
             }
            },
            "type": "scatter3d"
           }
          ],
          "scattercarpet": [
           {
            "marker": {
             "colorbar": {
              "outlinewidth": 0,
              "ticks": ""
             }
            },
            "type": "scattercarpet"
           }
          ],
          "scattergeo": [
           {
            "marker": {
             "colorbar": {
              "outlinewidth": 0,
              "ticks": ""
             }
            },
            "type": "scattergeo"
           }
          ],
          "scattergl": [
           {
            "marker": {
             "colorbar": {
              "outlinewidth": 0,
              "ticks": ""
             }
            },
            "type": "scattergl"
           }
          ],
          "scattermapbox": [
           {
            "marker": {
             "colorbar": {
              "outlinewidth": 0,
              "ticks": ""
             }
            },
            "type": "scattermapbox"
           }
          ],
          "scatterpolar": [
           {
            "marker": {
             "colorbar": {
              "outlinewidth": 0,
              "ticks": ""
             }
            },
            "type": "scatterpolar"
           }
          ],
          "scatterpolargl": [
           {
            "marker": {
             "colorbar": {
              "outlinewidth": 0,
              "ticks": ""
             }
            },
            "type": "scatterpolargl"
           }
          ],
          "scatterternary": [
           {
            "marker": {
             "colorbar": {
              "outlinewidth": 0,
              "ticks": ""
             }
            },
            "type": "scatterternary"
           }
          ],
          "surface": [
           {
            "colorbar": {
             "outlinewidth": 0,
             "ticks": ""
            },
            "colorscale": [
             [
              0,
              "#0d0887"
             ],
             [
              0.1111111111111111,
              "#46039f"
             ],
             [
              0.2222222222222222,
              "#7201a8"
             ],
             [
              0.3333333333333333,
              "#9c179e"
             ],
             [
              0.4444444444444444,
              "#bd3786"
             ],
             [
              0.5555555555555556,
              "#d8576b"
             ],
             [
              0.6666666666666666,
              "#ed7953"
             ],
             [
              0.7777777777777778,
              "#fb9f3a"
             ],
             [
              0.8888888888888888,
              "#fdca26"
             ],
             [
              1,
              "#f0f921"
             ]
            ],
            "type": "surface"
           }
          ],
          "table": [
           {
            "cells": {
             "fill": {
              "color": "#EBF0F8"
             },
             "line": {
              "color": "white"
             }
            },
            "header": {
             "fill": {
              "color": "#C8D4E3"
             },
             "line": {
              "color": "white"
             }
            },
            "type": "table"
           }
          ]
         },
         "layout": {
          "annotationdefaults": {
           "arrowcolor": "#2a3f5f",
           "arrowhead": 0,
           "arrowwidth": 1
          },
          "autotypenumbers": "strict",
          "coloraxis": {
           "colorbar": {
            "outlinewidth": 0,
            "ticks": ""
           }
          },
          "colorscale": {
           "diverging": [
            [
             0,
             "#8e0152"
            ],
            [
             0.1,
             "#c51b7d"
            ],
            [
             0.2,
             "#de77ae"
            ],
            [
             0.3,
             "#f1b6da"
            ],
            [
             0.4,
             "#fde0ef"
            ],
            [
             0.5,
             "#f7f7f7"
            ],
            [
             0.6,
             "#e6f5d0"
            ],
            [
             0.7,
             "#b8e186"
            ],
            [
             0.8,
             "#7fbc41"
            ],
            [
             0.9,
             "#4d9221"
            ],
            [
             1,
             "#276419"
            ]
           ],
           "sequential": [
            [
             0,
             "#0d0887"
            ],
            [
             0.1111111111111111,
             "#46039f"
            ],
            [
             0.2222222222222222,
             "#7201a8"
            ],
            [
             0.3333333333333333,
             "#9c179e"
            ],
            [
             0.4444444444444444,
             "#bd3786"
            ],
            [
             0.5555555555555556,
             "#d8576b"
            ],
            [
             0.6666666666666666,
             "#ed7953"
            ],
            [
             0.7777777777777778,
             "#fb9f3a"
            ],
            [
             0.8888888888888888,
             "#fdca26"
            ],
            [
             1,
             "#f0f921"
            ]
           ],
           "sequentialminus": [
            [
             0,
             "#0d0887"
            ],
            [
             0.1111111111111111,
             "#46039f"
            ],
            [
             0.2222222222222222,
             "#7201a8"
            ],
            [
             0.3333333333333333,
             "#9c179e"
            ],
            [
             0.4444444444444444,
             "#bd3786"
            ],
            [
             0.5555555555555556,
             "#d8576b"
            ],
            [
             0.6666666666666666,
             "#ed7953"
            ],
            [
             0.7777777777777778,
             "#fb9f3a"
            ],
            [
             0.8888888888888888,
             "#fdca26"
            ],
            [
             1,
             "#f0f921"
            ]
           ]
          },
          "colorway": [
           "#636efa",
           "#EF553B",
           "#00cc96",
           "#ab63fa",
           "#FFA15A",
           "#19d3f3",
           "#FF6692",
           "#B6E880",
           "#FF97FF",
           "#FECB52"
          ],
          "font": {
           "color": "#2a3f5f"
          },
          "geo": {
           "bgcolor": "white",
           "lakecolor": "white",
           "landcolor": "#E5ECF6",
           "showlakes": true,
           "showland": true,
           "subunitcolor": "white"
          },
          "hoverlabel": {
           "align": "left"
          },
          "hovermode": "closest",
          "mapbox": {
           "style": "light"
          },
          "paper_bgcolor": "white",
          "plot_bgcolor": "#E5ECF6",
          "polar": {
           "angularaxis": {
            "gridcolor": "white",
            "linecolor": "white",
            "ticks": ""
           },
           "bgcolor": "#E5ECF6",
           "radialaxis": {
            "gridcolor": "white",
            "linecolor": "white",
            "ticks": ""
           }
          },
          "scene": {
           "xaxis": {
            "backgroundcolor": "#E5ECF6",
            "gridcolor": "white",
            "gridwidth": 2,
            "linecolor": "white",
            "showbackground": true,
            "ticks": "",
            "zerolinecolor": "white"
           },
           "yaxis": {
            "backgroundcolor": "#E5ECF6",
            "gridcolor": "white",
            "gridwidth": 2,
            "linecolor": "white",
            "showbackground": true,
            "ticks": "",
            "zerolinecolor": "white"
           },
           "zaxis": {
            "backgroundcolor": "#E5ECF6",
            "gridcolor": "white",
            "gridwidth": 2,
            "linecolor": "white",
            "showbackground": true,
            "ticks": "",
            "zerolinecolor": "white"
           }
          },
          "shapedefaults": {
           "line": {
            "color": "#2a3f5f"
           }
          },
          "ternary": {
           "aaxis": {
            "gridcolor": "white",
            "linecolor": "white",
            "ticks": ""
           },
           "baxis": {
            "gridcolor": "white",
            "linecolor": "white",
            "ticks": ""
           },
           "bgcolor": "#E5ECF6",
           "caxis": {
            "gridcolor": "white",
            "linecolor": "white",
            "ticks": ""
           }
          },
          "title": {
           "x": 0.05
          },
          "xaxis": {
           "automargin": true,
           "gridcolor": "white",
           "linecolor": "white",
           "ticks": "",
           "title": {
            "standoff": 15
           },
           "zerolinecolor": "white",
           "zerolinewidth": 2
          },
          "yaxis": {
           "automargin": true,
           "gridcolor": "white",
           "linecolor": "white",
           "ticks": "",
           "title": {
            "standoff": 15
           },
           "zerolinecolor": "white",
           "zerolinewidth": 2
          }
         }
        },
        "title": {
         "font": {
          "size": 24
         },
         "text": "label=5.00(index=16)",
         "x": 0.5,
         "y": 0.95
        },
        "width": 1100
       }
      },
      "text/html": [
       "<div>                            <div id=\"4443fff3-bf87-40af-adce-5089bf13b4f4\" class=\"plotly-graph-div\" style=\"height:700px; width:1100px;\"></div>            <script type=\"text/javascript\">                require([\"plotly\"], function(Plotly) {                    window.PLOTLYENV=window.PLOTLYENV || {};                                    if (document.getElementById(\"4443fff3-bf87-40af-adce-5089bf13b4f4\")) {                    Plotly.newPlot(                        \"4443fff3-bf87-40af-adce-5089bf13b4f4\",                        [{\"hovertemplate\":\"0=%{x}\\u003cbr\\u003e1=%{y}\\u003cbr\\u003e2=%{z}\\u003cextra\\u003e\\u003c\\u002fextra\\u003e\",\"legendgroup\":\"\",\"marker\":{\"color\":\"#636efa\",\"size\":2,\"symbol\":\"circle\"},\"mode\":\"markers\",\"name\":\"\",\"scene\":\"scene\",\"showlegend\":false,\"x\":[0.10822964459657669,0.05900290608406067,-0.013279576785862446,0.019759466871619225,0.02370564267039299,0.008768923580646515,0.06484314054250717,0.05059840530157089,0.05736575648188591,-0.02930402383208275,0.017358915880322456,0.08161719143390656,0.02958180569112301,0.026807742193341255,0.04927068203687668,0.03002041019499302,-0.11591396480798721,0.03199215605854988,0.08010663837194443,0.0076524559408426285,-0.03571568429470062,-0.06332594156265259,0.01982225850224495,-0.09956099092960358,-0.016168950125575066,-0.021067719906568527,0.08475089073181152,-0.018149616196751595,0.04533342272043228,0.07295700907707214,0.044744037091732025,-0.1334088295698166,-0.03013872168958187,0.028274834156036377,-0.019146092236042023,0.005540411453694105,0.07864891737699509,0.01042253989726305,-0.02664032205939293,0.06168074905872345,0.0855274349451065,0.038823872804641724,-0.020486218854784966,-0.05700206011533737,-0.017731454223394394,-0.001926047378219664,-0.047580964863300323,-0.050157319754362106,-0.0032937631476670504,0.07029755413532257,0.06526220589876175,0.03923765942454338,-0.0025401513557881117,0.0037964461371302605,-0.05258559435606003,-0.03616108372807503,-0.12403562664985657,-0.09617657214403152,0.017002953216433525,0.04018348455429077,-0.06109394505620003],\"y\":[0.01610998436808586,0.0026974277570843697,-0.03216036409139633,-0.04574691504240036,-0.02220977656543255,0.02790120616555214,-0.05591912567615509,0.02404826320707798,0.046167343854904175,-0.007970249280333519,-0.06892811506986618,0.006218597758561373,0.06158480420708656,-0.012562770396471024,-0.024326635524630547,-0.016487130895256996,-0.018978320062160492,-0.07600012421607971,-0.033268485218286514,0.07559140026569366,-0.015209056437015533,-0.03280171751976013,0.04032846912741661,-0.030719248577952385,-0.01256265677511692,0.003914256114512682,-0.0528443306684494,-0.02742621675133705,0.02257010154426098,-0.06657437980175018,0.0020539353135973215,0.03025025874376297,-0.02401120215654373,-0.09830842912197113,-0.021454231813549995,-0.020497096702456474,0.024431956931948662,0.0601927824318409,-0.0005343109951354563,0.07794792205095291,0.01795240119099617,-0.0655810758471489,0.022388389334082603,0.06281594187021255,0.009408553130924702,0.05457507446408272,0.025479182600975037,0.014183545485138893,-0.061347149312496185,-0.07678252458572388,0.005425302777439356,0.03317815437912941,-0.01096606906503439,0.0694798156619072,0.03931330516934395,-0.0073922742158174515,-0.059701964259147644,0.014079952612519264,0.002572160679847002,0.0422787144780159,-0.0017684893682599068],\"z\":[0.019759466871619225,0.02370564267039299,0.008768923580646515,0.06484314054250717,0.05059840530157089,0.05736575648188591,-0.02930402383208275,0.017358915880322456,0.08161719143390656,0.02958180569112301,0.026807742193341255,0.04927068203687668,0.03002041019499302,-0.11591396480798721,0.03199215605854988,0.08010663837194443,0.0076524559408426285,-0.03571568429470062,-0.06332594156265259,0.01982225850224495,-0.09956099092960358,-0.016168950125575066,-0.021067719906568527,0.08475089073181152,-0.018149616196751595,0.04533342272043228,0.07295700907707214,0.044744037091732025,-0.1334088295698166,-0.03013872168958187,0.028274834156036377,-0.019146092236042023,0.005540411453694105,0.07864891737699509,0.01042253989726305,-0.02664032205939293,0.06168074905872345,0.0855274349451065,0.038823872804641724,-0.020486218854784966,-0.05700206011533737,-0.017731454223394394,-0.001926047378219664,-0.047580964863300323,-0.050157319754362106,-0.0032937631476670504,0.07029755413532257,0.06526220589876175,0.03923765942454338,-0.0025401513557881117,0.0037964461371302605,-0.05258559435606003,-0.03616108372807503,-0.12403562664985657,-0.09617657214403152,0.017002953216433525,0.04018348455429077,-0.06109394505620003,-0.008224187418818474,-0.1360253244638443,-0.018067030236124992],\"type\":\"scatter3d\"},{\"hovertemplate\":\"0=%{x}\\u003cbr\\u003e1=%{y}\\u003cbr\\u003e2=%{z}\\u003cextra\\u003e\\u003c\\u002fextra\\u003e\",\"legendgroup\":\"\",\"marker\":{\"color\":\"#636efa\",\"size\":2,\"symbol\":\"circle\"},\"mode\":\"markers\",\"name\":\"\",\"scene\":\"scene2\",\"showlegend\":false,\"x\":[0.08556737750768661,0.03578043356537819,-0.01412973366677761,0.03560304641723633,-0.005597101990133524,0.0025551768485456705,0.07572057843208313,0.04424695298075676,0.07525670528411865,-0.013734172098338604,0.007938237860798836,0.07691348344087601,0.04079532250761986,0.02274327166378498,0.04776155203580856,0.023961711674928665,-0.11873771995306015,0.046774931252002716,0.05573119595646858,0.016816526651382446,-0.03398621454834938,-0.04558061063289642,0.0006550122634507716,-0.09249556809663773,-0.035135239362716675,-0.03271960839629173,0.10280470550060272,-0.003750639269128442,0.024490034207701683,0.07173140347003937,0.053708113729953766,-0.10538919270038605,-0.02278793975710869,0.016087858006358147,-0.006152043119072914,-0.015714401379227638,0.07404715567827225,0.011878923512995243,-0.02353685535490513,0.047101788222789764,0.06171678006649017,0.03384840488433838,-0.028070537373423576,-0.04222850129008293,-0.013641624711453915,-0.008926212787628174,-0.02125459536910057,-0.05392492935061455,-0.0007299818680621684,0.06582928448915482,0.049989067018032074,0.02732252888381481,-0.00682987691834569,-0.0039009724278002977,-0.04425815865397453,-0.0747935026884079,-0.09707621484994888,-0.08582586795091629,0.028470881283283234,0.05164380371570587,-0.05822903290390968],\"y\":[0.04203785955905914,-0.010866500437259674,-0.015432098880410194,-0.09285041689872742,-0.004118941258639097,0.045701734721660614,-0.06429553776979446,0.02103368006646633,0.05348281189799309,-0.004002791829407215,-0.04785418137907982,0.008247775956988335,0.06279923766851425,-0.006539162714034319,-0.02541102096438408,0.004317585378885269,-0.006829104386270046,-0.08978895843029022,-0.03822864592075348,0.062107186764478683,-0.025017954409122467,-0.035277485847473145,0.029815012589097023,-0.03477367013692856,-0.015271623618900776,-0.006994038354605436,-0.02744268625974655,-0.036739543080329895,0.022068968042731285,-0.047830529510974884,-0.018730968236923218,0.02689049392938614,0.02812708355486393,-0.07914525270462036,-0.011128706857562065,-0.0046357461251318455,0.004967662505805492,0.044671472162008286,0.008062578737735748,0.08509670943021774,0.027247821912169456,-0.053190600126981735,0.03229798376560211,0.04892612248659134,0.0048172869719564915,0.05521851405501366,0.013844932429492474,-0.026155980303883553,-0.05776263028383255,-0.07010093331336975,0.011160862632095814,0.051699601113796234,-0.0078166164457798,0.07214844226837158,0.023056253790855408,-0.009412777610123158,-0.038162168115377426,0.0308977197855711,0.0173785500228405,0.02968202903866768,-0.0006538633024320006],\"z\":[0.03560304641723633,-0.005597101990133524,0.0025551768485456705,0.07572057843208313,0.04424695298075676,0.07525670528411865,-0.013734172098338604,0.007938237860798836,0.07691348344087601,0.04079532250761986,0.02274327166378498,0.04776155203580856,0.023961711674928665,-0.11873771995306015,0.046774931252002716,0.05573119595646858,0.016816526651382446,-0.03398621454834938,-0.04558061063289642,0.0006550122634507716,-0.09249556809663773,-0.035135239362716675,-0.03271960839629173,0.10280470550060272,-0.003750639269128442,0.024490034207701683,0.07173140347003937,0.053708113729953766,-0.10538919270038605,-0.02278793975710869,0.016087858006358147,-0.006152043119072914,-0.015714401379227638,0.07404715567827225,0.011878923512995243,-0.02353685535490513,0.047101788222789764,0.06171678006649017,0.03384840488433838,-0.028070537373423576,-0.04222850129008293,-0.013641624711453915,-0.008926212787628174,-0.02125459536910057,-0.05392492935061455,-0.0007299818680621684,0.06582928448915482,0.049989067018032074,0.02732252888381481,-0.00682987691834569,-0.0039009724278002977,-0.04425815865397453,-0.0747935026884079,-0.09707621484994888,-0.08582586795091629,0.028470881283283234,0.05164380371570587,-0.05822903290390968,0.003394646104425192,-0.13299201428890228,0.004931723233312368],\"type\":\"scatter3d\"}],                        {\"template\":{\"data\":{\"histogram2dcontour\":[{\"type\":\"histogram2dcontour\",\"colorbar\":{\"outlinewidth\":0,\"ticks\":\"\"},\"colorscale\":[[0.0,\"#0d0887\"],[0.1111111111111111,\"#46039f\"],[0.2222222222222222,\"#7201a8\"],[0.3333333333333333,\"#9c179e\"],[0.4444444444444444,\"#bd3786\"],[0.5555555555555556,\"#d8576b\"],[0.6666666666666666,\"#ed7953\"],[0.7777777777777778,\"#fb9f3a\"],[0.8888888888888888,\"#fdca26\"],[1.0,\"#f0f921\"]]}],\"choropleth\":[{\"type\":\"choropleth\",\"colorbar\":{\"outlinewidth\":0,\"ticks\":\"\"}}],\"histogram2d\":[{\"type\":\"histogram2d\",\"colorbar\":{\"outlinewidth\":0,\"ticks\":\"\"},\"colorscale\":[[0.0,\"#0d0887\"],[0.1111111111111111,\"#46039f\"],[0.2222222222222222,\"#7201a8\"],[0.3333333333333333,\"#9c179e\"],[0.4444444444444444,\"#bd3786\"],[0.5555555555555556,\"#d8576b\"],[0.6666666666666666,\"#ed7953\"],[0.7777777777777778,\"#fb9f3a\"],[0.8888888888888888,\"#fdca26\"],[1.0,\"#f0f921\"]]}],\"heatmap\":[{\"type\":\"heatmap\",\"colorbar\":{\"outlinewidth\":0,\"ticks\":\"\"},\"colorscale\":[[0.0,\"#0d0887\"],[0.1111111111111111,\"#46039f\"],[0.2222222222222222,\"#7201a8\"],[0.3333333333333333,\"#9c179e\"],[0.4444444444444444,\"#bd3786\"],[0.5555555555555556,\"#d8576b\"],[0.6666666666666666,\"#ed7953\"],[0.7777777777777778,\"#fb9f3a\"],[0.8888888888888888,\"#fdca26\"],[1.0,\"#f0f921\"]]}],\"heatmapgl\":[{\"type\":\"heatmapgl\",\"colorbar\":{\"outlinewidth\":0,\"ticks\":\"\"},\"colorscale\":[[0.0,\"#0d0887\"],[0.1111111111111111,\"#46039f\"],[0.2222222222222222,\"#7201a8\"],[0.3333333333333333,\"#9c179e\"],[0.4444444444444444,\"#bd3786\"],[0.5555555555555556,\"#d8576b\"],[0.6666666666666666,\"#ed7953\"],[0.7777777777777778,\"#fb9f3a\"],[0.8888888888888888,\"#fdca26\"],[1.0,\"#f0f921\"]]}],\"contourcarpet\":[{\"type\":\"contourcarpet\",\"colorbar\":{\"outlinewidth\":0,\"ticks\":\"\"}}],\"contour\":[{\"type\":\"contour\",\"colorbar\":{\"outlinewidth\":0,\"ticks\":\"\"},\"colorscale\":[[0.0,\"#0d0887\"],[0.1111111111111111,\"#46039f\"],[0.2222222222222222,\"#7201a8\"],[0.3333333333333333,\"#9c179e\"],[0.4444444444444444,\"#bd3786\"],[0.5555555555555556,\"#d8576b\"],[0.6666666666666666,\"#ed7953\"],[0.7777777777777778,\"#fb9f3a\"],[0.8888888888888888,\"#fdca26\"],[1.0,\"#f0f921\"]]}],\"surface\":[{\"type\":\"surface\",\"colorbar\":{\"outlinewidth\":0,\"ticks\":\"\"},\"colorscale\":[[0.0,\"#0d0887\"],[0.1111111111111111,\"#46039f\"],[0.2222222222222222,\"#7201a8\"],[0.3333333333333333,\"#9c179e\"],[0.4444444444444444,\"#bd3786\"],[0.5555555555555556,\"#d8576b\"],[0.6666666666666666,\"#ed7953\"],[0.7777777777777778,\"#fb9f3a\"],[0.8888888888888888,\"#fdca26\"],[1.0,\"#f0f921\"]]}],\"mesh3d\":[{\"type\":\"mesh3d\",\"colorbar\":{\"outlinewidth\":0,\"ticks\":\"\"}}],\"scatter\":[{\"fillpattern\":{\"fillmode\":\"overlay\",\"size\":10,\"solidity\":0.2},\"type\":\"scatter\"}],\"parcoords\":[{\"type\":\"parcoords\",\"line\":{\"colorbar\":{\"outlinewidth\":0,\"ticks\":\"\"}}}],\"scatterpolargl\":[{\"type\":\"scatterpolargl\",\"marker\":{\"colorbar\":{\"outlinewidth\":0,\"ticks\":\"\"}}}],\"bar\":[{\"error_x\":{\"color\":\"#2a3f5f\"},\"error_y\":{\"color\":\"#2a3f5f\"},\"marker\":{\"line\":{\"color\":\"#E5ECF6\",\"width\":0.5},\"pattern\":{\"fillmode\":\"overlay\",\"size\":10,\"solidity\":0.2}},\"type\":\"bar\"}],\"scattergeo\":[{\"type\":\"scattergeo\",\"marker\":{\"colorbar\":{\"outlinewidth\":0,\"ticks\":\"\"}}}],\"scatterpolar\":[{\"type\":\"scatterpolar\",\"marker\":{\"colorbar\":{\"outlinewidth\":0,\"ticks\":\"\"}}}],\"histogram\":[{\"marker\":{\"pattern\":{\"fillmode\":\"overlay\",\"size\":10,\"solidity\":0.2}},\"type\":\"histogram\"}],\"scattergl\":[{\"type\":\"scattergl\",\"marker\":{\"colorbar\":{\"outlinewidth\":0,\"ticks\":\"\"}}}],\"scatter3d\":[{\"type\":\"scatter3d\",\"line\":{\"colorbar\":{\"outlinewidth\":0,\"ticks\":\"\"}},\"marker\":{\"colorbar\":{\"outlinewidth\":0,\"ticks\":\"\"}}}],\"scattermapbox\":[{\"type\":\"scattermapbox\",\"marker\":{\"colorbar\":{\"outlinewidth\":0,\"ticks\":\"\"}}}],\"scatterternary\":[{\"type\":\"scatterternary\",\"marker\":{\"colorbar\":{\"outlinewidth\":0,\"ticks\":\"\"}}}],\"scattercarpet\":[{\"type\":\"scattercarpet\",\"marker\":{\"colorbar\":{\"outlinewidth\":0,\"ticks\":\"\"}}}],\"carpet\":[{\"aaxis\":{\"endlinecolor\":\"#2a3f5f\",\"gridcolor\":\"white\",\"linecolor\":\"white\",\"minorgridcolor\":\"white\",\"startlinecolor\":\"#2a3f5f\"},\"baxis\":{\"endlinecolor\":\"#2a3f5f\",\"gridcolor\":\"white\",\"linecolor\":\"white\",\"minorgridcolor\":\"white\",\"startlinecolor\":\"#2a3f5f\"},\"type\":\"carpet\"}],\"table\":[{\"cells\":{\"fill\":{\"color\":\"#EBF0F8\"},\"line\":{\"color\":\"white\"}},\"header\":{\"fill\":{\"color\":\"#C8D4E3\"},\"line\":{\"color\":\"white\"}},\"type\":\"table\"}],\"barpolar\":[{\"marker\":{\"line\":{\"color\":\"#E5ECF6\",\"width\":0.5},\"pattern\":{\"fillmode\":\"overlay\",\"size\":10,\"solidity\":0.2}},\"type\":\"barpolar\"}],\"pie\":[{\"automargin\":true,\"type\":\"pie\"}]},\"layout\":{\"autotypenumbers\":\"strict\",\"colorway\":[\"#636efa\",\"#EF553B\",\"#00cc96\",\"#ab63fa\",\"#FFA15A\",\"#19d3f3\",\"#FF6692\",\"#B6E880\",\"#FF97FF\",\"#FECB52\"],\"font\":{\"color\":\"#2a3f5f\"},\"hovermode\":\"closest\",\"hoverlabel\":{\"align\":\"left\"},\"paper_bgcolor\":\"white\",\"plot_bgcolor\":\"#E5ECF6\",\"polar\":{\"bgcolor\":\"#E5ECF6\",\"angularaxis\":{\"gridcolor\":\"white\",\"linecolor\":\"white\",\"ticks\":\"\"},\"radialaxis\":{\"gridcolor\":\"white\",\"linecolor\":\"white\",\"ticks\":\"\"}},\"ternary\":{\"bgcolor\":\"#E5ECF6\",\"aaxis\":{\"gridcolor\":\"white\",\"linecolor\":\"white\",\"ticks\":\"\"},\"baxis\":{\"gridcolor\":\"white\",\"linecolor\":\"white\",\"ticks\":\"\"},\"caxis\":{\"gridcolor\":\"white\",\"linecolor\":\"white\",\"ticks\":\"\"}},\"coloraxis\":{\"colorbar\":{\"outlinewidth\":0,\"ticks\":\"\"}},\"colorscale\":{\"sequential\":[[0.0,\"#0d0887\"],[0.1111111111111111,\"#46039f\"],[0.2222222222222222,\"#7201a8\"],[0.3333333333333333,\"#9c179e\"],[0.4444444444444444,\"#bd3786\"],[0.5555555555555556,\"#d8576b\"],[0.6666666666666666,\"#ed7953\"],[0.7777777777777778,\"#fb9f3a\"],[0.8888888888888888,\"#fdca26\"],[1.0,\"#f0f921\"]],\"sequentialminus\":[[0.0,\"#0d0887\"],[0.1111111111111111,\"#46039f\"],[0.2222222222222222,\"#7201a8\"],[0.3333333333333333,\"#9c179e\"],[0.4444444444444444,\"#bd3786\"],[0.5555555555555556,\"#d8576b\"],[0.6666666666666666,\"#ed7953\"],[0.7777777777777778,\"#fb9f3a\"],[0.8888888888888888,\"#fdca26\"],[1.0,\"#f0f921\"]],\"diverging\":[[0,\"#8e0152\"],[0.1,\"#c51b7d\"],[0.2,\"#de77ae\"],[0.3,\"#f1b6da\"],[0.4,\"#fde0ef\"],[0.5,\"#f7f7f7\"],[0.6,\"#e6f5d0\"],[0.7,\"#b8e186\"],[0.8,\"#7fbc41\"],[0.9,\"#4d9221\"],[1,\"#276419\"]]},\"xaxis\":{\"gridcolor\":\"white\",\"linecolor\":\"white\",\"ticks\":\"\",\"title\":{\"standoff\":15},\"zerolinecolor\":\"white\",\"automargin\":true,\"zerolinewidth\":2},\"yaxis\":{\"gridcolor\":\"white\",\"linecolor\":\"white\",\"ticks\":\"\",\"title\":{\"standoff\":15},\"zerolinecolor\":\"white\",\"automargin\":true,\"zerolinewidth\":2},\"scene\":{\"xaxis\":{\"backgroundcolor\":\"#E5ECF6\",\"gridcolor\":\"white\",\"linecolor\":\"white\",\"showbackground\":true,\"ticks\":\"\",\"zerolinecolor\":\"white\",\"gridwidth\":2},\"yaxis\":{\"backgroundcolor\":\"#E5ECF6\",\"gridcolor\":\"white\",\"linecolor\":\"white\",\"showbackground\":true,\"ticks\":\"\",\"zerolinecolor\":\"white\",\"gridwidth\":2},\"zaxis\":{\"backgroundcolor\":\"#E5ECF6\",\"gridcolor\":\"white\",\"linecolor\":\"white\",\"showbackground\":true,\"ticks\":\"\",\"zerolinecolor\":\"white\",\"gridwidth\":2}},\"shapedefaults\":{\"line\":{\"color\":\"#2a3f5f\"}},\"annotationdefaults\":{\"arrowcolor\":\"#2a3f5f\",\"arrowhead\":0,\"arrowwidth\":1},\"geo\":{\"bgcolor\":\"white\",\"landcolor\":\"#E5ECF6\",\"subunitcolor\":\"white\",\"showland\":true,\"showlakes\":true,\"lakecolor\":\"white\"},\"title\":{\"x\":0.05},\"mapbox\":{\"style\":\"light\"}}},\"scene\":{\"domain\":{\"x\":[0.0,0.49],\"y\":[0.0,1.0]}},\"scene2\":{\"domain\":{\"x\":[0.51,1.0],\"y\":[0.0,1.0]}},\"width\":1100,\"height\":700,\"title\":{\"font\":{\"size\":24},\"text\":\"label=5.00(index=16)\",\"x\":0.5,\"y\":0.95},\"annotations\":[{\"font\":{\"size\":18},\"showarrow\":false,\"text\":\"The polar bear is sliding on the snow.\",\"x\":0.1,\"xref\":\"paper\",\"y\":1.0,\"yref\":\"paper\"},{\"font\":{\"size\":18},\"showarrow\":false,\"text\":\"A polar bear is sliding across the snow.\",\"x\":0.9,\"xref\":\"paper\",\"y\":1.0,\"yref\":\"paper\"}]},                        {\"responsive\": true}                    ).then(function(){\n",
       "                            \n",
       "var gd = document.getElementById('4443fff3-bf87-40af-adce-5089bf13b4f4');\n",
       "var x = new MutationObserver(function (mutations, observer) {{\n",
       "        var display = window.getComputedStyle(gd).display;\n",
       "        if (!display || display === 'none') {{\n",
       "            console.log([gd, 'removed!']);\n",
       "            Plotly.purge(gd);\n",
       "            observer.disconnect();\n",
       "        }}\n",
       "}});\n",
       "\n",
       "// Listen for the removal of the full notebook cells\n",
       "var notebookContainer = gd.closest('#notebook-container');\n",
       "if (notebookContainer) {{\n",
       "    x.observe(notebookContainer, {childList: true});\n",
       "}}\n",
       "\n",
       "// Listen for the clearing of the current output cell\n",
       "var outputEl = gd.closest('.output');\n",
       "if (outputEl) {{\n",
       "    x.observe(outputEl, {childList: true});\n",
       "}}\n",
       "\n",
       "                        })                };                });            </script>        </div>"
      ]
     },
     "metadata": {},
     "output_type": "display_data"
    },
    {
     "name": "stderr",
     "output_type": "stream",
     "text": [
      "/tmp/ipykernel_1482003/3944099178.py:56: UserWarning:\n",
      "\n",
      "FigureCanvasAgg is non-interactive, and thus cannot be shown\n",
      "\n"
     ]
    },
    {
     "data": {
      "image/png": "[encoded data removed]",
      "text/plain": [
       "<Figure size 800x400 with 2 Axes>"
      ]
     },
     "metadata": {},
     "output_type": "display_data"
    }
   ],
   "source": [
    "generatePdFigure(16, 20)"
   ]
  },
  {
   "cell_type": "code",
   "execution_count": 45,
   "id": "68d70c96-beaa-4c9b-a8dc-ce09bf4e7e0c",
   "metadata": {},
   "outputs": [
    {
     "name": "stdout",
     "output_type": "stream",
     "text": [
      "2024-09-03 16:07:44,188] MainProcess(1482003).MainThread(139852985743168) 2459079984.get_pd(2) INFO -> fvecs=(61, 3)\n",
      "pdlist=PDList(path=None)\n",
      "birth death=(104, 2)\n",
      "index1=6, index2=26\n",
      "2024-09-03 16:07:44,198] MainProcess(1482003).MainThread(139852985743168) 2459079984.get_pd(2) INFO -> fvecs=(61, 3)\n",
      "pdlist=PDList(path=None)\n",
      "birth death=(113, 2)\n"
     ]
    },
    {
     "data": {
      "application/vnd.plotly.v1+json": {
       "config": {
        "plotlyServerURL": "https://plot.ly"
       },
       "data": [
        {
         "hovertemplate": "0=%{x}<br>1=%{y}<br>2=%{z}<extra></extra>",
         "legendgroup": "",
         "marker": {
          "color": "#636efa",
          "size": 2,
          "symbol": "circle"
         },
         "mode": "markers",
         "name": "",
         "scene": "scene",
         "showlegend": false,
         "type": "scatter3d",
         "x": [
          0.0009467444033361971,
          0.03048308938741684,
          0.038111377507448196,
          -0.026929356157779694,
          0.055118389427661896,
          -0.18167676031589508,
          0.013061340898275375,
          0.006237279623746872,
          -0.010264468379318714,
          -0.030040442943572998,
          -0.0066192299127578735,
          -0.029315199702978134,
          -0.02632623352110386,
          0.02070113830268383,
          -0.019762523472309113,
          -0.014881672337651253,
          -0.009605816565454006,
          0.0018949277000501752,
          -0.10081928223371506,
          -0.033765897154808044,
          -0.023019539192318916,
          0.06423298269510269,
          0.012738890014588833,
          -0.019086794927716255,
          -0.0443740040063858,
          -0.03250546753406525,
          -0.09774459898471832,
          -0.0007116057677194476,
          -0.08221051841974258,
          -0.06328681856393814,
          0.012881409376859665,
          0.09126041829586029,
          0.06369929015636444,
          -0.0462489128112793,
          -0.0860135555267334,
          -0.006647334899753332,
          0.100753553211689,
          0.039934419095516205,
          -0.017048435285687447,
          0.05509825423359871,
          -0.02682442031800747,
          0.01597151905298233,
          0.008841502480208874,
          -0.03768717125058174,
          -0.0148789556697011,
          0.04001561179757118,
          0.015235058963298798,
          -0.05227147415280342,
          -0.10131475329399109,
          -0.03524389863014221,
          -0.02748938463628292,
          0.028118275105953217,
          -0.028636975213885307,
          -0.017608795315027237,
          -0.012645254842936993,
          -0.023370441049337387,
          0.03872457891702652,
          0.03792847320437431,
          0.007150989957153797,
          -0.07451401650905609,
          -0.019560784101486206
         ],
         "y": [
          0.09975125640630722,
          0.06959009915590286,
          -0.00970821175724268,
          -0.05785740911960602,
          -0.012739486992359161,
          -0.030475085601210594,
          -0.016814986243844032,
          0.016176296398043633,
          0.015585852786898613,
          0.05235617235302925,
          0.009404374286532402,
          0.0759396031498909,
          0.004068737383931875,
          0.0029560942202806473,
          -0.1370236724615097,
          0.011042054742574692,
          0.007685799151659012,
          0.009507166221737862,
          -0.006679510697722435,
          0.016026223078370094,
          0.04436905309557915,
          -0.11557960510253906,
          -0.05249828100204468,
          -0.059020958840847015,
          -0.02875945344567299,
          0.02944924868643284,
          0.028940554708242416,
          0.06821193546056747,
          -0.030582131817936897,
          -0.007748957723379135,
          0.017901001498103142,
          -0.0016551967710256577,
          -0.070363849401474,
          -0.08659631758928299,
          -0.05968117341399193,
          -0.039425063878297806,
          -0.019407618790864944,
          0.10942480713129044,
          0.03148409724235535,
          -0.13538606464862823,
          -0.05443917587399483,
          0.030742282047867775,
          0.03772030770778656,
          -0.007972653023898602,
          0.07548961043357849,
          -0.08773985505104065,
          0.021567238494753838,
          0.03656376153230667,
          0.03934429958462715,
          -0.047774143517017365,
          0.026822907850146294,
          -0.030890487134456635,
          0.043678950518369675,
          0.03960184007883072,
          0.0402708500623703,
          -0.04460805654525757,
          0.03437730297446251,
          -0.004835994448512793,
          -0.036896828562021255,
          -0.041237395256757736,
          -0.061241284012794495
         ],
         "z": [
          -0.026929356157779694,
          0.055118389427661896,
          -0.18167676031589508,
          0.013061340898275375,
          0.006237279623746872,
          -0.010264468379318714,
          -0.030040442943572998,
          -0.0066192299127578735,
          -0.029315199702978134,
          -0.02632623352110386,
          0.02070113830268383,
          -0.019762523472309113,
          -0.014881672337651253,
          -0.009605816565454006,
          0.0018949277000501752,
          -0.10081928223371506,
          -0.033765897154808044,
          -0.023019539192318916,
          0.06423298269510269,
          0.012738890014588833,
          -0.019086794927716255,
          -0.0443740040063858,
          -0.03250546753406525,
          -0.09774459898471832,
          -0.0007116057677194476,
          -0.08221051841974258,
          -0.06328681856393814,
          0.012881409376859665,
          0.09126041829586029,
          0.06369929015636444,
          -0.0462489128112793,
          -0.0860135555267334,
          -0.006647334899753332,
          0.100753553211689,
          0.039934419095516205,
          -0.017048435285687447,
          0.05509825423359871,
          -0.02682442031800747,
          0.01597151905298233,
          0.008841502480208874,
          -0.03768717125058174,
          -0.0148789556697011,
          0.04001561179757118,
          0.015235058963298798,
          -0.05227147415280342,
          -0.10131475329399109,
          -0.03524389863014221,
          -0.02748938463628292,
          0.028118275105953217,
          -0.028636975213885307,
          -0.017608795315027237,
          -0.012645254842936993,
          -0.023370441049337387,
          0.03872457891702652,
          0.03792847320437431,
          0.007150989957153797,
          -0.07451401650905609,
          -0.019560784101486206,
          0.006487422157078981,
          0.0289311520755291,
          0.043309010565280914
         ]
        },
        {
         "hovertemplate": "0=%{x}<br>1=%{y}<br>2=%{z}<extra></extra>",
         "legendgroup": "",
         "marker": {
          "color": "#636efa",
          "size": 2,
          "symbol": "circle"
         },
         "mode": "markers",
         "name": "",
         "scene": "scene2",
         "showlegend": false,
         "type": "scatter3d",
         "x": [
          -0.031543709337711334,
          0.049366120249032974,
          0.10665025562047958,
          0.020178379490971565,
          0.10188530385494232,
          -0.1342897117137909,
          -0.01094984170049429,
          -0.07890859991312027,
          -0.026030194014310837,
          -0.05623806267976761,
          -0.04486876353621483,
          0.02203143760561943,
          -0.05883109197020531,
          -0.05435878783464432,
          0.06169749051332474,
          0.07003628462553024,
          -0.04003274440765381,
          0.04991122707724571,
          0.0062954360619187355,
          0.018449213355779648,
          -0.013701875694096088,
          0.016955148428678513,
          0.04472316801548004,
          0.05937318131327629,
          -0.012987303547561169,
          -0.15531976521015167,
          0.037746503949165344,
          -0.01198816392570734,
          -0.06545737385749817,
          0.021587885916233063,
          0.05071185156702995,
          0.02810254879295826,
          -0.013187572360038757,
          -0.00329593732021749,
          0.006412691902369261,
          0.09334079921245575,
          0.09934177249670029,
          0.05470965430140495,
          -0.05942295864224434,
          0.005124229472130537,
          0.016969231888651848,
          0.007921338081359863,
          -0.0027502686716616154,
          0.07570961862802505,
          -0.04690540209412575,
          0.05864870548248291,
          -0.049707017838954926,
          0.06534676998853683,
          -0.017611447721719742,
          0.005384306889027357,
          -0.015534428879618645,
          -0.00367932440713048,
          0.00906618032604456,
          -0.04638424888253212,
          -0.027452895417809486,
          -0.0175213310867548,
          -0.023895014077425003,
          0.0012274777982383966,
          0.038991011679172516,
          -0.03868478909134865,
          0.029682962223887444
         ],
         "y": [
          0.02019418030977249,
          0.03143556788563728,
          0.01313874777406454,
          0.056219879537820816,
          -0.08390214294195175,
          0.03561427816748619,
          -0.10375577956438065,
          0.028771622106432915,
          -0.013312178663909435,
          -0.004863881506025791,
          -0.017855806276202202,
          0.03706289455294609,
          0.05115621164441109,
          -0.023393336683511734,
          -0.07602117210626602,
          -0.010083800181746483,
          -0.004465908743441105,
          -0.05653642117977142,
          -0.0017212777165696025,
          0.007739342749118805,
          0.06948709487915039,
          -0.037432100623846054,
          -0.04787280410528183,
          -0.044216055423021317,
          -0.04142727330327034,
          -0.029856674373149872,
          0.00023267260985448956,
          0.005756129510700703,
          0.010139440186321735,
          -0.08611360937356949,
          -0.0763043761253357,
          0.000490706879645586,
          -0.09461458772420883,
          -0.03853432461619377,
          -0.06465580314397812,
          -0.1152230054140091,
          0.003503550309687853,
          0.03909008949995041,
          -0.03598512336611748,
          -0.04781727120280266,
          -0.011381199583411217,
          -0.03122726082801819,
          0.07003360986709595,
          -0.03526611253619194,
          0.0744246393442154,
          -0.03426818549633026,
          0.027218256145715714,
          0.04465101286768913,
          0.07437001168727875,
          -0.07536928355693817,
          0.025975683704018593,
          -0.030521603301167488,
          -0.012289841659367085,
          0.016092725098133087,
          -0.009143396280705929,
          -0.04615551978349686,
          0.07091598212718964,
          0.06825412809848785,
          -0.004834249150007963,
          -0.05683854594826698,
          -0.020271293818950653
         ],
         "z": [
          0.020178379490971565,
          0.10188530385494232,
          -0.1342897117137909,
          -0.01094984170049429,
          -0.07890859991312027,
          -0.026030194014310837,
          -0.05623806267976761,
          -0.04486876353621483,
          0.02203143760561943,
          -0.05883109197020531,
          -0.05435878783464432,
          0.06169749051332474,
          0.07003628462553024,
          -0.04003274440765381,
          0.04991122707724571,
          0.0062954360619187355,
          0.018449213355779648,
          -0.013701875694096088,
          0.016955148428678513,
          0.04472316801548004,
          0.05937318131327629,
          -0.012987303547561169,
          -0.15531976521015167,
          0.037746503949165344,
          -0.01198816392570734,
          -0.06545737385749817,
          0.021587885916233063,
          0.05071185156702995,
          0.02810254879295826,
          -0.013187572360038757,
          -0.00329593732021749,
          0.006412691902369261,
          0.09334079921245575,
          0.09934177249670029,
          0.05470965430140495,
          -0.05942295864224434,
          0.005124229472130537,
          0.016969231888651848,
          0.007921338081359863,
          -0.0027502686716616154,
          0.07570961862802505,
          -0.04690540209412575,
          0.05864870548248291,
          -0.049707017838954926,
          0.06534676998853683,
          -0.017611447721719742,
          0.005384306889027357,
          -0.015534428879618645,
          -0.00367932440713048,
          0.00906618032604456,
          -0.04638424888253212,
          -0.027452895417809486,
          -0.0175213310867548,
          -0.023895014077425003,
          0.0012274777982383966,
          0.038991011679172516,
          -0.03868478909134865,
          0.029682962223887444,
          -0.01203404925763607,
          -0.0190983135253191,
          0.016230234876275063
         ]
        }
       ],
       "layout": {
        "annotations": [
         {
          "font": {
           "size": 18
          },
          "showarrow": false,
          "text": "A man is smoking.",
          "x": 0.1,
          "xref": "paper",
          "y": 1,
          "yref": "paper"
         },
         {
          "font": {
           "size": 18
          },
          "showarrow": false,
          "text": "A man is skating.",
          "x": 0.9,
          "xref": "paper",
          "y": 1,
          "yref": "paper"
         }
        ],
        "height": 700,
        "scene": {
         "aspectmode": "auto",
         "aspectratio": {
          "x": 1.0464738691395659,
          "y": 0.9131523127309508,
          "z": 1.0464738691395659
         },
         "domain": {
          "x": [
           0,
           0.49
          ],
          "y": [
           0,
           1
          ]
         }
        },
        "scene2": {
         "aspectmode": "auto",
         "aspectratio": {
          "x": 1.1205349426047373,
          "y": 0.8111875246659253,
          "z": 1.1001536221155406
         },
         "domain": {
          "x": [
           0.51,
           1
          ],
          "y": [
           0,
           1
          ]
         }
        },
        "template": {
         "data": {
          "bar": [
           {
            "error_x": {
             "color": "#2a3f5f"
            },
            "error_y": {
             "color": "#2a3f5f"
            },
            "marker": {
             "line": {
              "color": "#E5ECF6",
              "width": 0.5
             },
             "pattern": {
              "fillmode": "overlay",
              "size": 10,
              "solidity": 0.2
             }
            },
            "type": "bar"
           }
          ],
          "barpolar": [
           {
            "marker": {
             "line": {
              "color": "#E5ECF6",
              "width": 0.5
             },
             "pattern": {
              "fillmode": "overlay",
              "size": 10,
              "solidity": 0.2
             }
            },
            "type": "barpolar"
           }
          ],
          "carpet": [
           {
            "aaxis": {
             "endlinecolor": "#2a3f5f",
             "gridcolor": "white",
             "linecolor": "white",
             "minorgridcolor": "white",
             "startlinecolor": "#2a3f5f"
            },
            "baxis": {
             "endlinecolor": "#2a3f5f",
             "gridcolor": "white",
             "linecolor": "white",
             "minorgridcolor": "white",
             "startlinecolor": "#2a3f5f"
            },
            "type": "carpet"
           }
          ],
          "choropleth": [
           {
            "colorbar": {
             "outlinewidth": 0,
             "ticks": ""
            },
            "type": "choropleth"
           }
          ],
          "contour": [
           {
            "colorbar": {
             "outlinewidth": 0,
             "ticks": ""
            },
            "colorscale": [
             [
              0,
              "#0d0887"
             ],
             [
              0.1111111111111111,
              "#46039f"
             ],
             [
              0.2222222222222222,
              "#7201a8"
             ],
             [
              0.3333333333333333,
              "#9c179e"
             ],
             [
              0.4444444444444444,
              "#bd3786"
             ],
             [
              0.5555555555555556,
              "#d8576b"
             ],
             [
              0.6666666666666666,
              "#ed7953"
             ],
             [
              0.7777777777777778,
              "#fb9f3a"
             ],
             [
              0.8888888888888888,
              "#fdca26"
             ],
             [
              1,
              "#f0f921"
             ]
            ],
            "type": "contour"
           }
          ],
          "contourcarpet": [
           {
            "colorbar": {
             "outlinewidth": 0,
             "ticks": ""
            },
            "type": "contourcarpet"
           }
          ],
          "heatmap": [
           {
            "colorbar": {
             "outlinewidth": 0,
             "ticks": ""
            },
            "colorscale": [
             [
              0,
              "#0d0887"
             ],
             [
              0.1111111111111111,
              "#46039f"
             ],
             [
              0.2222222222222222,
              "#7201a8"
             ],
             [
              0.3333333333333333,
              "#9c179e"
             ],
             [
              0.4444444444444444,
              "#bd3786"
             ],
             [
              0.5555555555555556,
              "#d8576b"
             ],
             [
              0.6666666666666666,
              "#ed7953"
             ],
             [
              0.7777777777777778,
              "#fb9f3a"
             ],
             [
              0.8888888888888888,
              "#fdca26"
             ],
             [
              1,
              "#f0f921"
             ]
            ],
            "type": "heatmap"
           }
          ],
          "heatmapgl": [
           {
            "colorbar": {
             "outlinewidth": 0,
             "ticks": ""
            },
            "colorscale": [
             [
              0,
              "#0d0887"
             ],
             [
              0.1111111111111111,
              "#46039f"
             ],
             [
              0.2222222222222222,
              "#7201a8"
             ],
             [
              0.3333333333333333,
              "#9c179e"
             ],
             [
              0.4444444444444444,
              "#bd3786"
             ],
             [
              0.5555555555555556,
              "#d8576b"
             ],
             [
              0.6666666666666666,
              "#ed7953"
             ],
             [
              0.7777777777777778,
              "#fb9f3a"
             ],
             [
              0.8888888888888888,
              "#fdca26"
             ],
             [
              1,
              "#f0f921"
             ]
            ],
            "type": "heatmapgl"
           }
          ],
          "histogram": [
           {
            "marker": {
             "pattern": {
              "fillmode": "overlay",
              "size": 10,
              "solidity": 0.2
             }
            },
            "type": "histogram"
           }
          ],
          "histogram2d": [
           {
            "colorbar": {
             "outlinewidth": 0,
             "ticks": ""
            },
            "colorscale": [
             [
              0,
              "#0d0887"
             ],
             [
              0.1111111111111111,
              "#46039f"
             ],
             [
              0.2222222222222222,
              "#7201a8"
             ],
             [
              0.3333333333333333,
              "#9c179e"
             ],
             [
              0.4444444444444444,
              "#bd3786"
             ],
             [
              0.5555555555555556,
              "#d8576b"
             ],
             [
              0.6666666666666666,
              "#ed7953"
             ],
             [
              0.7777777777777778,
              "#fb9f3a"
             ],
             [
              0.8888888888888888,
              "#fdca26"
             ],
             [
              1,
              "#f0f921"
             ]
            ],
            "type": "histogram2d"
           }
          ],
          "histogram2dcontour": [
           {
            "colorbar": {
             "outlinewidth": 0,
             "ticks": ""
            },
            "colorscale": [
             [
              0,
              "#0d0887"
             ],
             [
              0.1111111111111111,
              "#46039f"
             ],
             [
              0.2222222222222222,
              "#7201a8"
             ],
             [
              0.3333333333333333,
              "#9c179e"
             ],
             [
              0.4444444444444444,
              "#bd3786"
             ],
             [
              0.5555555555555556,
              "#d8576b"
             ],
             [
              0.6666666666666666,
              "#ed7953"
             ],
             [
              0.7777777777777778,
              "#fb9f3a"
             ],
             [
              0.8888888888888888,
              "#fdca26"
             ],
             [
              1,
              "#f0f921"
             ]
            ],
            "type": "histogram2dcontour"
           }
          ],
          "mesh3d": [
           {
            "colorbar": {
             "outlinewidth": 0,
             "ticks": ""
            },
            "type": "mesh3d"
           }
          ],
          "parcoords": [
           {
            "line": {
             "colorbar": {
              "outlinewidth": 0,
              "ticks": ""
             }
            },
            "type": "parcoords"
           }
          ],
          "pie": [
           {
            "automargin": true,
            "type": "pie"
           }
          ],
          "scatter": [
           {
            "fillpattern": {
             "fillmode": "overlay",
             "size": 10,
             "solidity": 0.2
            },
            "type": "scatter"
           }
          ],
          "scatter3d": [
           {
            "line": {
             "colorbar": {
              "outlinewidth": 0,
              "ticks": ""
             }
            },
            "marker": {
             "colorbar": {
              "outlinewidth": 0,
              "ticks": ""
             }
            },
            "type": "scatter3d"
           }
          ],
          "scattercarpet": [
           {
            "marker": {
             "colorbar": {
              "outlinewidth": 0,
              "ticks": ""
             }
            },
            "type": "scattercarpet"
           }
          ],
          "scattergeo": [
           {
            "marker": {
             "colorbar": {
              "outlinewidth": 0,
              "ticks": ""
             }
            },
            "type": "scattergeo"
           }
          ],
          "scattergl": [
           {
            "marker": {
             "colorbar": {
              "outlinewidth": 0,
              "ticks": ""
             }
            },
            "type": "scattergl"
           }
          ],
          "scattermapbox": [
           {
            "marker": {
             "colorbar": {
              "outlinewidth": 0,
              "ticks": ""
             }
            },
            "type": "scattermapbox"
           }
          ],
          "scatterpolar": [
           {
            "marker": {
             "colorbar": {
              "outlinewidth": 0,
              "ticks": ""
             }
            },
            "type": "scatterpolar"
           }
          ],
          "scatterpolargl": [
           {
            "marker": {
             "colorbar": {
              "outlinewidth": 0,
              "ticks": ""
             }
            },
            "type": "scatterpolargl"
           }
          ],
          "scatterternary": [
           {
            "marker": {
             "colorbar": {
              "outlinewidth": 0,
              "ticks": ""
             }
            },
            "type": "scatterternary"
           }
          ],
          "surface": [
           {
            "colorbar": {
             "outlinewidth": 0,
             "ticks": ""
            },
            "colorscale": [
             [
              0,
              "#0d0887"
             ],
             [
              0.1111111111111111,
              "#46039f"
             ],
             [
              0.2222222222222222,
              "#7201a8"
             ],
             [
              0.3333333333333333,
              "#9c179e"
             ],
             [
              0.4444444444444444,
              "#bd3786"
             ],
             [
              0.5555555555555556,
              "#d8576b"
             ],
             [
              0.6666666666666666,
              "#ed7953"
             ],
             [
              0.7777777777777778,
              "#fb9f3a"
             ],
             [
              0.8888888888888888,
              "#fdca26"
             ],
             [
              1,
              "#f0f921"
             ]
            ],
            "type": "surface"
           }
          ],
          "table": [
           {
            "cells": {
             "fill": {
              "color": "#EBF0F8"
             },
             "line": {
              "color": "white"
             }
            },
            "header": {
             "fill": {
              "color": "#C8D4E3"
             },
             "line": {
              "color": "white"
             }
            },
            "type": "table"
           }
          ]
         },
         "layout": {
          "annotationdefaults": {
           "arrowcolor": "#2a3f5f",
           "arrowhead": 0,
           "arrowwidth": 1
          },
          "autotypenumbers": "strict",
          "coloraxis": {
           "colorbar": {
            "outlinewidth": 0,
            "ticks": ""
           }
          },
          "colorscale": {
           "diverging": [
            [
             0,
             "#8e0152"
            ],
            [
             0.1,
             "#c51b7d"
            ],
            [
             0.2,
             "#de77ae"
            ],
            [
             0.3,
             "#f1b6da"
            ],
            [
             0.4,
             "#fde0ef"
            ],
            [
             0.5,
             "#f7f7f7"
            ],
            [
             0.6,
             "#e6f5d0"
            ],
            [
             0.7,
             "#b8e186"
            ],
            [
             0.8,
             "#7fbc41"
            ],
            [
             0.9,
             "#4d9221"
            ],
            [
             1,
             "#276419"
            ]
           ],
           "sequential": [
            [
             0,
             "#0d0887"
            ],
            [
             0.1111111111111111,
             "#46039f"
            ],
            [
             0.2222222222222222,
             "#7201a8"
            ],
            [
             0.3333333333333333,
             "#9c179e"
            ],
            [
             0.4444444444444444,
             "#bd3786"
            ],
            [
             0.5555555555555556,
             "#d8576b"
            ],
            [
             0.6666666666666666,
             "#ed7953"
            ],
            [
             0.7777777777777778,
             "#fb9f3a"
            ],
            [
             0.8888888888888888,
             "#fdca26"
            ],
            [
             1,
             "#f0f921"
            ]
           ],
           "sequentialminus": [
            [
             0,
             "#0d0887"
            ],
            [
             0.1111111111111111,
             "#46039f"
            ],
            [
             0.2222222222222222,
             "#7201a8"
            ],
            [
             0.3333333333333333,
             "#9c179e"
            ],
            [
             0.4444444444444444,
             "#bd3786"
            ],
            [
             0.5555555555555556,
             "#d8576b"
            ],
            [
             0.6666666666666666,
             "#ed7953"
            ],
            [
             0.7777777777777778,
             "#fb9f3a"
            ],
            [
             0.8888888888888888,
             "#fdca26"
            ],
            [
             1,
             "#f0f921"
            ]
           ]
          },
          "colorway": [
           "#636efa",
           "#EF553B",
           "#00cc96",
           "#ab63fa",
           "#FFA15A",
           "#19d3f3",
           "#FF6692",
           "#B6E880",
           "#FF97FF",
           "#FECB52"
          ],
          "font": {
           "color": "#2a3f5f"
          },
          "geo": {
           "bgcolor": "white",
           "lakecolor": "white",
           "landcolor": "#E5ECF6",
           "showlakes": true,
           "showland": true,
           "subunitcolor": "white"
          },
          "hoverlabel": {
           "align": "left"
          },
          "hovermode": "closest",
          "mapbox": {
           "style": "light"
          },
          "paper_bgcolor": "white",
          "plot_bgcolor": "#E5ECF6",
          "polar": {
           "angularaxis": {
            "gridcolor": "white",
            "linecolor": "white",
            "ticks": ""
           },
           "bgcolor": "#E5ECF6",
           "radialaxis": {
            "gridcolor": "white",
            "linecolor": "white",
            "ticks": ""
           }
          },
          "scene": {
           "xaxis": {
            "backgroundcolor": "#E5ECF6",
            "gridcolor": "white",
            "gridwidth": 2,
            "linecolor": "white",
            "showbackground": true,
            "ticks": "",
            "zerolinecolor": "white"
           },
           "yaxis": {
            "backgroundcolor": "#E5ECF6",
            "gridcolor": "white",
            "gridwidth": 2,
            "linecolor": "white",
            "showbackground": true,
            "ticks": "",
            "zerolinecolor": "white"
           },
           "zaxis": {
            "backgroundcolor": "#E5ECF6",
            "gridcolor": "white",
            "gridwidth": 2,
            "linecolor": "white",
            "showbackground": true,
            "ticks": "",
            "zerolinecolor": "white"
           }
          },
          "shapedefaults": {
           "line": {
            "color": "#2a3f5f"
           }
          },
          "ternary": {
           "aaxis": {
            "gridcolor": "white",
            "linecolor": "white",
            "ticks": ""
           },
           "baxis": {
            "gridcolor": "white",
            "linecolor": "white",
            "ticks": ""
           },
           "bgcolor": "#E5ECF6",
           "caxis": {
            "gridcolor": "white",
            "linecolor": "white",
            "ticks": ""
           }
          },
          "title": {
           "x": 0.05
          },
          "xaxis": {
           "automargin": true,
           "gridcolor": "white",
           "linecolor": "white",
           "ticks": "",
           "title": {
            "standoff": 15
           },
           "zerolinecolor": "white",
           "zerolinewidth": 2
          },
          "yaxis": {
           "automargin": true,
           "gridcolor": "white",
           "linecolor": "white",
           "ticks": "",
           "title": {
            "standoff": 15
           },
           "zerolinecolor": "white",
           "zerolinewidth": 2
          }
         }
        },
        "title": {
         "font": {
          "size": 24
         },
         "text": "label=0.50(index=6)",
         "x": 0.5,
         "y": 0.95
        },
        "width": 1100
       }
      },
      "text/html": [
       "<div>                            <div id=\"216bff8d-cab2-4b14-a2c6-946447ad6e90\" class=\"plotly-graph-div\" style=\"height:700px; width:1100px;\"></div>            <script type=\"text/javascript\">                require([\"plotly\"], function(Plotly) {                    window.PLOTLYENV=window.PLOTLYENV || {};                                    if (document.getElementById(\"216bff8d-cab2-4b14-a2c6-946447ad6e90\")) {                    Plotly.newPlot(                        \"216bff8d-cab2-4b14-a2c6-946447ad6e90\",                        [{\"hovertemplate\":\"0=%{x}\\u003cbr\\u003e1=%{y}\\u003cbr\\u003e2=%{z}\\u003cextra\\u003e\\u003c\\u002fextra\\u003e\",\"legendgroup\":\"\",\"marker\":{\"color\":\"#636efa\",\"size\":2,\"symbol\":\"circle\"},\"mode\":\"markers\",\"name\":\"\",\"scene\":\"scene\",\"showlegend\":false,\"x\":[0.0009467444033361971,0.03048308938741684,0.038111377507448196,-0.026929356157779694,0.055118389427661896,-0.18167676031589508,0.013061340898275375,0.006237279623746872,-0.010264468379318714,-0.030040442943572998,-0.0066192299127578735,-0.029315199702978134,-0.02632623352110386,0.02070113830268383,-0.019762523472309113,-0.014881672337651253,-0.009605816565454006,0.0018949277000501752,-0.10081928223371506,-0.033765897154808044,-0.023019539192318916,0.06423298269510269,0.012738890014588833,-0.019086794927716255,-0.0443740040063858,-0.03250546753406525,-0.09774459898471832,-0.0007116057677194476,-0.08221051841974258,-0.06328681856393814,0.012881409376859665,0.09126041829586029,0.06369929015636444,-0.0462489128112793,-0.0860135555267334,-0.006647334899753332,0.100753553211689,0.039934419095516205,-0.017048435285687447,0.05509825423359871,-0.02682442031800747,0.01597151905298233,0.008841502480208874,-0.03768717125058174,-0.0148789556697011,0.04001561179757118,0.015235058963298798,-0.05227147415280342,-0.10131475329399109,-0.03524389863014221,-0.02748938463628292,0.028118275105953217,-0.028636975213885307,-0.017608795315027237,-0.012645254842936993,-0.023370441049337387,0.03872457891702652,0.03792847320437431,0.007150989957153797,-0.07451401650905609,-0.019560784101486206],\"y\":[0.09975125640630722,0.06959009915590286,-0.00970821175724268,-0.05785740911960602,-0.012739486992359161,-0.030475085601210594,-0.016814986243844032,0.016176296398043633,0.015585852786898613,0.05235617235302925,0.009404374286532402,0.0759396031498909,0.004068737383931875,0.0029560942202806473,-0.1370236724615097,0.011042054742574692,0.007685799151659012,0.009507166221737862,-0.006679510697722435,0.016026223078370094,0.04436905309557915,-0.11557960510253906,-0.05249828100204468,-0.059020958840847015,-0.02875945344567299,0.02944924868643284,0.028940554708242416,0.06821193546056747,-0.030582131817936897,-0.007748957723379135,0.017901001498103142,-0.0016551967710256577,-0.070363849401474,-0.08659631758928299,-0.05968117341399193,-0.039425063878297806,-0.019407618790864944,0.10942480713129044,0.03148409724235535,-0.13538606464862823,-0.05443917587399483,0.030742282047867775,0.03772030770778656,-0.007972653023898602,0.07548961043357849,-0.08773985505104065,0.021567238494753838,0.03656376153230667,0.03934429958462715,-0.047774143517017365,0.026822907850146294,-0.030890487134456635,0.043678950518369675,0.03960184007883072,0.0402708500623703,-0.04460805654525757,0.03437730297446251,-0.004835994448512793,-0.036896828562021255,-0.041237395256757736,-0.061241284012794495],\"z\":[-0.026929356157779694,0.055118389427661896,-0.18167676031589508,0.013061340898275375,0.006237279623746872,-0.010264468379318714,-0.030040442943572998,-0.0066192299127578735,-0.029315199702978134,-0.02632623352110386,0.02070113830268383,-0.019762523472309113,-0.014881672337651253,-0.009605816565454006,0.0018949277000501752,-0.10081928223371506,-0.033765897154808044,-0.023019539192318916,0.06423298269510269,0.012738890014588833,-0.019086794927716255,-0.0443740040063858,-0.03250546753406525,-0.09774459898471832,-0.0007116057677194476,-0.08221051841974258,-0.06328681856393814,0.012881409376859665,0.09126041829586029,0.06369929015636444,-0.0462489128112793,-0.0860135555267334,-0.006647334899753332,0.100753553211689,0.039934419095516205,-0.017048435285687447,0.05509825423359871,-0.02682442031800747,0.01597151905298233,0.008841502480208874,-0.03768717125058174,-0.0148789556697011,0.04001561179757118,0.015235058963298798,-0.05227147415280342,-0.10131475329399109,-0.03524389863014221,-0.02748938463628292,0.028118275105953217,-0.028636975213885307,-0.017608795315027237,-0.012645254842936993,-0.023370441049337387,0.03872457891702652,0.03792847320437431,0.007150989957153797,-0.07451401650905609,-0.019560784101486206,0.006487422157078981,0.0289311520755291,0.043309010565280914],\"type\":\"scatter3d\"},{\"hovertemplate\":\"0=%{x}\\u003cbr\\u003e1=%{y}\\u003cbr\\u003e2=%{z}\\u003cextra\\u003e\\u003c\\u002fextra\\u003e\",\"legendgroup\":\"\",\"marker\":{\"color\":\"#636efa\",\"size\":2,\"symbol\":\"circle\"},\"mode\":\"markers\",\"name\":\"\",\"scene\":\"scene2\",\"showlegend\":false,\"x\":[-0.031543709337711334,0.049366120249032974,0.10665025562047958,0.020178379490971565,0.10188530385494232,-0.1342897117137909,-0.01094984170049429,-0.07890859991312027,-0.026030194014310837,-0.05623806267976761,-0.04486876353621483,0.02203143760561943,-0.05883109197020531,-0.05435878783464432,0.06169749051332474,0.07003628462553024,-0.04003274440765381,0.04991122707724571,0.0062954360619187355,0.018449213355779648,-0.013701875694096088,0.016955148428678513,0.04472316801548004,0.05937318131327629,-0.012987303547561169,-0.15531976521015167,0.037746503949165344,-0.01198816392570734,-0.06545737385749817,0.021587885916233063,0.05071185156702995,0.02810254879295826,-0.013187572360038757,-0.00329593732021749,0.006412691902369261,0.09334079921245575,0.09934177249670029,0.05470965430140495,-0.05942295864224434,0.005124229472130537,0.016969231888651848,0.007921338081359863,-0.0027502686716616154,0.07570961862802505,-0.04690540209412575,0.05864870548248291,-0.049707017838954926,0.06534676998853683,-0.017611447721719742,0.005384306889027357,-0.015534428879618645,-0.00367932440713048,0.00906618032604456,-0.04638424888253212,-0.027452895417809486,-0.0175213310867548,-0.023895014077425003,0.0012274777982383966,0.038991011679172516,-0.03868478909134865,0.029682962223887444],\"y\":[0.02019418030977249,0.03143556788563728,0.01313874777406454,0.056219879537820816,-0.08390214294195175,0.03561427816748619,-0.10375577956438065,0.028771622106432915,-0.013312178663909435,-0.004863881506025791,-0.017855806276202202,0.03706289455294609,0.05115621164441109,-0.023393336683511734,-0.07602117210626602,-0.010083800181746483,-0.004465908743441105,-0.05653642117977142,-0.0017212777165696025,0.007739342749118805,0.06948709487915039,-0.037432100623846054,-0.04787280410528183,-0.044216055423021317,-0.04142727330327034,-0.029856674373149872,0.00023267260985448956,0.005756129510700703,0.010139440186321735,-0.08611360937356949,-0.0763043761253357,0.000490706879645586,-0.09461458772420883,-0.03853432461619377,-0.06465580314397812,-0.1152230054140091,0.003503550309687853,0.03909008949995041,-0.03598512336611748,-0.04781727120280266,-0.011381199583411217,-0.03122726082801819,0.07003360986709595,-0.03526611253619194,0.0744246393442154,-0.03426818549633026,0.027218256145715714,0.04465101286768913,0.07437001168727875,-0.07536928355693817,0.025975683704018593,-0.030521603301167488,-0.012289841659367085,0.016092725098133087,-0.009143396280705929,-0.04615551978349686,0.07091598212718964,0.06825412809848785,-0.004834249150007963,-0.05683854594826698,-0.020271293818950653],\"z\":[0.020178379490971565,0.10188530385494232,-0.1342897117137909,-0.01094984170049429,-0.07890859991312027,-0.026030194014310837,-0.05623806267976761,-0.04486876353621483,0.02203143760561943,-0.05883109197020531,-0.05435878783464432,0.06169749051332474,0.07003628462553024,-0.04003274440765381,0.04991122707724571,0.0062954360619187355,0.018449213355779648,-0.013701875694096088,0.016955148428678513,0.04472316801548004,0.05937318131327629,-0.012987303547561169,-0.15531976521015167,0.037746503949165344,-0.01198816392570734,-0.06545737385749817,0.021587885916233063,0.05071185156702995,0.02810254879295826,-0.013187572360038757,-0.00329593732021749,0.006412691902369261,0.09334079921245575,0.09934177249670029,0.05470965430140495,-0.05942295864224434,0.005124229472130537,0.016969231888651848,0.007921338081359863,-0.0027502686716616154,0.07570961862802505,-0.04690540209412575,0.05864870548248291,-0.049707017838954926,0.06534676998853683,-0.017611447721719742,0.005384306889027357,-0.015534428879618645,-0.00367932440713048,0.00906618032604456,-0.04638424888253212,-0.027452895417809486,-0.0175213310867548,-0.023895014077425003,0.0012274777982383966,0.038991011679172516,-0.03868478909134865,0.029682962223887444,-0.01203404925763607,-0.0190983135253191,0.016230234876275063],\"type\":\"scatter3d\"}],                        {\"template\":{\"data\":{\"histogram2dcontour\":[{\"type\":\"histogram2dcontour\",\"colorbar\":{\"outlinewidth\":0,\"ticks\":\"\"},\"colorscale\":[[0.0,\"#0d0887\"],[0.1111111111111111,\"#46039f\"],[0.2222222222222222,\"#7201a8\"],[0.3333333333333333,\"#9c179e\"],[0.4444444444444444,\"#bd3786\"],[0.5555555555555556,\"#d8576b\"],[0.6666666666666666,\"#ed7953\"],[0.7777777777777778,\"#fb9f3a\"],[0.8888888888888888,\"#fdca26\"],[1.0,\"#f0f921\"]]}],\"choropleth\":[{\"type\":\"choropleth\",\"colorbar\":{\"outlinewidth\":0,\"ticks\":\"\"}}],\"histogram2d\":[{\"type\":\"histogram2d\",\"colorbar\":{\"outlinewidth\":0,\"ticks\":\"\"},\"colorscale\":[[0.0,\"#0d0887\"],[0.1111111111111111,\"#46039f\"],[0.2222222222222222,\"#7201a8\"],[0.3333333333333333,\"#9c179e\"],[0.4444444444444444,\"#bd3786\"],[0.5555555555555556,\"#d8576b\"],[0.6666666666666666,\"#ed7953\"],[0.7777777777777778,\"#fb9f3a\"],[0.8888888888888888,\"#fdca26\"],[1.0,\"#f0f921\"]]}],\"heatmap\":[{\"type\":\"heatmap\",\"colorbar\":{\"outlinewidth\":0,\"ticks\":\"\"},\"colorscale\":[[0.0,\"#0d0887\"],[0.1111111111111111,\"#46039f\"],[0.2222222222222222,\"#7201a8\"],[0.3333333333333333,\"#9c179e\"],[0.4444444444444444,\"#bd3786\"],[0.5555555555555556,\"#d8576b\"],[0.6666666666666666,\"#ed7953\"],[0.7777777777777778,\"#fb9f3a\"],[0.8888888888888888,\"#fdca26\"],[1.0,\"#f0f921\"]]}],\"heatmapgl\":[{\"type\":\"heatmapgl\",\"colorbar\":{\"outlinewidth\":0,\"ticks\":\"\"},\"colorscale\":[[0.0,\"#0d0887\"],[0.1111111111111111,\"#46039f\"],[0.2222222222222222,\"#7201a8\"],[0.3333333333333333,\"#9c179e\"],[0.4444444444444444,\"#bd3786\"],[0.5555555555555556,\"#d8576b\"],[0.6666666666666666,\"#ed7953\"],[0.7777777777777778,\"#fb9f3a\"],[0.8888888888888888,\"#fdca26\"],[1.0,\"#f0f921\"]]}],\"contourcarpet\":[{\"type\":\"contourcarpet\",\"colorbar\":{\"outlinewidth\":0,\"ticks\":\"\"}}],\"contour\":[{\"type\":\"contour\",\"colorbar\":{\"outlinewidth\":0,\"ticks\":\"\"},\"colorscale\":[[0.0,\"#0d0887\"],[0.1111111111111111,\"#46039f\"],[0.2222222222222222,\"#7201a8\"],[0.3333333333333333,\"#9c179e\"],[0.4444444444444444,\"#bd3786\"],[0.5555555555555556,\"#d8576b\"],[0.6666666666666666,\"#ed7953\"],[0.7777777777777778,\"#fb9f3a\"],[0.8888888888888888,\"#fdca26\"],[1.0,\"#f0f921\"]]}],\"surface\":[{\"type\":\"surface\",\"colorbar\":{\"outlinewidth\":0,\"ticks\":\"\"},\"colorscale\":[[0.0,\"#0d0887\"],[0.1111111111111111,\"#46039f\"],[0.2222222222222222,\"#7201a8\"],[0.3333333333333333,\"#9c179e\"],[0.4444444444444444,\"#bd3786\"],[0.5555555555555556,\"#d8576b\"],[0.6666666666666666,\"#ed7953\"],[0.7777777777777778,\"#fb9f3a\"],[0.8888888888888888,\"#fdca26\"],[1.0,\"#f0f921\"]]}],\"mesh3d\":[{\"type\":\"mesh3d\",\"colorbar\":{\"outlinewidth\":0,\"ticks\":\"\"}}],\"scatter\":[{\"fillpattern\":{\"fillmode\":\"overlay\",\"size\":10,\"solidity\":0.2},\"type\":\"scatter\"}],\"parcoords\":[{\"type\":\"parcoords\",\"line\":{\"colorbar\":{\"outlinewidth\":0,\"ticks\":\"\"}}}],\"scatterpolargl\":[{\"type\":\"scatterpolargl\",\"marker\":{\"colorbar\":{\"outlinewidth\":0,\"ticks\":\"\"}}}],\"bar\":[{\"error_x\":{\"color\":\"#2a3f5f\"},\"error_y\":{\"color\":\"#2a3f5f\"},\"marker\":{\"line\":{\"color\":\"#E5ECF6\",\"width\":0.5},\"pattern\":{\"fillmode\":\"overlay\",\"size\":10,\"solidity\":0.2}},\"type\":\"bar\"}],\"scattergeo\":[{\"type\":\"scattergeo\",\"marker\":{\"colorbar\":{\"outlinewidth\":0,\"ticks\":\"\"}}}],\"scatterpolar\":[{\"type\":\"scatterpolar\",\"marker\":{\"colorbar\":{\"outlinewidth\":0,\"ticks\":\"\"}}}],\"histogram\":[{\"marker\":{\"pattern\":{\"fillmode\":\"overlay\",\"size\":10,\"solidity\":0.2}},\"type\":\"histogram\"}],\"scattergl\":[{\"type\":\"scattergl\",\"marker\":{\"colorbar\":{\"outlinewidth\":0,\"ticks\":\"\"}}}],\"scatter3d\":[{\"type\":\"scatter3d\",\"line\":{\"colorbar\":{\"outlinewidth\":0,\"ticks\":\"\"}},\"marker\":{\"colorbar\":{\"outlinewidth\":0,\"ticks\":\"\"}}}],\"scattermapbox\":[{\"type\":\"scattermapbox\",\"marker\":{\"colorbar\":{\"outlinewidth\":0,\"ticks\":\"\"}}}],\"scatterternary\":[{\"type\":\"scatterternary\",\"marker\":{\"colorbar\":{\"outlinewidth\":0,\"ticks\":\"\"}}}],\"scattercarpet\":[{\"type\":\"scattercarpet\",\"marker\":{\"colorbar\":{\"outlinewidth\":0,\"ticks\":\"\"}}}],\"carpet\":[{\"aaxis\":{\"endlinecolor\":\"#2a3f5f\",\"gridcolor\":\"white\",\"linecolor\":\"white\",\"minorgridcolor\":\"white\",\"startlinecolor\":\"#2a3f5f\"},\"baxis\":{\"endlinecolor\":\"#2a3f5f\",\"gridcolor\":\"white\",\"linecolor\":\"white\",\"minorgridcolor\":\"white\",\"startlinecolor\":\"#2a3f5f\"},\"type\":\"carpet\"}],\"table\":[{\"cells\":{\"fill\":{\"color\":\"#EBF0F8\"},\"line\":{\"color\":\"white\"}},\"header\":{\"fill\":{\"color\":\"#C8D4E3\"},\"line\":{\"color\":\"white\"}},\"type\":\"table\"}],\"barpolar\":[{\"marker\":{\"line\":{\"color\":\"#E5ECF6\",\"width\":0.5},\"pattern\":{\"fillmode\":\"overlay\",\"size\":10,\"solidity\":0.2}},\"type\":\"barpolar\"}],\"pie\":[{\"automargin\":true,\"type\":\"pie\"}]},\"layout\":{\"autotypenumbers\":\"strict\",\"colorway\":[\"#636efa\",\"#EF553B\",\"#00cc96\",\"#ab63fa\",\"#FFA15A\",\"#19d3f3\",\"#FF6692\",\"#B6E880\",\"#FF97FF\",\"#FECB52\"],\"font\":{\"color\":\"#2a3f5f\"},\"hovermode\":\"closest\",\"hoverlabel\":{\"align\":\"left\"},\"paper_bgcolor\":\"white\",\"plot_bgcolor\":\"#E5ECF6\",\"polar\":{\"bgcolor\":\"#E5ECF6\",\"angularaxis\":{\"gridcolor\":\"white\",\"linecolor\":\"white\",\"ticks\":\"\"},\"radialaxis\":{\"gridcolor\":\"white\",\"linecolor\":\"white\",\"ticks\":\"\"}},\"ternary\":{\"bgcolor\":\"#E5ECF6\",\"aaxis\":{\"gridcolor\":\"white\",\"linecolor\":\"white\",\"ticks\":\"\"},\"baxis\":{\"gridcolor\":\"white\",\"linecolor\":\"white\",\"ticks\":\"\"},\"caxis\":{\"gridcolor\":\"white\",\"linecolor\":\"white\",\"ticks\":\"\"}},\"coloraxis\":{\"colorbar\":{\"outlinewidth\":0,\"ticks\":\"\"}},\"colorscale\":{\"sequential\":[[0.0,\"#0d0887\"],[0.1111111111111111,\"#46039f\"],[0.2222222222222222,\"#7201a8\"],[0.3333333333333333,\"#9c179e\"],[0.4444444444444444,\"#bd3786\"],[0.5555555555555556,\"#d8576b\"],[0.6666666666666666,\"#ed7953\"],[0.7777777777777778,\"#fb9f3a\"],[0.8888888888888888,\"#fdca26\"],[1.0,\"#f0f921\"]],\"sequentialminus\":[[0.0,\"#0d0887\"],[0.1111111111111111,\"#46039f\"],[0.2222222222222222,\"#7201a8\"],[0.3333333333333333,\"#9c179e\"],[0.4444444444444444,\"#bd3786\"],[0.5555555555555556,\"#d8576b\"],[0.6666666666666666,\"#ed7953\"],[0.7777777777777778,\"#fb9f3a\"],[0.8888888888888888,\"#fdca26\"],[1.0,\"#f0f921\"]],\"diverging\":[[0,\"#8e0152\"],[0.1,\"#c51b7d\"],[0.2,\"#de77ae\"],[0.3,\"#f1b6da\"],[0.4,\"#fde0ef\"],[0.5,\"#f7f7f7\"],[0.6,\"#e6f5d0\"],[0.7,\"#b8e186\"],[0.8,\"#7fbc41\"],[0.9,\"#4d9221\"],[1,\"#276419\"]]},\"xaxis\":{\"gridcolor\":\"white\",\"linecolor\":\"white\",\"ticks\":\"\",\"title\":{\"standoff\":15},\"zerolinecolor\":\"white\",\"automargin\":true,\"zerolinewidth\":2},\"yaxis\":{\"gridcolor\":\"white\",\"linecolor\":\"white\",\"ticks\":\"\",\"title\":{\"standoff\":15},\"zerolinecolor\":\"white\",\"automargin\":true,\"zerolinewidth\":2},\"scene\":{\"xaxis\":{\"backgroundcolor\":\"#E5ECF6\",\"gridcolor\":\"white\",\"linecolor\":\"white\",\"showbackground\":true,\"ticks\":\"\",\"zerolinecolor\":\"white\",\"gridwidth\":2},\"yaxis\":{\"backgroundcolor\":\"#E5ECF6\",\"gridcolor\":\"white\",\"linecolor\":\"white\",\"showbackground\":true,\"ticks\":\"\",\"zerolinecolor\":\"white\",\"gridwidth\":2},\"zaxis\":{\"backgroundcolor\":\"#E5ECF6\",\"gridcolor\":\"white\",\"linecolor\":\"white\",\"showbackground\":true,\"ticks\":\"\",\"zerolinecolor\":\"white\",\"gridwidth\":2}},\"shapedefaults\":{\"line\":{\"color\":\"#2a3f5f\"}},\"annotationdefaults\":{\"arrowcolor\":\"#2a3f5f\",\"arrowhead\":0,\"arrowwidth\":1},\"geo\":{\"bgcolor\":\"white\",\"landcolor\":\"#E5ECF6\",\"subunitcolor\":\"white\",\"showland\":true,\"showlakes\":true,\"lakecolor\":\"white\"},\"title\":{\"x\":0.05},\"mapbox\":{\"style\":\"light\"}}},\"scene\":{\"domain\":{\"x\":[0.0,0.49],\"y\":[0.0,1.0]}},\"scene2\":{\"domain\":{\"x\":[0.51,1.0],\"y\":[0.0,1.0]}},\"width\":1100,\"height\":700,\"title\":{\"font\":{\"size\":24},\"text\":\"label=0.50(index=6)\",\"x\":0.5,\"y\":0.95},\"annotations\":[{\"font\":{\"size\":18},\"showarrow\":false,\"text\":\"A man is smoking.\",\"x\":0.1,\"xref\":\"paper\",\"y\":1.0,\"yref\":\"paper\"},{\"font\":{\"size\":18},\"showarrow\":false,\"text\":\"A man is skating.\",\"x\":0.9,\"xref\":\"paper\",\"y\":1.0,\"yref\":\"paper\"}]},                        {\"responsive\": true}                    ).then(function(){\n",
       "                            \n",
       "var gd = document.getElementById('216bff8d-cab2-4b14-a2c6-946447ad6e90');\n",
       "var x = new MutationObserver(function (mutations, observer) {{\n",
       "        var display = window.getComputedStyle(gd).display;\n",
       "        if (!display || display === 'none') {{\n",
       "            console.log([gd, 'removed!']);\n",
       "            Plotly.purge(gd);\n",
       "            observer.disconnect();\n",
       "        }}\n",
       "}});\n",
       "\n",
       "// Listen for the removal of the full notebook cells\n",
       "var notebookContainer = gd.closest('#notebook-container');\n",
       "if (notebookContainer) {{\n",
       "    x.observe(notebookContainer, {childList: true});\n",
       "}}\n",
       "\n",
       "// Listen for the clearing of the current output cell\n",
       "var outputEl = gd.closest('.output');\n",
       "if (outputEl) {{\n",
       "    x.observe(outputEl, {childList: true});\n",
       "}}\n",
       "\n",
       "                        })                };                });            </script>        </div>"
      ]
     },
     "metadata": {},
     "output_type": "display_data"
    },
    {
     "name": "stderr",
     "output_type": "stream",
     "text": [
      "/tmp/ipykernel_1482003/3944099178.py:56: UserWarning:\n",
      "\n",
      "FigureCanvasAgg is non-interactive, and thus cannot be shown\n",
      "\n"
     ]
    },
    {
     "data": {
      "image/png": "[encoded data removed]",
      "text/plain": [
       "<Figure size 800x400 with 2 Axes>"
      ]
     },
     "metadata": {},
     "output_type": "display_data"
    }
   ],
   "source": [
    "generatePdFigure(6, 20)"
   ]
  },
  {
   "cell_type": "code",
   "execution_count": 46,
   "id": "00308626-9cdf-44a5-aec3-64658135d518",
   "metadata": {},
   "outputs": [
    {
     "name": "stdout",
     "output_type": "stream",
     "text": [
      "2024-09-03 16:08:35,841] MainProcess(1482003).MainThread(139852985743168) 2459079984.get_pd(2) INFO -> fvecs=(61, 3)\n",
      "pdlist=PDList(path=None)\n",
      "birth death=(119, 2)\n",
      "index1=7, index2=27\n",
      "2024-09-03 16:08:35,852] MainProcess(1482003).MainThread(139852985743168) 2459079984.get_pd(2) INFO -> fvecs=(61, 3)\n",
      "pdlist=PDList(path=None)\n",
      "birth death=(99, 2)\n"
     ]
    },
    {
     "data": {
      "application/vnd.plotly.v1+json": {
       "config": {
        "plotlyServerURL": "https://plot.ly"
       },
       "data": [
        {
         "hovertemplate": "0=%{x}<br>1=%{y}<br>2=%{z}<extra></extra>",
         "legendgroup": "",
         "marker": {
          "color": "#636efa",
          "size": 2,
          "symbol": "circle"
         },
         "mode": "markers",
         "name": "",
         "scene": "scene",
         "showlegend": false,
         "type": "scatter3d",
         "x": [
          0.04082411155104637,
          0.04237905889749527,
          -0.0332220159471035,
          -0.07716939598321915,
          0.04948258399963379,
          -0.04100506007671356,
          -0.026528790593147278,
          -0.10270175337791443,
          0.00637199729681015,
          -0.006414168514311314,
          0.050521623343229294,
          -0.02717631123960018,
          -0.033012717962265015,
          -0.07273055613040924,
          -0.016476549208164215,
          0.03521858528256416,
          0.01784151792526245,
          0.055349159985780716,
          0.04324205964803696,
          0.11848516017198563,
          0.019400103017687798,
          -0.08980773389339447,
          -0.01482759416103363,
          0.10857360810041428,
          -0.09596045315265656,
          -0.03851558640599251,
          -0.029066750779747963,
          0.027088550850749016,
          -0.08864957839250565,
          0.014757790602743626,
          -0.0318572111427784,
          0.1126205176115036,
          0.005431187804788351,
          -0.06278655678033829,
          0.04044115170836449,
          0.0059776087291538715,
          0.030831919983029366,
          -0.017258446663618088,
          0.06529276072978973,
          0.0031256726942956448,
          0.0030330177396535873,
          0.0009214787278324366,
          -0.0727776437997818,
          0.03386441618204117,
          0.0650143101811409,
          -0.07790961116552353,
          0.013226194307208061,
          0.03496536239981651,
          0.06145002320408821,
          0.003032107139006257,
          -0.09389849752187729,
          -0.0021701741497963667,
          -0.012042793445289135,
          -0.016842009499669075,
          -0.04353177174925804,
          0.020059941336512566,
          -0.015064049512147903,
          0.07380422949790955,
          -0.01238219067454338,
          -0.033934272825717926,
          -0.018774181604385376
         ],
         "y": [
          0.026759056374430656,
          0.02953885868191719,
          0.02885260432958603,
          0.020005008205771446,
          -0.03906905651092529,
          -0.0017662671161815524,
          -0.0442744642496109,
          0.07351479679346085,
          0.05297917127609253,
          -0.012159495614469051,
          0.02603081427514553,
          0.017442800104618073,
          -0.039020001888275146,
          -0.01460026390850544,
          -0.0018181763589382172,
          -0.02697567455470562,
          0.039416052401065826,
          0.03280549496412277,
          -0.018675455823540688,
          -0.00970895029604435,
          0.06742586195468903,
          0.0010941631626337767,
          -0.0202520489692688,
          -0.030102184042334557,
          -0.06951337307691574,
          -0.09173621237277985,
          -0.04057860001921654,
          0.05181080102920532,
          0.02998565509915352,
          0.11142434179782867,
          -0.039084602147340775,
          0.03394949436187744,
          -0.024056654423475266,
          -0.1392706334590912,
          -0.05080839619040489,
          -0.007478109560906887,
          0.002481460804119706,
          0.0799526572227478,
          0.05837923288345337,
          -0.0424722321331501,
          0.02450881339609623,
          -0.04967770725488663,
          0.05784410238265991,
          0.02513751946389675,
          -0.02747163735330105,
          -0.02145606465637684,
          0.07889726758003235,
          0.09375473856925964,
          0.029640035703778267,
          -0.0753776803612709,
          0.01347590796649456,
          0.06705556809902191,
          0.007102443370968103,
          0.01622811332345009,
          -0.023677347227931023,
          0.021362638100981712,
          -0.026591157540678978,
          -0.028324531391263008,
          -0.0804215520620346,
          -0.0021804790012538433,
          0.04574402794241905
         ],
         "z": [
          -0.07716939598321915,
          0.04948258399963379,
          -0.04100506007671356,
          -0.026528790593147278,
          -0.10270175337791443,
          0.00637199729681015,
          -0.006414168514311314,
          0.050521623343229294,
          -0.02717631123960018,
          -0.033012717962265015,
          -0.07273055613040924,
          -0.016476549208164215,
          0.03521858528256416,
          0.01784151792526245,
          0.055349159985780716,
          0.04324205964803696,
          0.11848516017198563,
          0.019400103017687798,
          -0.08980773389339447,
          -0.01482759416103363,
          0.10857360810041428,
          -0.09596045315265656,
          -0.03851558640599251,
          -0.029066750779747963,
          0.027088550850749016,
          -0.08864957839250565,
          0.014757790602743626,
          -0.0318572111427784,
          0.1126205176115036,
          0.005431187804788351,
          -0.06278655678033829,
          0.04044115170836449,
          0.0059776087291538715,
          0.030831919983029366,
          -0.017258446663618088,
          0.06529276072978973,
          0.0031256726942956448,
          0.0030330177396535873,
          0.0009214787278324366,
          -0.0727776437997818,
          0.03386441618204117,
          0.0650143101811409,
          -0.07790961116552353,
          0.013226194307208061,
          0.03496536239981651,
          0.06145002320408821,
          0.003032107139006257,
          -0.09389849752187729,
          -0.0021701741497963667,
          -0.012042793445289135,
          -0.016842009499669075,
          -0.04353177174925804,
          0.020059941336512566,
          -0.015064049512147903,
          0.07380422949790955,
          -0.01238219067454338,
          -0.033934272825717926,
          -0.018774181604385376,
          -0.055628493428230286,
          0.0344153456389904,
          0.0053750211372971535
         ]
        },
        {
         "hovertemplate": "0=%{x}<br>1=%{y}<br>2=%{z}<extra></extra>",
         "legendgroup": "",
         "marker": {
          "color": "#636efa",
          "size": 2,
          "symbol": "circle"
         },
         "mode": "markers",
         "name": "",
         "scene": "scene2",
         "showlegend": false,
         "type": "scatter3d",
         "x": [
          0.0013887755339965224,
          0.025396928191184998,
          0.03594566881656647,
          -0.054201457649469376,
          -5.843042163178325e-05,
          -0.031777992844581604,
          -0.026773368939757347,
          -0.005799149628728628,
          -0.06304176151752472,
          -0.044371671974658966,
          -0.04668382555246353,
          -0.07041941583156586,
          0.012072185985744,
          -0.07289723306894302,
          0.006741737015545368,
          -0.003997462335973978,
          -0.08212485909461975,
          0.11425598710775375,
          0.029554300010204315,
          0.05838196724653244,
          0.08107292652130127,
          -0.07921452820301056,
          0.03119123913347721,
          0.05388781800866127,
          -0.04988783225417137,
          -0.026632830500602722,
          -0.02631192095577717,
          0.016191527247428894,
          -0.09030374139547348,
          -0.058594752103090286,
          -0.020317580550909042,
          0.05106401816010475,
          -0.012515767477452755,
          0.02187904715538025,
          -0.005183630157262087,
          0.03712466359138489,
          0.010743213817477226,
          0.031270354986190796,
          -0.05604197084903717,
          0.009156245738267899,
          0.0013616277137771249,
          -0.04635999724268913,
          -0.11549151688814163,
          0.058533746749162674,
          0.039647649973630905,
          0.020756691694259644,
          -0.0107874209061265,
          -0.05629291012883186,
          -0.03712553158402443,
          -0.014613882638514042,
          -0.046233952045440674,
          0.00844271294772625,
          0.006650120485574007,
          -0.04795221611857414,
          -0.0002580338332336396,
          -0.010203543119132519,
          0.024743089452385902,
          0.0776788517832756,
          -0.010654039680957794,
          -0.013868561014533043,
          -0.001082642120309174
         ],
         "y": [
          0.0493902787566185,
          0.09439609944820404,
          -0.0035458679776638746,
          -0.003996568266302347,
          -0.015264376066625118,
          -0.016122767701745033,
          0.004611538723111153,
          -0.019772691652178764,
          0.010557320900261402,
          -0.04539679363369942,
          0.08258098363876343,
          0.0894884318113327,
          0.031203681603074074,
          -0.045122504234313965,
          -0.059754177927970886,
          0.017593132331967354,
          0.02791009470820427,
          0.011195462197065353,
          0.016625599935650826,
          0.03304751589894295,
          -0.0646783635020256,
          0.04988042265176773,
          -0.004910239018499851,
          0.023090168833732605,
          -0.03758059814572334,
          -0.039841439574956894,
          -0.010001604445278645,
          0.04503612220287323,
          -0.032900121062994,
          -0.04472886398434639,
          0.07542038708925247,
          0.06934083253145218,
          -0.05463865399360657,
          -0.05140496790409088,
          -0.047333069145679474,
          0.003290562191978097,
          0.061971504241228104,
          0.10087713599205017,
          0.07268853485584259,
          0.017891868948936462,
          0.0068242899142205715,
          0.060206130146980286,
          0.004033145494759083,
          0.00017604473396204412,
          -0.020097754895687103,
          -0.050187427550554276,
          0.015134438872337341,
          -0.03239429369568825,
          0.01654348522424698,
          -0.06505938619375229,
          0.03848831355571747,
          -0.02060851827263832,
          0.027832848951220512,
          0.004610767122358084,
          -0.04817027971148491,
          0.02590697817504406,
          -0.018845146521925926,
          0.02174839749932289,
          -0.09070689976215363,
          -0.07713542878627777,
          -0.0012020351132377982
         ],
         "z": [
          -0.054201457649469376,
          -5.843042163178325e-05,
          -0.031777992844581604,
          -0.026773368939757347,
          -0.005799149628728628,
          -0.06304176151752472,
          -0.044371671974658966,
          -0.04668382555246353,
          -0.07041941583156586,
          0.012072185985744,
          -0.07289723306894302,
          0.006741737015545368,
          -0.003997462335973978,
          -0.08212485909461975,
          0.11425598710775375,
          0.029554300010204315,
          0.05838196724653244,
          0.08107292652130127,
          -0.07921452820301056,
          0.03119123913347721,
          0.05388781800866127,
          -0.04988783225417137,
          -0.026632830500602722,
          -0.02631192095577717,
          0.016191527247428894,
          -0.09030374139547348,
          -0.058594752103090286,
          -0.020317580550909042,
          0.05106401816010475,
          -0.012515767477452755,
          0.02187904715538025,
          -0.005183630157262087,
          0.03712466359138489,
          0.010743213817477226,
          0.031270354986190796,
          -0.05604197084903717,
          0.009156245738267899,
          0.0013616277137771249,
          -0.04635999724268913,
          -0.11549151688814163,
          0.058533746749162674,
          0.039647649973630905,
          0.020756691694259644,
          -0.0107874209061265,
          -0.05629291012883186,
          -0.03712553158402443,
          -0.014613882638514042,
          -0.046233952045440674,
          0.00844271294772625,
          0.006650120485574007,
          -0.04795221611857414,
          -0.0002580338332336396,
          -0.010203543119132519,
          0.024743089452385902,
          0.0776788517832756,
          -0.010654039680957794,
          -0.013868561014533043,
          -0.001082642120309174,
          -0.053231824189424515,
          0.08152324706315994,
          -0.03231649100780487
         ]
        }
       ],
       "layout": {
        "annotations": [
         {
          "font": {
           "size": 18
          },
          "showarrow": false,
          "text": "The man is playing the piano.",
          "x": 0.1,
          "xref": "paper",
          "y": 1,
          "yref": "paper"
         },
         {
          "font": {
           "size": 18
          },
          "showarrow": false,
          "text": "The man is playing the guitar.",
          "x": 0.9,
          "xref": "paper",
          "y": 1,
          "yref": "paper"
         }
        ],
        "height": 700,
        "scene": {
         "aspectmode": "auto",
         "aspectratio": {
          "x": 0.9591162880108677,
          "y": 1.0870698913982018,
          "z": 0.9591162880108677
         },
         "domain": {
          "x": [
           0,
           0.49
          ],
          "y": [
           0,
           1
          ]
         }
        },
        "scene2": {
         "aspectmode": "auto",
         "aspectratio": {
          "x": 1.0624222598466304,
          "y": 0.8859427879580153,
          "z": 1.0624222598466304
         },
         "domain": {
          "x": [
           0.51,
           1
          ],
          "y": [
           0,
           1
          ]
         }
        },
        "template": {
         "data": {
          "bar": [
           {
            "error_x": {
             "color": "#2a3f5f"
            },
            "error_y": {
             "color": "#2a3f5f"
            },
            "marker": {
             "line": {
              "color": "#E5ECF6",
              "width": 0.5
             },
             "pattern": {
              "fillmode": "overlay",
              "size": 10,
              "solidity": 0.2
             }
            },
            "type": "bar"
           }
          ],
          "barpolar": [
           {
            "marker": {
             "line": {
              "color": "#E5ECF6",
              "width": 0.5
             },
             "pattern": {
              "fillmode": "overlay",
              "size": 10,
              "solidity": 0.2
             }
            },
            "type": "barpolar"
           }
          ],
          "carpet": [
           {
            "aaxis": {
             "endlinecolor": "#2a3f5f",
             "gridcolor": "white",
             "linecolor": "white",
             "minorgridcolor": "white",
             "startlinecolor": "#2a3f5f"
            },
            "baxis": {
             "endlinecolor": "#2a3f5f",
             "gridcolor": "white",
             "linecolor": "white",
             "minorgridcolor": "white",
             "startlinecolor": "#2a3f5f"
            },
            "type": "carpet"
           }
          ],
          "choropleth": [
           {
            "colorbar": {
             "outlinewidth": 0,
             "ticks": ""
            },
            "type": "choropleth"
           }
          ],
          "contour": [
           {
            "colorbar": {
             "outlinewidth": 0,
             "ticks": ""
            },
            "colorscale": [
             [
              0,
              "#0d0887"
             ],
             [
              0.1111111111111111,
              "#46039f"
             ],
             [
              0.2222222222222222,
              "#7201a8"
             ],
             [
              0.3333333333333333,
              "#9c179e"
             ],
             [
              0.4444444444444444,
              "#bd3786"
             ],
             [
              0.5555555555555556,
              "#d8576b"
             ],
             [
              0.6666666666666666,
              "#ed7953"
             ],
             [
              0.7777777777777778,
              "#fb9f3a"
             ],
             [
              0.8888888888888888,
              "#fdca26"
             ],
             [
              1,
              "#f0f921"
             ]
            ],
            "type": "contour"
           }
          ],
          "contourcarpet": [
           {
            "colorbar": {
             "outlinewidth": 0,
             "ticks": ""
            },
            "type": "contourcarpet"
           }
          ],
          "heatmap": [
           {
            "colorbar": {
             "outlinewidth": 0,
             "ticks": ""
            },
            "colorscale": [
             [
              0,
              "#0d0887"
             ],
             [
              0.1111111111111111,
              "#46039f"
             ],
             [
              0.2222222222222222,
              "#7201a8"
             ],
             [
              0.3333333333333333,
              "#9c179e"
             ],
             [
              0.4444444444444444,
              "#bd3786"
             ],
             [
              0.5555555555555556,
              "#d8576b"
             ],
             [
              0.6666666666666666,
              "#ed7953"
             ],
             [
              0.7777777777777778,
              "#fb9f3a"
             ],
             [
              0.8888888888888888,
              "#fdca26"
             ],
             [
              1,
              "#f0f921"
             ]
            ],
            "type": "heatmap"
           }
          ],
          "heatmapgl": [
           {
            "colorbar": {
             "outlinewidth": 0,
             "ticks": ""
            },
            "colorscale": [
             [
              0,
              "#0d0887"
             ],
             [
              0.1111111111111111,
              "#46039f"
             ],
             [
              0.2222222222222222,
              "#7201a8"
             ],
             [
              0.3333333333333333,
              "#9c179e"
             ],
             [
              0.4444444444444444,
              "#bd3786"
             ],
             [
              0.5555555555555556,
              "#d8576b"
             ],
             [
              0.6666666666666666,
              "#ed7953"
             ],
             [
              0.7777777777777778,
              "#fb9f3a"
             ],
             [
              0.8888888888888888,
              "#fdca26"
             ],
             [
              1,
              "#f0f921"
             ]
            ],
            "type": "heatmapgl"
           }
          ],
          "histogram": [
           {
            "marker": {
             "pattern": {
              "fillmode": "overlay",
              "size": 10,
              "solidity": 0.2
             }
            },
            "type": "histogram"
           }
          ],
          "histogram2d": [
           {
            "colorbar": {
             "outlinewidth": 0,
             "ticks": ""
            },
            "colorscale": [
             [
              0,
              "#0d0887"
             ],
             [
              0.1111111111111111,
              "#46039f"
             ],
             [
              0.2222222222222222,
              "#7201a8"
             ],
             [
              0.3333333333333333,
              "#9c179e"
             ],
             [
              0.4444444444444444,
              "#bd3786"
             ],
             [
              0.5555555555555556,
              "#d8576b"
             ],
             [
              0.6666666666666666,
              "#ed7953"
             ],
             [
              0.7777777777777778,
              "#fb9f3a"
             ],
             [
              0.8888888888888888,
              "#fdca26"
             ],
             [
              1,
              "#f0f921"
             ]
            ],
            "type": "histogram2d"
           }
          ],
          "histogram2dcontour": [
           {
            "colorbar": {
             "outlinewidth": 0,
             "ticks": ""
            },
            "colorscale": [
             [
              0,
              "#0d0887"
             ],
             [
              0.1111111111111111,
              "#46039f"
             ],
             [
              0.2222222222222222,
              "#7201a8"
             ],
             [
              0.3333333333333333,
              "#9c179e"
             ],
             [
              0.4444444444444444,
              "#bd3786"
             ],
             [
              0.5555555555555556,
              "#d8576b"
             ],
             [
              0.6666666666666666,
              "#ed7953"
             ],
             [
              0.7777777777777778,
              "#fb9f3a"
             ],
             [
              0.8888888888888888,
              "#fdca26"
             ],
             [
              1,
              "#f0f921"
             ]
            ],
            "type": "histogram2dcontour"
           }
          ],
          "mesh3d": [
           {
            "colorbar": {
             "outlinewidth": 0,
             "ticks": ""
            },
            "type": "mesh3d"
           }
          ],
          "parcoords": [
           {
            "line": {
             "colorbar": {
              "outlinewidth": 0,
              "ticks": ""
             }
            },
            "type": "parcoords"
           }
          ],
          "pie": [
           {
            "automargin": true,
            "type": "pie"
           }
          ],
          "scatter": [
           {
            "fillpattern": {
             "fillmode": "overlay",
             "size": 10,
             "solidity": 0.2
            },
            "type": "scatter"
           }
          ],
          "scatter3d": [
           {
            "line": {
             "colorbar": {
              "outlinewidth": 0,
              "ticks": ""
             }
            },
            "marker": {
             "colorbar": {
              "outlinewidth": 0,
              "ticks": ""
             }
            },
            "type": "scatter3d"
           }
          ],
          "scattercarpet": [
           {
            "marker": {
             "colorbar": {
              "outlinewidth": 0,
              "ticks": ""
             }
            },
            "type": "scattercarpet"
           }
          ],
          "scattergeo": [
           {
            "marker": {
             "colorbar": {
              "outlinewidth": 0,
              "ticks": ""
             }
            },
            "type": "scattergeo"
           }
          ],
          "scattergl": [
           {
            "marker": {
             "colorbar": {
              "outlinewidth": 0,
              "ticks": ""
             }
            },
            "type": "scattergl"
           }
          ],
          "scattermapbox": [
           {
            "marker": {
             "colorbar": {
              "outlinewidth": 0,
              "ticks": ""
             }
            },
            "type": "scattermapbox"
           }
          ],
          "scatterpolar": [
           {
            "marker": {
             "colorbar": {
              "outlinewidth": 0,
              "ticks": ""
             }
            },
            "type": "scatterpolar"
           }
          ],
          "scatterpolargl": [
           {
            "marker": {
             "colorbar": {
              "outlinewidth": 0,
              "ticks": ""
             }
            },
            "type": "scatterpolargl"
           }
          ],
          "scatterternary": [
           {
            "marker": {
             "colorbar": {
              "outlinewidth": 0,
              "ticks": ""
             }
            },
            "type": "scatterternary"
           }
          ],
          "surface": [
           {
            "colorbar": {
             "outlinewidth": 0,
             "ticks": ""
            },
            "colorscale": [
             [
              0,
              "#0d0887"
             ],
             [
              0.1111111111111111,
              "#46039f"
             ],
             [
              0.2222222222222222,
              "#7201a8"
             ],
             [
              0.3333333333333333,
              "#9c179e"
             ],
             [
              0.4444444444444444,
              "#bd3786"
             ],
             [
              0.5555555555555556,
              "#d8576b"
             ],
             [
              0.6666666666666666,
              "#ed7953"
             ],
             [
              0.7777777777777778,
              "#fb9f3a"
             ],
             [
              0.8888888888888888,
              "#fdca26"
             ],
             [
              1,
              "#f0f921"
             ]
            ],
            "type": "surface"
           }
          ],
          "table": [
           {
            "cells": {
             "fill": {
              "color": "#EBF0F8"
             },
             "line": {
              "color": "white"
             }
            },
            "header": {
             "fill": {
              "color": "#C8D4E3"
             },
             "line": {
              "color": "white"
             }
            },
            "type": "table"
           }
          ]
         },
         "layout": {
          "annotationdefaults": {
           "arrowcolor": "#2a3f5f",
           "arrowhead": 0,
           "arrowwidth": 1
          },
          "autotypenumbers": "strict",
          "coloraxis": {
           "colorbar": {
            "outlinewidth": 0,
            "ticks": ""
           }
          },
          "colorscale": {
           "diverging": [
            [
             0,
             "#8e0152"
            ],
            [
             0.1,
             "#c51b7d"
            ],
            [
             0.2,
             "#de77ae"
            ],
            [
             0.3,
             "#f1b6da"
            ],
            [
             0.4,
             "#fde0ef"
            ],
            [
             0.5,
             "#f7f7f7"
            ],
            [
             0.6,
             "#e6f5d0"
            ],
            [
             0.7,
             "#b8e186"
            ],
            [
             0.8,
             "#7fbc41"
            ],
            [
             0.9,
             "#4d9221"
            ],
            [
             1,
             "#276419"
            ]
           ],
           "sequential": [
            [
             0,
             "#0d0887"
            ],
            [
             0.1111111111111111,
             "#46039f"
            ],
            [
             0.2222222222222222,
             "#7201a8"
            ],
            [
             0.3333333333333333,
             "#9c179e"
            ],
            [
             0.4444444444444444,
             "#bd3786"
            ],
            [
             0.5555555555555556,
             "#d8576b"
            ],
            [
             0.6666666666666666,
             "#ed7953"
            ],
            [
             0.7777777777777778,
             "#fb9f3a"
            ],
            [
             0.8888888888888888,
             "#fdca26"
            ],
            [
             1,
             "#f0f921"
            ]
           ],
           "sequentialminus": [
            [
             0,
             "#0d0887"
            ],
            [
             0.1111111111111111,
             "#46039f"
            ],
            [
             0.2222222222222222,
             "#7201a8"
            ],
            [
             0.3333333333333333,
             "#9c179e"
            ],
            [
             0.4444444444444444,
             "#bd3786"
            ],
            [
             0.5555555555555556,
             "#d8576b"
            ],
            [
             0.6666666666666666,
             "#ed7953"
            ],
            [
             0.7777777777777778,
             "#fb9f3a"
            ],
            [
             0.8888888888888888,
             "#fdca26"
            ],
            [
             1,
             "#f0f921"
            ]
           ]
          },
          "colorway": [
           "#636efa",
           "#EF553B",
           "#00cc96",
           "#ab63fa",
           "#FFA15A",
           "#19d3f3",
           "#FF6692",
           "#B6E880",
           "#FF97FF",
           "#FECB52"
          ],
          "font": {
           "color": "#2a3f5f"
          },
          "geo": {
           "bgcolor": "white",
           "lakecolor": "white",
           "landcolor": "#E5ECF6",
           "showlakes": true,
           "showland": true,
           "subunitcolor": "white"
          },
          "hoverlabel": {
           "align": "left"
          },
          "hovermode": "closest",
          "mapbox": {
           "style": "light"
          },
          "paper_bgcolor": "white",
          "plot_bgcolor": "#E5ECF6",
          "polar": {
           "angularaxis": {
            "gridcolor": "white",
            "linecolor": "white",
            "ticks": ""
           },
           "bgcolor": "#E5ECF6",
           "radialaxis": {
            "gridcolor": "white",
            "linecolor": "white",
            "ticks": ""
           }
          },
          "scene": {
           "xaxis": {
            "backgroundcolor": "#E5ECF6",
            "gridcolor": "white",
            "gridwidth": 2,
            "linecolor": "white",
            "showbackground": true,
            "ticks": "",
            "zerolinecolor": "white"
           },
           "yaxis": {
            "backgroundcolor": "#E5ECF6",
            "gridcolor": "white",
            "gridwidth": 2,
            "linecolor": "white",
            "showbackground": true,
            "ticks": "",
            "zerolinecolor": "white"
           },
           "zaxis": {
            "backgroundcolor": "#E5ECF6",
            "gridcolor": "white",
            "gridwidth": 2,
            "linecolor": "white",
            "showbackground": true,
            "ticks": "",
            "zerolinecolor": "white"
           }
          },
          "shapedefaults": {
           "line": {
            "color": "#2a3f5f"
           }
          },
          "ternary": {
           "aaxis": {
            "gridcolor": "white",
            "linecolor": "white",
            "ticks": ""
           },
           "baxis": {
            "gridcolor": "white",
            "linecolor": "white",
            "ticks": ""
           },
           "bgcolor": "#E5ECF6",
           "caxis": {
            "gridcolor": "white",
            "linecolor": "white",
            "ticks": ""
           }
          },
          "title": {
           "x": 0.05
          },
          "xaxis": {
           "automargin": true,
           "gridcolor": "white",
           "linecolor": "white",
           "ticks": "",
           "title": {
            "standoff": 15
           },
           "zerolinecolor": "white",
           "zerolinewidth": 2
          },
          "yaxis": {
           "automargin": true,
           "gridcolor": "white",
           "linecolor": "white",
           "ticks": "",
           "title": {
            "standoff": 15
           },
           "zerolinecolor": "white",
           "zerolinewidth": 2
          }
         }
        },
        "title": {
         "font": {
          "size": 24
         },
         "text": "label=1.60(index=7)",
         "x": 0.5,
         "y": 0.95
        },
        "width": 1100
       }
      },
      "text/html": [
       "<div>                            <div id=\"678bf838-105e-4fa3-b56f-4bb8d39e991e\" class=\"plotly-graph-div\" style=\"height:700px; width:1100px;\"></div>            <script type=\"text/javascript\">                require([\"plotly\"], function(Plotly) {                    window.PLOTLYENV=window.PLOTLYENV || {};                                    if (document.getElementById(\"678bf838-105e-4fa3-b56f-4bb8d39e991e\")) {                    Plotly.newPlot(                        \"678bf838-105e-4fa3-b56f-4bb8d39e991e\",                        [{\"hovertemplate\":\"0=%{x}\\u003cbr\\u003e1=%{y}\\u003cbr\\u003e2=%{z}\\u003cextra\\u003e\\u003c\\u002fextra\\u003e\",\"legendgroup\":\"\",\"marker\":{\"color\":\"#636efa\",\"size\":2,\"symbol\":\"circle\"},\"mode\":\"markers\",\"name\":\"\",\"scene\":\"scene\",\"showlegend\":false,\"x\":[0.04082411155104637,0.04237905889749527,-0.0332220159471035,-0.07716939598321915,0.04948258399963379,-0.04100506007671356,-0.026528790593147278,-0.10270175337791443,0.00637199729681015,-0.006414168514311314,0.050521623343229294,-0.02717631123960018,-0.033012717962265015,-0.07273055613040924,-0.016476549208164215,0.03521858528256416,0.01784151792526245,0.055349159985780716,0.04324205964803696,0.11848516017198563,0.019400103017687798,-0.08980773389339447,-0.01482759416103363,0.10857360810041428,-0.09596045315265656,-0.03851558640599251,-0.029066750779747963,0.027088550850749016,-0.08864957839250565,0.014757790602743626,-0.0318572111427784,0.1126205176115036,0.005431187804788351,-0.06278655678033829,0.04044115170836449,0.0059776087291538715,0.030831919983029366,-0.017258446663618088,0.06529276072978973,0.0031256726942956448,0.0030330177396535873,0.0009214787278324366,-0.0727776437997818,0.03386441618204117,0.0650143101811409,-0.07790961116552353,0.013226194307208061,0.03496536239981651,0.06145002320408821,0.003032107139006257,-0.09389849752187729,-0.0021701741497963667,-0.012042793445289135,-0.016842009499669075,-0.04353177174925804,0.020059941336512566,-0.015064049512147903,0.07380422949790955,-0.01238219067454338,-0.033934272825717926,-0.018774181604385376],\"y\":[0.026759056374430656,0.02953885868191719,0.02885260432958603,0.020005008205771446,-0.03906905651092529,-0.0017662671161815524,-0.0442744642496109,0.07351479679346085,0.05297917127609253,-0.012159495614469051,0.02603081427514553,0.017442800104618073,-0.039020001888275146,-0.01460026390850544,-0.0018181763589382172,-0.02697567455470562,0.039416052401065826,0.03280549496412277,-0.018675455823540688,-0.00970895029604435,0.06742586195468903,0.0010941631626337767,-0.0202520489692688,-0.030102184042334557,-0.06951337307691574,-0.09173621237277985,-0.04057860001921654,0.05181080102920532,0.02998565509915352,0.11142434179782867,-0.039084602147340775,0.03394949436187744,-0.024056654423475266,-0.1392706334590912,-0.05080839619040489,-0.007478109560906887,0.002481460804119706,0.0799526572227478,0.05837923288345337,-0.0424722321331501,0.02450881339609623,-0.04967770725488663,0.05784410238265991,0.02513751946389675,-0.02747163735330105,-0.02145606465637684,0.07889726758003235,0.09375473856925964,0.029640035703778267,-0.0753776803612709,0.01347590796649456,0.06705556809902191,0.007102443370968103,0.01622811332345009,-0.023677347227931023,0.021362638100981712,-0.026591157540678978,-0.028324531391263008,-0.0804215520620346,-0.0021804790012538433,0.04574402794241905],\"z\":[-0.07716939598321915,0.04948258399963379,-0.04100506007671356,-0.026528790593147278,-0.10270175337791443,0.00637199729681015,-0.006414168514311314,0.050521623343229294,-0.02717631123960018,-0.033012717962265015,-0.07273055613040924,-0.016476549208164215,0.03521858528256416,0.01784151792526245,0.055349159985780716,0.04324205964803696,0.11848516017198563,0.019400103017687798,-0.08980773389339447,-0.01482759416103363,0.10857360810041428,-0.09596045315265656,-0.03851558640599251,-0.029066750779747963,0.027088550850749016,-0.08864957839250565,0.014757790602743626,-0.0318572111427784,0.1126205176115036,0.005431187804788351,-0.06278655678033829,0.04044115170836449,0.0059776087291538715,0.030831919983029366,-0.017258446663618088,0.06529276072978973,0.0031256726942956448,0.0030330177396535873,0.0009214787278324366,-0.0727776437997818,0.03386441618204117,0.0650143101811409,-0.07790961116552353,0.013226194307208061,0.03496536239981651,0.06145002320408821,0.003032107139006257,-0.09389849752187729,-0.0021701741497963667,-0.012042793445289135,-0.016842009499669075,-0.04353177174925804,0.020059941336512566,-0.015064049512147903,0.07380422949790955,-0.01238219067454338,-0.033934272825717926,-0.018774181604385376,-0.055628493428230286,0.0344153456389904,0.0053750211372971535],\"type\":\"scatter3d\"},{\"hovertemplate\":\"0=%{x}\\u003cbr\\u003e1=%{y}\\u003cbr\\u003e2=%{z}\\u003cextra\\u003e\\u003c\\u002fextra\\u003e\",\"legendgroup\":\"\",\"marker\":{\"color\":\"#636efa\",\"size\":2,\"symbol\":\"circle\"},\"mode\":\"markers\",\"name\":\"\",\"scene\":\"scene2\",\"showlegend\":false,\"x\":[0.0013887755339965224,0.025396928191184998,0.03594566881656647,-0.054201457649469376,-5.843042163178325e-05,-0.031777992844581604,-0.026773368939757347,-0.005799149628728628,-0.06304176151752472,-0.044371671974658966,-0.04668382555246353,-0.07041941583156586,0.012072185985744,-0.07289723306894302,0.006741737015545368,-0.003997462335973978,-0.08212485909461975,0.11425598710775375,0.029554300010204315,0.05838196724653244,0.08107292652130127,-0.07921452820301056,0.03119123913347721,0.05388781800866127,-0.04988783225417137,-0.026632830500602722,-0.02631192095577717,0.016191527247428894,-0.09030374139547348,-0.058594752103090286,-0.020317580550909042,0.05106401816010475,-0.012515767477452755,0.02187904715538025,-0.005183630157262087,0.03712466359138489,0.010743213817477226,0.031270354986190796,-0.05604197084903717,0.009156245738267899,0.0013616277137771249,-0.04635999724268913,-0.11549151688814163,0.058533746749162674,0.039647649973630905,0.020756691694259644,-0.0107874209061265,-0.05629291012883186,-0.03712553158402443,-0.014613882638514042,-0.046233952045440674,0.00844271294772625,0.006650120485574007,-0.04795221611857414,-0.0002580338332336396,-0.010203543119132519,0.024743089452385902,0.0776788517832756,-0.010654039680957794,-0.013868561014533043,-0.001082642120309174],\"y\":[0.0493902787566185,0.09439609944820404,-0.0035458679776638746,-0.003996568266302347,-0.015264376066625118,-0.016122767701745033,0.004611538723111153,-0.019772691652178764,0.010557320900261402,-0.04539679363369942,0.08258098363876343,0.0894884318113327,0.031203681603074074,-0.045122504234313965,-0.059754177927970886,0.017593132331967354,0.02791009470820427,0.011195462197065353,0.016625599935650826,0.03304751589894295,-0.0646783635020256,0.04988042265176773,-0.004910239018499851,0.023090168833732605,-0.03758059814572334,-0.039841439574956894,-0.010001604445278645,0.04503612220287323,-0.032900121062994,-0.04472886398434639,0.07542038708925247,0.06934083253145218,-0.05463865399360657,-0.05140496790409088,-0.047333069145679474,0.003290562191978097,0.061971504241228104,0.10087713599205017,0.07268853485584259,0.017891868948936462,0.0068242899142205715,0.060206130146980286,0.004033145494759083,0.00017604473396204412,-0.020097754895687103,-0.050187427550554276,0.015134438872337341,-0.03239429369568825,0.01654348522424698,-0.06505938619375229,0.03848831355571747,-0.02060851827263832,0.027832848951220512,0.004610767122358084,-0.04817027971148491,0.02590697817504406,-0.018845146521925926,0.02174839749932289,-0.09070689976215363,-0.07713542878627777,-0.0012020351132377982],\"z\":[-0.054201457649469376,-5.843042163178325e-05,-0.031777992844581604,-0.026773368939757347,-0.005799149628728628,-0.06304176151752472,-0.044371671974658966,-0.04668382555246353,-0.07041941583156586,0.012072185985744,-0.07289723306894302,0.006741737015545368,-0.003997462335973978,-0.08212485909461975,0.11425598710775375,0.029554300010204315,0.05838196724653244,0.08107292652130127,-0.07921452820301056,0.03119123913347721,0.05388781800866127,-0.04988783225417137,-0.026632830500602722,-0.02631192095577717,0.016191527247428894,-0.09030374139547348,-0.058594752103090286,-0.020317580550909042,0.05106401816010475,-0.012515767477452755,0.02187904715538025,-0.005183630157262087,0.03712466359138489,0.010743213817477226,0.031270354986190796,-0.05604197084903717,0.009156245738267899,0.0013616277137771249,-0.04635999724268913,-0.11549151688814163,0.058533746749162674,0.039647649973630905,0.020756691694259644,-0.0107874209061265,-0.05629291012883186,-0.03712553158402443,-0.014613882638514042,-0.046233952045440674,0.00844271294772625,0.006650120485574007,-0.04795221611857414,-0.0002580338332336396,-0.010203543119132519,0.024743089452385902,0.0776788517832756,-0.010654039680957794,-0.013868561014533043,-0.001082642120309174,-0.053231824189424515,0.08152324706315994,-0.03231649100780487],\"type\":\"scatter3d\"}],                        {\"template\":{\"data\":{\"histogram2dcontour\":[{\"type\":\"histogram2dcontour\",\"colorbar\":{\"outlinewidth\":0,\"ticks\":\"\"},\"colorscale\":[[0.0,\"#0d0887\"],[0.1111111111111111,\"#46039f\"],[0.2222222222222222,\"#7201a8\"],[0.3333333333333333,\"#9c179e\"],[0.4444444444444444,\"#bd3786\"],[0.5555555555555556,\"#d8576b\"],[0.6666666666666666,\"#ed7953\"],[0.7777777777777778,\"#fb9f3a\"],[0.8888888888888888,\"#fdca26\"],[1.0,\"#f0f921\"]]}],\"choropleth\":[{\"type\":\"choropleth\",\"colorbar\":{\"outlinewidth\":0,\"ticks\":\"\"}}],\"histogram2d\":[{\"type\":\"histogram2d\",\"colorbar\":{\"outlinewidth\":0,\"ticks\":\"\"},\"colorscale\":[[0.0,\"#0d0887\"],[0.1111111111111111,\"#46039f\"],[0.2222222222222222,\"#7201a8\"],[0.3333333333333333,\"#9c179e\"],[0.4444444444444444,\"#bd3786\"],[0.5555555555555556,\"#d8576b\"],[0.6666666666666666,\"#ed7953\"],[0.7777777777777778,\"#fb9f3a\"],[0.8888888888888888,\"#fdca26\"],[1.0,\"#f0f921\"]]}],\"heatmap\":[{\"type\":\"heatmap\",\"colorbar\":{\"outlinewidth\":0,\"ticks\":\"\"},\"colorscale\":[[0.0,\"#0d0887\"],[0.1111111111111111,\"#46039f\"],[0.2222222222222222,\"#7201a8\"],[0.3333333333333333,\"#9c179e\"],[0.4444444444444444,\"#bd3786\"],[0.5555555555555556,\"#d8576b\"],[0.6666666666666666,\"#ed7953\"],[0.7777777777777778,\"#fb9f3a\"],[0.8888888888888888,\"#fdca26\"],[1.0,\"#f0f921\"]]}],\"heatmapgl\":[{\"type\":\"heatmapgl\",\"colorbar\":{\"outlinewidth\":0,\"ticks\":\"\"},\"colorscale\":[[0.0,\"#0d0887\"],[0.1111111111111111,\"#46039f\"],[0.2222222222222222,\"#7201a8\"],[0.3333333333333333,\"#9c179e\"],[0.4444444444444444,\"#bd3786\"],[0.5555555555555556,\"#d8576b\"],[0.6666666666666666,\"#ed7953\"],[0.7777777777777778,\"#fb9f3a\"],[0.8888888888888888,\"#fdca26\"],[1.0,\"#f0f921\"]]}],\"contourcarpet\":[{\"type\":\"contourcarpet\",\"colorbar\":{\"outlinewidth\":0,\"ticks\":\"\"}}],\"contour\":[{\"type\":\"contour\",\"colorbar\":{\"outlinewidth\":0,\"ticks\":\"\"},\"colorscale\":[[0.0,\"#0d0887\"],[0.1111111111111111,\"#46039f\"],[0.2222222222222222,\"#7201a8\"],[0.3333333333333333,\"#9c179e\"],[0.4444444444444444,\"#bd3786\"],[0.5555555555555556,\"#d8576b\"],[0.6666666666666666,\"#ed7953\"],[0.7777777777777778,\"#fb9f3a\"],[0.8888888888888888,\"#fdca26\"],[1.0,\"#f0f921\"]]}],\"surface\":[{\"type\":\"surface\",\"colorbar\":{\"outlinewidth\":0,\"ticks\":\"\"},\"colorscale\":[[0.0,\"#0d0887\"],[0.1111111111111111,\"#46039f\"],[0.2222222222222222,\"#7201a8\"],[0.3333333333333333,\"#9c179e\"],[0.4444444444444444,\"#bd3786\"],[0.5555555555555556,\"#d8576b\"],[0.6666666666666666,\"#ed7953\"],[0.7777777777777778,\"#fb9f3a\"],[0.8888888888888888,\"#fdca26\"],[1.0,\"#f0f921\"]]}],\"mesh3d\":[{\"type\":\"mesh3d\",\"colorbar\":{\"outlinewidth\":0,\"ticks\":\"\"}}],\"scatter\":[{\"fillpattern\":{\"fillmode\":\"overlay\",\"size\":10,\"solidity\":0.2},\"type\":\"scatter\"}],\"parcoords\":[{\"type\":\"parcoords\",\"line\":{\"colorbar\":{\"outlinewidth\":0,\"ticks\":\"\"}}}],\"scatterpolargl\":[{\"type\":\"scatterpolargl\",\"marker\":{\"colorbar\":{\"outlinewidth\":0,\"ticks\":\"\"}}}],\"bar\":[{\"error_x\":{\"color\":\"#2a3f5f\"},\"error_y\":{\"color\":\"#2a3f5f\"},\"marker\":{\"line\":{\"color\":\"#E5ECF6\",\"width\":0.5},\"pattern\":{\"fillmode\":\"overlay\",\"size\":10,\"solidity\":0.2}},\"type\":\"bar\"}],\"scattergeo\":[{\"type\":\"scattergeo\",\"marker\":{\"colorbar\":{\"outlinewidth\":0,\"ticks\":\"\"}}}],\"scatterpolar\":[{\"type\":\"scatterpolar\",\"marker\":{\"colorbar\":{\"outlinewidth\":0,\"ticks\":\"\"}}}],\"histogram\":[{\"marker\":{\"pattern\":{\"fillmode\":\"overlay\",\"size\":10,\"solidity\":0.2}},\"type\":\"histogram\"}],\"scattergl\":[{\"type\":\"scattergl\",\"marker\":{\"colorbar\":{\"outlinewidth\":0,\"ticks\":\"\"}}}],\"scatter3d\":[{\"type\":\"scatter3d\",\"line\":{\"colorbar\":{\"outlinewidth\":0,\"ticks\":\"\"}},\"marker\":{\"colorbar\":{\"outlinewidth\":0,\"ticks\":\"\"}}}],\"scattermapbox\":[{\"type\":\"scattermapbox\",\"marker\":{\"colorbar\":{\"outlinewidth\":0,\"ticks\":\"\"}}}],\"scatterternary\":[{\"type\":\"scatterternary\",\"marker\":{\"colorbar\":{\"outlinewidth\":0,\"ticks\":\"\"}}}],\"scattercarpet\":[{\"type\":\"scattercarpet\",\"marker\":{\"colorbar\":{\"outlinewidth\":0,\"ticks\":\"\"}}}],\"carpet\":[{\"aaxis\":{\"endlinecolor\":\"#2a3f5f\",\"gridcolor\":\"white\",\"linecolor\":\"white\",\"minorgridcolor\":\"white\",\"startlinecolor\":\"#2a3f5f\"},\"baxis\":{\"endlinecolor\":\"#2a3f5f\",\"gridcolor\":\"white\",\"linecolor\":\"white\",\"minorgridcolor\":\"white\",\"startlinecolor\":\"#2a3f5f\"},\"type\":\"carpet\"}],\"table\":[{\"cells\":{\"fill\":{\"color\":\"#EBF0F8\"},\"line\":{\"color\":\"white\"}},\"header\":{\"fill\":{\"color\":\"#C8D4E3\"},\"line\":{\"color\":\"white\"}},\"type\":\"table\"}],\"barpolar\":[{\"marker\":{\"line\":{\"color\":\"#E5ECF6\",\"width\":0.5},\"pattern\":{\"fillmode\":\"overlay\",\"size\":10,\"solidity\":0.2}},\"type\":\"barpolar\"}],\"pie\":[{\"automargin\":true,\"type\":\"pie\"}]},\"layout\":{\"autotypenumbers\":\"strict\",\"colorway\":[\"#636efa\",\"#EF553B\",\"#00cc96\",\"#ab63fa\",\"#FFA15A\",\"#19d3f3\",\"#FF6692\",\"#B6E880\",\"#FF97FF\",\"#FECB52\"],\"font\":{\"color\":\"#2a3f5f\"},\"hovermode\":\"closest\",\"hoverlabel\":{\"align\":\"left\"},\"paper_bgcolor\":\"white\",\"plot_bgcolor\":\"#E5ECF6\",\"polar\":{\"bgcolor\":\"#E5ECF6\",\"angularaxis\":{\"gridcolor\":\"white\",\"linecolor\":\"white\",\"ticks\":\"\"},\"radialaxis\":{\"gridcolor\":\"white\",\"linecolor\":\"white\",\"ticks\":\"\"}},\"ternary\":{\"bgcolor\":\"#E5ECF6\",\"aaxis\":{\"gridcolor\":\"white\",\"linecolor\":\"white\",\"ticks\":\"\"},\"baxis\":{\"gridcolor\":\"white\",\"linecolor\":\"white\",\"ticks\":\"\"},\"caxis\":{\"gridcolor\":\"white\",\"linecolor\":\"white\",\"ticks\":\"\"}},\"coloraxis\":{\"colorbar\":{\"outlinewidth\":0,\"ticks\":\"\"}},\"colorscale\":{\"sequential\":[[0.0,\"#0d0887\"],[0.1111111111111111,\"#46039f\"],[0.2222222222222222,\"#7201a8\"],[0.3333333333333333,\"#9c179e\"],[0.4444444444444444,\"#bd3786\"],[0.5555555555555556,\"#d8576b\"],[0.6666666666666666,\"#ed7953\"],[0.7777777777777778,\"#fb9f3a\"],[0.8888888888888888,\"#fdca26\"],[1.0,\"#f0f921\"]],\"sequentialminus\":[[0.0,\"#0d0887\"],[0.1111111111111111,\"#46039f\"],[0.2222222222222222,\"#7201a8\"],[0.3333333333333333,\"#9c179e\"],[0.4444444444444444,\"#bd3786\"],[0.5555555555555556,\"#d8576b\"],[0.6666666666666666,\"#ed7953\"],[0.7777777777777778,\"#fb9f3a\"],[0.8888888888888888,\"#fdca26\"],[1.0,\"#f0f921\"]],\"diverging\":[[0,\"#8e0152\"],[0.1,\"#c51b7d\"],[0.2,\"#de77ae\"],[0.3,\"#f1b6da\"],[0.4,\"#fde0ef\"],[0.5,\"#f7f7f7\"],[0.6,\"#e6f5d0\"],[0.7,\"#b8e186\"],[0.8,\"#7fbc41\"],[0.9,\"#4d9221\"],[1,\"#276419\"]]},\"xaxis\":{\"gridcolor\":\"white\",\"linecolor\":\"white\",\"ticks\":\"\",\"title\":{\"standoff\":15},\"zerolinecolor\":\"white\",\"automargin\":true,\"zerolinewidth\":2},\"yaxis\":{\"gridcolor\":\"white\",\"linecolor\":\"white\",\"ticks\":\"\",\"title\":{\"standoff\":15},\"zerolinecolor\":\"white\",\"automargin\":true,\"zerolinewidth\":2},\"scene\":{\"xaxis\":{\"backgroundcolor\":\"#E5ECF6\",\"gridcolor\":\"white\",\"linecolor\":\"white\",\"showbackground\":true,\"ticks\":\"\",\"zerolinecolor\":\"white\",\"gridwidth\":2},\"yaxis\":{\"backgroundcolor\":\"#E5ECF6\",\"gridcolor\":\"white\",\"linecolor\":\"white\",\"showbackground\":true,\"ticks\":\"\",\"zerolinecolor\":\"white\",\"gridwidth\":2},\"zaxis\":{\"backgroundcolor\":\"#E5ECF6\",\"gridcolor\":\"white\",\"linecolor\":\"white\",\"showbackground\":true,\"ticks\":\"\",\"zerolinecolor\":\"white\",\"gridwidth\":2}},\"shapedefaults\":{\"line\":{\"color\":\"#2a3f5f\"}},\"annotationdefaults\":{\"arrowcolor\":\"#2a3f5f\",\"arrowhead\":0,\"arrowwidth\":1},\"geo\":{\"bgcolor\":\"white\",\"landcolor\":\"#E5ECF6\",\"subunitcolor\":\"white\",\"showland\":true,\"showlakes\":true,\"lakecolor\":\"white\"},\"title\":{\"x\":0.05},\"mapbox\":{\"style\":\"light\"}}},\"scene\":{\"domain\":{\"x\":[0.0,0.49],\"y\":[0.0,1.0]}},\"scene2\":{\"domain\":{\"x\":[0.51,1.0],\"y\":[0.0,1.0]}},\"width\":1100,\"height\":700,\"title\":{\"font\":{\"size\":24},\"text\":\"label=1.60(index=7)\",\"x\":0.5,\"y\":0.95},\"annotations\":[{\"font\":{\"size\":18},\"showarrow\":false,\"text\":\"The man is playing the piano.\",\"x\":0.1,\"xref\":\"paper\",\"y\":1.0,\"yref\":\"paper\"},{\"font\":{\"size\":18},\"showarrow\":false,\"text\":\"The man is playing the guitar.\",\"x\":0.9,\"xref\":\"paper\",\"y\":1.0,\"yref\":\"paper\"}]},                        {\"responsive\": true}                    ).then(function(){\n",
       "                            \n",
       "var gd = document.getElementById('678bf838-105e-4fa3-b56f-4bb8d39e991e');\n",
       "var x = new MutationObserver(function (mutations, observer) {{\n",
       "        var display = window.getComputedStyle(gd).display;\n",
       "        if (!display || display === 'none') {{\n",
       "            console.log([gd, 'removed!']);\n",
       "            Plotly.purge(gd);\n",
       "            observer.disconnect();\n",
       "        }}\n",
       "}});\n",
       "\n",
       "// Listen for the removal of the full notebook cells\n",
       "var notebookContainer = gd.closest('#notebook-container');\n",
       "if (notebookContainer) {{\n",
       "    x.observe(notebookContainer, {childList: true});\n",
       "}}\n",
       "\n",
       "// Listen for the clearing of the current output cell\n",
       "var outputEl = gd.closest('.output');\n",
       "if (outputEl) {{\n",
       "    x.observe(outputEl, {childList: true});\n",
       "}}\n",
       "\n",
       "                        })                };                });            </script>        </div>"
      ]
     },
     "metadata": {},
     "output_type": "display_data"
    },
    {
     "name": "stderr",
     "output_type": "stream",
     "text": [
      "/tmp/ipykernel_1482003/3944099178.py:56: UserWarning:\n",
      "\n",
      "FigureCanvasAgg is non-interactive, and thus cannot be shown\n",
      "\n"
     ]
    },
    {
     "data": {
      "image/png": "[encoded data removed]",
      "text/plain": [
       "<Figure size 800x400 with 2 Axes>"
      ]
     },
     "metadata": {},
     "output_type": "display_data"
    }
   ],
   "source": [
    "generatePdFigure(7, 20)"
   ]
  },
  {
   "cell_type": "code",
   "execution_count": null,
   "id": "c272f786-97a3-4810-a896-318dc894f8dd",
   "metadata": {},
   "outputs": [],
   "source": []
  }
 ],
 "metadata": {
  "kernelspec": {
   "display_name": "Python 3 (ipykernel)",
   "language": "python",
   "name": "python3"
  },
  "language_info": {
   "codemirror_mode": {
    "name": "ipython",
    "version": 3
   },
   "file_extension": ".py",
   "mimetype": "text/x-python",
   "name": "python",
   "nbconvert_exporter": "python",
   "pygments_lexer": "ipython3",
   "version": "3.12.4"
  }
 },
 "nbformat": 4,
 "nbformat_minor": 5
}
