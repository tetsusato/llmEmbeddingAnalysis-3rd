{
 "cells": [
  {
   "cell_type": "markdown",
   "id": "dc0bb0e0-8807-47f2-8b59-cf0d0b2ef9df",
   "metadata": {},
   "source": [
    "## 2024/07/04 18:36"
   ]
  },
  {
   "cell_type": "code",
   "execution_count": 2,
   "id": "04af30bc-79e1-4708-9e05-e6cdcbcd57f0",
   "metadata": {
    "tags": []
   },
   "outputs": [
    {
     "data": {
      "text/plain": [
       "'/home/tetsu_sato1/llmEmbeddingAnalysis-3rd'"
      ]
     },
     "execution_count": 2,
     "metadata": {},
     "output_type": "execute_result"
    }
   ],
   "source": [
    "pwd"
   ]
  },
  {
   "cell_type": "code",
   "execution_count": 13,
   "id": "5641e46e-ff7f-4745-ba27-b1a912e5fe3e",
   "metadata": {
    "tags": []
   },
   "outputs": [
    {
     "name": "stdout",
     "output_type": "stream",
     "text": [
      "2024-07-04 10:48:07,204] MainProcess(1324805).MainThread(139852624893760) SentenceTransformer.__init__(189) INFO -> Use pytorch device_name: cuda\n",
      "2024-07-04 10:48:07,205] MainProcess(1324805).MainThread(139852624893760) SentenceTransformer.__init__(197) INFO -> Load pretrained SentenceTransformer: sentence-transformers/all-MiniLM-L6-v2\n",
      "loaded: shape: (1, 5)\n",
      "┌───────────┬────────────┬───────────┬────────────┬───────┐\n",
      "│ sentence1 ┆ embedding1 ┆ sentence2 ┆ embedding2 ┆ label │\n",
      "│ ---       ┆ ---        ┆ ---       ┆ ---        ┆ ---   │\n",
      "│ u32       ┆ u32        ┆ u32       ┆ u32        ┆ u32   │\n",
      "╞═══════════╪════════════╪═══════════╪════════════╪═══════╡\n",
      "│ 3         ┆ 3          ┆ 3         ┆ 3          ┆ 3     │\n",
      "└───────────┴────────────┴───────────┴────────────┴───────┘ rows.\n",
      "shape: (3, 5)\n",
      "┌──────────────────────┬──────────────────────┬──────────────────────┬─────────────────────┬───────┐\n",
      "│ sentence1            ┆ embedding1           ┆ sentence2            ┆ embedding2          ┆ label │\n",
      "│ ---                  ┆ ---                  ┆ ---                  ┆ ---                 ┆ ---   │\n",
      "│ str                  ┆ array[f64, 384]      ┆ str                  ┆ array[f64, 384]     ┆ f64   │\n",
      "╞══════════════════════╪══════════════════════╪══════════════════════╪═════════════════════╪═══════╡\n",
      "│ A plane is taking    ┆ [0.065392, 0.02813,  ┆ An air plane is      ┆ [0.037159,          ┆ 5.0   │\n",
      "│ off.                 ┆ … 0.032704…          ┆ taking off.          ┆ 0.014117, …         ┆       │\n",
      "│                      ┆                      ┆                      ┆ 0.06326…            ┆       │\n",
      "│ A man is playing a   ┆ [0.081221, -0.02136, ┆ A man is playing a   ┆ [0.043285,          ┆ 3.8   │\n",
      "│ large flute…         ┆ … 0.06418…           ┆ flute.               ┆ -0.041842, …        ┆       │\n",
      "│                      ┆                      ┆                      ┆ 0.0431…             ┆       │\n",
      "│ A man is spreading   ┆ [0.017162, 0.024835, ┆ A man is spreading   ┆ [-0.038157,         ┆ 3.8   │\n",
      "│ shreded che…         ┆ … -0.0025…           ┆ shredded ch…         ┆ -0.033265, … -0.01… ┆       │\n",
      "└──────────────────────┴──────────────────────┴──────────────────────┴─────────────────────┴───────┘\n"
     ]
    }
   ],
   "source": [
    "import importlib\n",
    "\n",
    "import prepare_vectors\n",
    "importlib.reload(prepare_vectors)\n",
    "from prepare_vectors import PrepareVectors\n",
    "pv = PrepareVectors(\"original\")   \n",
    "vec = pv.getVectors(3) \n",
    "print(vec)"
   ]
  },
  {
   "cell_type": "code",
   "execution_count": 14,
   "id": "8379627a-7b88-4bf5-b007-4905d4faa13e",
   "metadata": {
    "tags": []
   },
   "outputs": [
    {
     "name": "stdout",
     "output_type": "stream",
     "text": [
      "shape: (2, 5)\n",
      "┌────────────────────┬─────────────────┬────────────────────┬──────────────────────────┬───────┐\n",
      "│ sentence1          ┆ embedding1      ┆ sentence2          ┆ embedding2               ┆ label │\n",
      "│ ---                ┆ ---             ┆ ---                ┆ ---                      ┆ ---   │\n",
      "│ str                ┆ array[f64, 384] ┆ str                ┆ array[f64, 384]          ┆ f64   │\n",
      "╞════════════════════╪═════════════════╪════════════════════╪══════════════════════════╪═══════╡\n",
      "│ A man is spreading ┆ [0.017162,      ┆ A man is spreading ┆ [-0.038157, -0.033265, … ┆ 3.8   │\n",
      "│ shreded che…       ┆ 0.024835, …     ┆ shredded ch…       ┆ -0.01…                   ┆       │\n",
      "│                    ┆ -0.0025…        ┆                    ┆                          ┆       │\n",
      "│ A man is playing a ┆ [0.081221,      ┆ A man is playing a ┆ [0.043285, -0.041842, …  ┆ 3.8   │\n",
      "│ large flute…       ┆ -0.02136, …     ┆ flute.             ┆ 0.0431…                  ┆       │\n",
      "│                    ┆ 0.06418…        ┆                    ┆                          ┆       │\n",
      "└────────────────────┴─────────────────┴────────────────────┴──────────────────────────┴───────┘\n",
      "shape: (2, 1)\n",
      "┌─────────────────────────────────┐\n",
      "│ embedding1                      │\n",
      "│ ---                             │\n",
      "│ array[f64, 384]                 │\n",
      "╞═════════════════════════════════╡\n",
      "│ [0.017162, 0.024835, … -0.0025… │\n",
      "│ [0.081221, -0.02136, … 0.06418… │\n",
      "└─────────────────────────────────┘\n",
      "shape: (4, 1)\n",
      "┌─────────────────────────────────┐\n",
      "│ embedding                       │\n",
      "│ ---                             │\n",
      "│ array[f64, 384]                 │\n",
      "╞═════════════════════════════════╡\n",
      "│ [0.017162, 0.024835, … -0.0025… │\n",
      "│ [0.081221, -0.02136, … 0.06418… │\n",
      "│ [-0.038157, -0.033265, … -0.01… │\n",
      "│ [0.043285, -0.041842, … 0.0431… │\n",
      "└─────────────────────────────────┘\n"
     ]
    }
   ],
   "source": [
    "vecs = vec[[2, 1]]\n",
    "print(vecs)\n",
    "vec1 = vecs.select(\"embedding1\") \n",
    "print(vec1)\n",
    "vec2 = vecs.select(\"embedding2\")\n",
    "new_vec = vec1.rename({\"embedding1\": \"embedding\"}).vstack(   \n",
    "      vec2.rename({\"embedding2\": \"embedding\"}))          \n",
    "print(new_vec)"
   ]
  },
  {
   "cell_type": "code",
   "execution_count": 16,
   "id": "b4dae43e-10a8-41c0-ba63-c7b6db3c0a46",
   "metadata": {
    "tags": []
   },
   "outputs": [
    {
     "data": {
      "text/html": [
       "<div><style>\n",
       ".dataframe > thead > tr,\n",
       ".dataframe > tbody > tr {\n",
       "  text-align: right;\n",
       "  white-space: pre-wrap;\n",
       "}\n",
       "</style>\n",
       "<small>shape: (2, 2)</small><table border=\"1\" class=\"dataframe\"><thead><tr><th>embedding1</th><th>embedding2</th></tr><tr><td>array[f64, 384]</td><td>array[f64, 384]</td></tr></thead><tbody><tr><td>[0.017162, 0.024835, … -0.002522]</td><td>[-0.038157, -0.033265, … -0.018642]</td></tr><tr><td>[0.081221, -0.02136, … 0.064187]</td><td>[0.043285, -0.041842, … 0.04312]</td></tr></tbody></table></div>"
      ],
      "text/plain": [
       "shape: (2, 2)\n",
       "┌─────────────────────────────────┬─────────────────────────────────┐\n",
       "│ embedding1                      ┆ embedding2                      │\n",
       "│ ---                             ┆ ---                             │\n",
       "│ array[f64, 384]                 ┆ array[f64, 384]                 │\n",
       "╞═════════════════════════════════╪═════════════════════════════════╡\n",
       "│ [0.017162, 0.024835, … -0.0025… ┆ [-0.038157, -0.033265, … -0.01… │\n",
       "│ [0.081221, -0.02136, … 0.06418… ┆ [0.043285, -0.041842, … 0.0431… │\n",
       "└─────────────────────────────────┴─────────────────────────────────┘"
      ]
     },
     "execution_count": 16,
     "metadata": {},
     "output_type": "execute_result"
    }
   ],
   "source": [
    "vecs.select(\"embedding1\", \"embedding2\")"
   ]
  },
  {
   "cell_type": "code",
   "execution_count": 17,
   "id": "e2b95432-a7c7-4f1a-83ab-3b962b73bf0d",
   "metadata": {
    "tags": []
   },
   "outputs": [
    {
     "data": {
      "text/html": [
       "<div><style>\n",
       ".dataframe > thead > tr,\n",
       ".dataframe > tbody > tr {\n",
       "  text-align: right;\n",
       "  white-space: pre-wrap;\n",
       "}\n",
       "</style>\n",
       "<small>shape: (2, 2)</small><table border=\"1\" class=\"dataframe\"><thead><tr><th>embedding1</th><th>embedding2</th></tr><tr><td>array[f64, 384]</td><td>array[f64, 384]</td></tr></thead><tbody><tr><td>[0.017162, 0.024835, … -0.002522]</td><td>[-0.038157, -0.033265, … -0.018642]</td></tr><tr><td>[0.081221, -0.02136, … 0.064187]</td><td>[0.043285, -0.041842, … 0.04312]</td></tr></tbody></table></div>"
      ],
      "text/plain": [
       "shape: (2, 2)\n",
       "┌─────────────────────────────────┬─────────────────────────────────┐\n",
       "│ embedding1                      ┆ embedding2                      │\n",
       "│ ---                             ┆ ---                             │\n",
       "│ array[f64, 384]                 ┆ array[f64, 384]                 │\n",
       "╞═════════════════════════════════╪═════════════════════════════════╡\n",
       "│ [0.017162, 0.024835, … -0.0025… ┆ [-0.038157, -0.033265, … -0.01… │\n",
       "│ [0.081221, -0.02136, … 0.06418… ┆ [0.043285, -0.041842, … 0.0431… │\n",
       "└─────────────────────────────────┴─────────────────────────────────┘"
      ]
     },
     "execution_count": 17,
     "metadata": {},
     "output_type": "execute_result"
    }
   ],
   "source": [
    "vecs[[\"embedding1\", \"embedding2\"]]"
   ]
  },
  {
   "cell_type": "code",
   "execution_count": 18,
   "id": "66908eff-2f70-4413-8f7c-06ba0312aa7b",
   "metadata": {
    "tags": []
   },
   "outputs": [],
   "source": [
    "import polars as pl"
   ]
  },
  {
   "cell_type": "code",
   "execution_count": 23,
   "id": "76bd6880-51a7-43ab-95b2-ec69fae9008d",
   "metadata": {
    "tags": []
   },
   "outputs": [
    {
     "name": "stdout",
     "output_type": "stream",
     "text": [
      "shape: (4,)\n",
      "Series: 'embedding' [array[f64, 384]]\n",
      "[\n",
      "\t[0.017162, 0.024835, … -0.002522]\n",
      "\t[0.081221, -0.02136, … 0.064187]\n",
      "\t[-0.038157, -0.033265, … -0.018642]\n",
      "\t[0.043285, -0.041842, … 0.04312]\n",
      "]\n"
     ]
    }
   ],
   "source": [
    "print(pl.concat([vecs[\"embedding1\"], vecs[\"embedding2\"]], how=\"vertical\").rename(\"embedding\"))"
   ]
  },
  {
   "cell_type": "code",
   "execution_count": 24,
   "id": "74a10154-f7cd-4d79-a420-72b068fc4d29",
   "metadata": {
    "tags": []
   },
   "outputs": [
    {
     "name": "stdout",
     "output_type": "stream",
     "text": [
      "<class 'polars.series.series.Series'>\n"
     ]
    }
   ],
   "source": [
    "print(pl.concat([vecs[\"embedding1\"], vecs[\"embedding2\"]], how=\"vertical\").__class__)"
   ]
  },
  {
   "cell_type": "code",
   "execution_count": 27,
   "id": "b95e3cce-f3c2-48a7-853d-034fbc8ec955",
   "metadata": {
    "tags": []
   },
   "outputs": [
    {
     "data": {
      "text/plain": [
       "array([3.79999995, 3.79999995])"
      ]
     },
     "execution_count": 27,
     "metadata": {},
     "output_type": "execute_result"
    }
   ],
   "source": [
    "vecs.select(\"label\").to_numpy().reshape(2)"
   ]
  },
  {
   "cell_type": "code",
   "execution_count": 28,
   "id": "6ffb460c-1aeb-477f-8997-c52a7f7cd1de",
   "metadata": {
    "tags": []
   },
   "outputs": [
    {
     "data": {
      "text/html": [
       "<div><style>\n",
       ".dataframe > thead > tr,\n",
       ".dataframe > tbody > tr {\n",
       "  text-align: right;\n",
       "  white-space: pre-wrap;\n",
       "}\n",
       "</style>\n",
       "<small>shape: (2, 1)</small><table border=\"1\" class=\"dataframe\"><thead><tr><th>label</th></tr><tr><td>f64</td></tr></thead><tbody><tr><td>3.8</td></tr><tr><td>3.8</td></tr></tbody></table></div>"
      ],
      "text/plain": [
       "shape: (2, 1)\n",
       "┌───────┐\n",
       "│ label │\n",
       "│ ---   │\n",
       "│ f64   │\n",
       "╞═══════╡\n",
       "│ 3.8   │\n",
       "│ 3.8   │\n",
       "└───────┘"
      ]
     },
     "execution_count": 28,
     "metadata": {},
     "output_type": "execute_result"
    }
   ],
   "source": [
    "vecs.select(\"label\")"
   ]
  },
  {
   "cell_type": "code",
   "execution_count": null,
   "id": "5466d45c-efe8-4f7e-92ba-5f378ec2749f",
   "metadata": {},
   "outputs": [],
   "source": []
  }
 ],
 "metadata": {
  "kernelspec": {
   "display_name": "Python 3",
   "language": "python",
   "name": "python3"
  },
  "language_info": {
   "codemirror_mode": {
    "name": "ipython",
    "version": 3
   },
   "file_extension": ".py",
   "mimetype": "text/x-python",
   "name": "python",
   "nbconvert_exporter": "python",
   "pygments_lexer": "ipython3",
   "version": "3.10.14"
  }
 },
 "nbformat": 4,
 "nbformat_minor": 5
}
